{
 "cells": [
  {
   "cell_type": "code",
   "execution_count": 0,
   "metadata": {
    "application/vnd.databricks.v1+cell": {
     "cellMetadata": {
      "byteLimit": 2048000,
      "rowLimit": 10000
     },
     "inputWidgets": {},
     "nuid": "9246fbb3-bad1-4ce0-9412-f22e5b0fe1b6",
     "showTitle": false,
     "tableResultSettingsMap": {},
     "title": ""
    }
   },
   "outputs": [],
   "source": [
    "#setup\n",
    "from pyspark.sql import SparkSession\n",
    "from pyspark.sql.functions import col, count, round, sum, avg, when\n",
    "from pyspark.sql.window import Window\n",
    "from pyspark.sql.functions import broadcast\n",
    "import pandas as pd\n",
    "import matplotlib.pyplot as plt"
   ]
  },
  {
   "cell_type": "code",
   "execution_count": 0,
   "metadata": {
    "application/vnd.databricks.v1+cell": {
     "cellMetadata": {
      "byteLimit": 2048000,
      "rowLimit": 10000
     },
     "inputWidgets": {},
     "nuid": "c7f98357-2b99-4e70-b6cb-deb03bc59b17",
     "showTitle": false,
     "tableResultSettingsMap": {},
     "title": ""
    }
   },
   "outputs": [],
   "source": [
    "#iniciar spark\n",
    "spark = SparkSession.builder \\\n",
    "    .appName(\"Case ifood teste AB\") \\\n",
    "    .getOrCreate()"
   ]
  },
  {
   "cell_type": "code",
   "execution_count": 0,
   "metadata": {
    "application/vnd.databricks.v1+cell": {
     "cellMetadata": {
      "byteLimit": 2048000,
      "rowLimit": 10000
     },
     "inputWidgets": {},
     "nuid": "5c74316d-6588-4ef4-8f61-2080e2650fff",
     "showTitle": false,
     "tableResultSettingsMap": {},
     "title": ""
    }
   },
   "outputs": [],
   "source": [
    "#caminho para buscar os dados\n",
    "base_path = \"/Volumes/workspace/default/case_ifood/process/\""
   ]
  },
  {
   "cell_type": "code",
   "execution_count": 0,
   "metadata": {
    "application/vnd.databricks.v1+cell": {
     "cellMetadata": {
      "byteLimit": 2048000,
      "rowLimit": 10000
     },
     "inputWidgets": {},
     "nuid": "c06f5b4e-a1ea-4a39-bac4-37006a0dce64",
     "showTitle": false,
     "tableResultSettingsMap": {},
     "title": ""
    }
   },
   "outputs": [
    {
     "output_type": "stream",
     "name": "stdout",
     "output_type": "stream",
     "text": [
      "+--------------------+--------------------+------------------+\n|         customer_id|            order_id|order_total_amount|\n+--------------------+--------------------+------------------+\n|7ba88a68bb2a3504c...|33e0612d62e5eb42a...|              46.0|\n+--------------------+--------------------+------------------+\n\n+--------------------+---------+\n|         customer_id|is_target|\n+--------------------+---------+\n|755e1fa18f25caec5...|   target|\n+--------------------+---------+\n\n"
     ]
    }
   ],
   "source": [
    "#popular datasets\n",
    "df_pedido = spark.read.format(\"delta\").load(base_path+\"pedido\") .select(\"customer_id\", \"order_id\", \"order_total_amount\")\n",
    "df_teste  = spark.read.format(\"delta\").load(base_path+\"teste\")\n",
    "df_pedido.limit(1).show()\n",
    "df_teste.limit(1).show()"
   ]
  },
  {
   "cell_type": "code",
   "execution_count": 0,
   "metadata": {
    "application/vnd.databricks.v1+cell": {
     "cellMetadata": {
      "byteLimit": 2048000,
      "rowLimit": 10000
     },
     "inputWidgets": {},
     "nuid": "4b0fb397-8133-49c2-91f3-5bcac4e92e99",
     "showTitle": false,
     "tableResultSettingsMap": {},
     "title": ""
    }
   },
   "outputs": [
    {
     "output_type": "stream",
     "name": "stdout",
     "output_type": "stream",
     "text": [
      "+--------------------+--------------------+------------------+---------+\n|         customer_id|            order_id|order_total_amount|is_target|\n+--------------------+--------------------+------------------+---------+\n|7ba88a68bb2a3504c...|33e0612d62e5eb42a...|              46.0|  control|\n+--------------------+--------------------+------------------+---------+\n\n"
     ]
    }
   ],
   "source": [
    "#join para ter o dados do teste AB\n",
    "df_analise_target = df_pedido.join(broadcast(df_teste), on=\"customer_id\",how=\"inner\")\n",
    "df_analise_target.limit(1).show()"
   ]
  },
  {
   "cell_type": "code",
   "execution_count": 0,
   "metadata": {
    "application/vnd.databricks.v1+cell": {
     "cellMetadata": {
      "byteLimit": 2048000,
      "rowLimit": 10000
     },
     "inputWidgets": {},
     "nuid": "fd06f31c-f651-4a5f-9cc0-6f3f7d0cb7a3",
     "showTitle": false,
     "tableResultSettingsMap": {},
     "title": ""
    }
   },
   "outputs": [
    {
     "output_type": "stream",
     "name": "stdout",
     "output_type": "stream",
     "text": [
      "+--------------------+---------+-----------+------------+\n|         customer_id|is_target|num_pedidos|ticket_medio|\n+--------------------+---------+-----------+------------+\n|d5e5786712aab146d...|   target|          2|       54.85|\n|75079416ac8a6ffa2...|   target|          8|        30.8|\n|c3d63c8da7deacfe7...|  control|          1|        13.0|\n|0cdb302403bc5f856...|   target|         28|       26.79|\n|b9f1a6d57026536b9...|  control|         33|       41.13|\n+--------------------+---------+-----------+------------+\n\n"
     ]
    }
   ],
   "source": [
    "#Agregações por usuário: número de pedidos e ticket médio\n",
    "df_analise_por_user = (\n",
    "    df_analise_target.groupBy(\"customer_id\", \"is_target\")\n",
    "    .agg(\n",
    "        count(\"order_id\").alias(\"num_pedidos\"),\n",
    "        avg(\"order_total_amount\").alias(\"ticket_medio_raw\")\n",
    "    )\n",
    "    .withColumn(\"ticket_medio\", round(col(\"ticket_medio_raw\"), 2))\n",
    "    .drop(\"ticket_medio_raw\")\n",
    ")\n",
    "df_analise_por_user.limit(5).show()"
   ]
  },
  {
   "cell_type": "code",
   "execution_count": 0,
   "metadata": {
    "application/vnd.databricks.v1+cell": {
     "cellMetadata": {
      "byteLimit": 2048000,
      "rowLimit": 10000
     },
     "inputWidgets": {},
     "nuid": "8c1581f9-f00e-44f7-bc82-6fc5aa0c4eb6",
     "showTitle": false,
     "tableResultSettingsMap": {},
     "title": ""
    }
   },
   "outputs": [
    {
     "output_type": "display_data",
     "data": {
      "text/html": [
       "<style scoped>\n",
       "  .table-result-container {\n",
       "    max-height: 300px;\n",
       "    overflow: auto;\n",
       "  }\n",
       "  table, th, td {\n",
       "    border: 1px solid black;\n",
       "    border-collapse: collapse;\n",
       "  }\n",
       "  th, td {\n",
       "    padding: 5px;\n",
       "  }\n",
       "  th {\n",
       "    text-align: left;\n",
       "  }\n",
       "</style><div class='table-result-container'><table class='table-result'><thead style='background-color: white'><tr><th>customer_id</th><th>is_target</th><th>num_pedidos</th><th>ticket_medio</th><th>retido</th></tr></thead><tbody><tr><td>d5e5786712aab146d52de71fc1218669607512be770e568b9eb611bcd311f09e</td><td>target</td><td>2</td><td>54.85</td><td>1</td></tr><tr><td>75079416ac8a6ffa2107c1ed4451cb11cb89e0be9c2323cb84343ee34dcb389b</td><td>target</td><td>8</td><td>30.8</td><td>1</td></tr><tr><td>c3d63c8da7deacfe7d213f8d0599ce192ceb7c83f0f6288a8d2b5b893b4f8b42</td><td>control</td><td>1</td><td>13.0</td><td>0</td></tr><tr><td>0cdb302403bc5f8567baa1ed22bb4fee8823b30363dca5ddd16494836cc9bee1</td><td>target</td><td>28</td><td>26.79</td><td>1</td></tr><tr><td>b9f1a6d57026536b99ddd59f71748acc51f6f2b728c89cb3c127f9ba77d49afd</td><td>control</td><td>33</td><td>41.13</td><td>1</td></tr></tbody></table></div>"
      ]
     },
     "metadata": {
      "application/vnd.databricks.v1+output": {
       "addedWidgets": {},
       "aggData": [],
       "aggError": "",
       "aggOverflow": false,
       "aggSchema": [],
       "aggSeriesLimitReached": false,
       "aggType": "",
       "arguments": {},
       "columnCustomDisplayInfos": {},
       "data": [
        [
         "d5e5786712aab146d52de71fc1218669607512be770e568b9eb611bcd311f09e",
         "target",
         2,
         54.85,
         1
        ],
        [
         "75079416ac8a6ffa2107c1ed4451cb11cb89e0be9c2323cb84343ee34dcb389b",
         "target",
         8,
         30.8,
         1
        ],
        [
         "c3d63c8da7deacfe7d213f8d0599ce192ceb7c83f0f6288a8d2b5b893b4f8b42",
         "control",
         1,
         13.0,
         0
        ],
        [
         "0cdb302403bc5f8567baa1ed22bb4fee8823b30363dca5ddd16494836cc9bee1",
         "target",
         28,
         26.79,
         1
        ],
        [
         "b9f1a6d57026536b99ddd59f71748acc51f6f2b728c89cb3c127f9ba77d49afd",
         "control",
         33,
         41.13,
         1
        ]
       ],
       "datasetInfos": [],
       "dbfsResultPath": null,
       "isJsonSchema": true,
       "metadata": {},
       "overflow": false,
       "plotOptions": {
        "customPlotOptions": {},
        "displayType": "table",
        "pivotAggregation": null,
        "pivotColumns": null,
        "xColumns": null,
        "yColumns": null
       },
       "removedWidgets": [],
       "schema": [
        {
         "metadata": "{}",
         "name": "customer_id",
         "type": "\"string\""
        },
        {
         "metadata": "{}",
         "name": "is_target",
         "type": "\"string\""
        },
        {
         "metadata": "{}",
         "name": "num_pedidos",
         "type": "\"long\""
        },
        {
         "metadata": "{}",
         "name": "ticket_medio",
         "type": "\"double\""
        },
        {
         "metadata": "{}",
         "name": "retido",
         "type": "\"integer\""
        }
       ],
       "type": "table"
      }
     },
     "output_type": "display_data"
    }
   ],
   "source": [
    "#acrescentar variavel retido\n",
    "df_analise_por_user = df_analise_por_user.withColumn(\"retido\", when(col(\"num_pedidos\") >= 2, 1).otherwise(0))\n",
    "display(df_analise_por_user.limit(5))"
   ]
  },
  {
   "cell_type": "code",
   "execution_count": 0,
   "metadata": {
    "application/vnd.databricks.v1+cell": {
     "cellMetadata": {
      "byteLimit": 2048000,
      "rowLimit": 10000
     },
     "inputWidgets": {},
     "nuid": "d496747d-424d-4def-97fc-afb541f4218f",
     "showTitle": false,
     "tableResultSettingsMap": {},
     "title": ""
    }
   },
   "outputs": [
    {
     "output_type": "stream",
     "name": "stdout",
     "output_type": "stream",
     "text": [
      "+---------+------+------------+-------------+------------+-----------------+\n|is_target|retido|qtd_usuarios|total_pedidos|ticket_medio|qtd_media_pedidos|\n+---------+------+------------+-------------+------------+-----------------+\n|  control|     0|       91201|        91201|       48.08|              1.0|\n|  control|     1|      269341|      1434375|       47.99|             5.33|\n|   target|     0|       91386|        91386|       48.05|              1.0|\n|   target|     1|      354538|      2045359|       47.78|             5.77|\n+---------+------+------------+-------------+------------+-----------------+\n\n"
     ]
    }
   ],
   "source": [
    "#Agregações por usuário: número de pedidos e ticket médio com target\n",
    "df_agg_analise= (\n",
    "    df_analise_por_user.groupBy(\"is_target\", \"retido\")\n",
    "    .agg(\n",
    "        count(\"*\").alias(\"qtd_usuarios\"),\n",
    "        sum(\"num_pedidos\").alias(\"total_pedidos\"),\n",
    "        avg(\"num_pedidos\").alias(\"raw_qtd_media_pedidos\"),\n",
    "        avg(\"ticket_medio\").alias(\"raw_media_ticket\")\n",
    "    )\n",
    "    .withColumn(\"ticket_medio\", round(col(\"raw_media_ticket\"), 2))\n",
    "    .drop(\"raw_media_ticket\")\n",
    "    .withColumn(\"qtd_media_pedidos\", round(col(\"raw_qtd_media_pedidos\"), 2))\n",
    "    .drop(\"raw_qtd_media_pedidos\")\n",
    "    .orderBy(\"is_target\", \"retido\")\n",
    ")\n",
    "df_agg_analise.show()"
   ]
  },
  {
   "cell_type": "code",
   "execution_count": 0,
   "metadata": {
    "application/vnd.databricks.v1+cell": {
     "cellMetadata": {
      "byteLimit": 2048000,
      "rowLimit": 10000
     },
     "inputWidgets": {},
     "nuid": "b54a0105-f47e-4e01-ad31-53413063cdbb",
     "showTitle": false,
     "tableResultSettingsMap": {},
     "title": ""
    }
   },
   "outputs": [
    {
     "output_type": "display_data",
     "data": {
      "text/html": [
       "<style scoped>\n",
       "  .table-result-container {\n",
       "    max-height: 300px;\n",
       "    overflow: auto;\n",
       "  }\n",
       "  table, th, td {\n",
       "    border: 1px solid black;\n",
       "    border-collapse: collapse;\n",
       "  }\n",
       "  th, td {\n",
       "    padding: 5px;\n",
       "  }\n",
       "  th {\n",
       "    text-align: left;\n",
       "  }\n",
       "</style><div class='table-result-container'><table class='table-result'><thead style='background-color: white'><tr><th>is_target</th><th>retido</th><th>qtd_usuarios</th><th>total_pedidos</th><th>ticket_medio</th><th>qtd_media_pedidos</th><th>total_por_grupo</th><th>taxa_retencao</th></tr></thead><tbody><tr><td>control</td><td>0</td><td>91201</td><td>91201</td><td>48.08</td><td>1.0</td><td>360542</td><td>25.3</td></tr><tr><td>control</td><td>1</td><td>269341</td><td>1434375</td><td>47.99</td><td>5.33</td><td>360542</td><td>74.7</td></tr><tr><td>target</td><td>0</td><td>91386</td><td>91386</td><td>48.05</td><td>1.0</td><td>445924</td><td>20.49</td></tr><tr><td>target</td><td>1</td><td>354538</td><td>2045359</td><td>47.78</td><td>5.77</td><td>445924</td><td>79.51</td></tr></tbody></table></div>"
      ]
     },
     "metadata": {
      "application/vnd.databricks.v1+output": {
       "addedWidgets": {},
       "aggData": [],
       "aggError": "",
       "aggOverflow": false,
       "aggSchema": [],
       "aggSeriesLimitReached": false,
       "aggType": "",
       "arguments": {},
       "columnCustomDisplayInfos": {},
       "data": [
        [
         "control",
         0,
         91201,
         91201,
         48.08,
         1.0,
         360542,
         25.3
        ],
        [
         "control",
         1,
         269341,
         1434375,
         47.99,
         5.33,
         360542,
         74.7
        ],
        [
         "target",
         0,
         91386,
         91386,
         48.05,
         1.0,
         445924,
         20.49
        ],
        [
         "target",
         1,
         354538,
         2045359,
         47.78,
         5.77,
         445924,
         79.51
        ]
       ],
       "datasetInfos": [],
       "dbfsResultPath": null,
       "isJsonSchema": true,
       "metadata": {},
       "overflow": false,
       "plotOptions": {
        "customPlotOptions": {},
        "displayType": "table",
        "pivotAggregation": null,
        "pivotColumns": null,
        "xColumns": null,
        "yColumns": null
       },
       "removedWidgets": [],
       "schema": [
        {
         "metadata": "{}",
         "name": "is_target",
         "type": "\"string\""
        },
        {
         "metadata": "{}",
         "name": "retido",
         "type": "\"integer\""
        },
        {
         "metadata": "{}",
         "name": "qtd_usuarios",
         "type": "\"long\""
        },
        {
         "metadata": "{}",
         "name": "total_pedidos",
         "type": "\"long\""
        },
        {
         "metadata": "{}",
         "name": "ticket_medio",
         "type": "\"double\""
        },
        {
         "metadata": "{}",
         "name": "qtd_media_pedidos",
         "type": "\"double\""
        },
        {
         "metadata": "{}",
         "name": "total_por_grupo",
         "type": "\"long\""
        },
        {
         "metadata": "{}",
         "name": "taxa_retencao",
         "type": "\"double\""
        }
       ],
       "type": "table"
      }
     },
     "output_type": "display_data"
    }
   ],
   "source": [
    "# Calcular taxa de retenção\n",
    "window_spec = Window.partitionBy(\"is_target\")\n",
    "\n",
    "df_analise_taxa = df_agg_analise.withColumn(\n",
    "    \"total_por_grupo\", sum(\"qtd_usuarios\").over(window_spec)\n",
    ").withColumn(\n",
    "    \"taxa_retencao\", round(col(\"qtd_usuarios\") / col(\"total_por_grupo\") * 100, 2)\n",
    ")\n",
    "\n",
    "display(df_analise_taxa)"
   ]
  },
  {
   "cell_type": "code",
   "execution_count": 0,
   "metadata": {
    "application/vnd.databricks.v1+cell": {
     "cellMetadata": {
      "byteLimit": 2048000,
      "rowLimit": 10000
     },
     "inputWidgets": {},
     "nuid": "074ba7c1-71ac-40c3-bcab-b56bd10fa095",
     "showTitle": false,
     "tableResultSettingsMap": {},
     "title": ""
    }
   },
   "outputs": [
    {
     "output_type": "display_data",
     "data": {
      "image/png": "[encoded data removed]",
      "text/plain": [
       "<Figure size 600x400 with 1 Axes>"
      ]
     },
     "metadata": {},
     "output_type": "display_data"
    }
   ],
   "source": [
    "#grafico taxa de retenção\n",
    "\n",
    "# Coletar dados para pandas\n",
    "df_plot = df_analise_taxa.toPandas() \n",
    "\n",
    "# Cores de identidade visual do iFood \n",
    "colors_ifood = {\n",
    "    'control': '#53565A', #cinza escuro\n",
    "    'target': '#EA1D2C'   # vermelho iFood\n",
    "}\n",
    "\n",
    "# Gráfico\n",
    "fig, ax = plt.subplots(figsize=(6, 4))\n",
    "\n",
    "# Plotando as barras\n",
    "for idx, row in df_plot.iterrows():\n",
    "    bar = ax.bar(\n",
    "        f\"{row['is_target']}\\n{'Retido' if row['retido'] == 1 else 'Não Retido'}\",\n",
    "        row['taxa_retencao'],\n",
    "        color=colors_ifood[row['is_target']]\n",
    "    )\n",
    "    ax.bar_label(bar, labels=[f\"{row['taxa_retencao']:.0f}%\"], fontsize=10, label_type='edge', padding=3)\n",
    "\n",
    "# Estilo\n",
    "ax.set_title('Taxa de Retenção por Grupo e Status de Retenção', fontsize=12, weight='bold')\n",
    "ax.set_ylabel('Taxa de Retenção (%)')\n",
    "ax.set_ylim(0, 100)\n",
    "ax.spines[['top', 'right']].set_visible(False)\n",
    "\n",
    "plt.tight_layout()\n",
    "plt.show()"
   ]
  },
  {
   "cell_type": "code",
   "execution_count": 0,
   "metadata": {
    "application/vnd.databricks.v1+cell": {
     "cellMetadata": {
      "byteLimit": 2048000,
      "rowLimit": 10000
     },
     "inputWidgets": {},
     "nuid": "6fee9b87-108a-403f-9bac-6ab43a8f141e",
     "showTitle": false,
     "tableResultSettingsMap": {},
     "title": ""
    }
   },
   "outputs": [
    {
     "output_type": "display_data",
     "data": {
      "image/png": "[encoded data removed]",
      "text/plain": [
       "<Figure size 600x400 with 1 Axes>"
      ]
     },
     "metadata": {},
     "output_type": "display_data"
    }
   ],
   "source": [
    "#grafico frequencia de pedidos\n",
    "\n",
    "# Coletar dados para pandas\n",
    "df_plot = df_analise_taxa.toPandas() \n",
    "\n",
    "# Cores de identidade visual do iFood \n",
    "colors_ifood = {\n",
    "    'control': '#53565A', #cinza escuro\n",
    "    'target': '#EA1D2C'   # vermelho iFood\n",
    "}\n",
    "\n",
    "# Gráfico\n",
    "fig, ax = plt.subplots(figsize=(6, 4))\n",
    "\n",
    "# Plotando as barras\n",
    "for idx, row in df_plot.iterrows():\n",
    "    bar = ax.bar(\n",
    "        f\"{row['is_target']}\\n{'Retido' if row['retido'] == 1 else 'Não Retido'}\",\n",
    "        row['qtd_media_pedidos'],\n",
    "        color=colors_ifood[row['is_target']]\n",
    "    )\n",
    "    ax.bar_label(bar, labels=[f\"{row['qtd_media_pedidos']:.0f}\"], fontsize=10, label_type='edge', padding=3)\n",
    "\n",
    "# Estilo\n",
    "ax.set_title('Frequencia Média de Pedidos por Grupo e Status de Retenção', fontsize=12, weight='bold')\n",
    "ax.set_ylabel('Quantidade Média de Pedidos')\n",
    "ax.set_ylim(0, 30)\n",
    "ax.spines[['top', 'right']].set_visible(False)\n",
    "\n",
    "plt.tight_layout()\n",
    "plt.show()"
   ]
  },
  {
   "cell_type": "code",
   "execution_count": 0,
   "metadata": {
    "application/vnd.databricks.v1+cell": {
     "cellMetadata": {
      "byteLimit": 2048000,
      "rowLimit": 10000
     },
     "inputWidgets": {},
     "nuid": "f82e1ceb-2d64-4682-a6ef-61546ac26ab4",
     "showTitle": false,
     "tableResultSettingsMap": {},
     "title": ""
    }
   },
   "outputs": [
    {
     "output_type": "display_data",
     "data": {
      "image/png": "[encoded data removed]",
      "text/plain": [
       "<Figure size 600x400 with 1 Axes>"
      ]
     },
     "metadata": {},
     "output_type": "display_data"
    }
   ],
   "source": [
    "#grafico Ticket Médio\n",
    "\n",
    "# Coletar dados para pandas\n",
    "df_plot = df_analise_taxa.toPandas() \n",
    "\n",
    "# Cores de identidade visual do iFood \n",
    "colors_ifood = {\n",
    "    'control': '#53565A', #cinza escuro\n",
    "    'target': '#EA1D2C'   # vermelho iFood\n",
    "}\n",
    "\n",
    "# Gráfico\n",
    "fig, ax = plt.subplots(figsize=(6, 4))\n",
    "\n",
    "# Plotando as barras\n",
    "for idx, row in df_plot.iterrows():\n",
    "    bar = ax.bar(\n",
    "        f\"{row['is_target']}\\n{'Retido' if row['retido'] == 1 else 'Não Retido'}\",\n",
    "        row['ticket_medio'],\n",
    "        color=colors_ifood[row['is_target']]\n",
    "    )\n",
    "    ax.bar_label(bar, labels=[f\"{row['ticket_medio']:.2f}\"], fontsize=10, label_type='edge', padding=3)\n",
    "\n",
    "# Estilo\n",
    "ax.set_title('Ticket Médio por Grupo e Status de Retenção', fontsize=12, weight='bold')\n",
    "ax.set_ylabel('Ticket Médio (R$)')\n",
    "ax.set_ylim(0, 100)\n",
    "ax.spines[['top', 'right']].set_visible(False)\n",
    "\n",
    "plt.tight_layout()\n",
    "plt.show()"
   ]
  },
  {
   "cell_type": "code",
   "execution_count": 0,
   "metadata": {
    "application/vnd.databricks.v1+cell": {
     "cellMetadata": {
      "byteLimit": 2048000,
      "rowLimit": 10000
     },
     "inputWidgets": {},
     "nuid": "b6e50551-226d-4d4a-8f98-b273029d1319",
     "showTitle": false,
     "tableResultSettingsMap": {},
     "title": ""
    }
   },
   "outputs": [
    {
     "output_type": "stream",
     "name": "stdout",
     "output_type": "stream",
     "text": [
      "Percentual de clientes retidos no grupo de controle: 74.7%\nPercentual de clientes retidos no grupo alvo: 79.51%\nDiferença percentual: 4.81%\n"
     ]
    }
   ],
   "source": [
    "# Filtrar percentual de retenção para control\n",
    "percentual_control = df_analise_taxa.filter(\n",
    "    (col(\"is_target\") == \"control\") & (col(\"retido\") == 1)\n",
    ").select(\"taxa_retencao\").collect()[0][0]\n",
    "\n",
    "# Filtrar percentual de retenção para target\n",
    "percentual_target = df_analise_taxa.filter(\n",
    "    (col(\"is_target\") == \"target\") & (col(\"retido\") == 1)\n",
    ").select(\"taxa_retencao\").collect()[0][0]\n",
    "\n",
    "#Valores de retenção\n",
    "print(f\"Percentual de clientes retidos no grupo de controle: {percentual_control}%\")\n",
    "print(f\"Percentual de clientes retidos no grupo alvo: {percentual_target}%\")\n",
    "print(f\"Diferença percentual: {percentual_target - percentual_control:.2f}%\")\n"
   ]
  },
  {
   "cell_type": "code",
   "execution_count": 0,
   "metadata": {
    "application/vnd.databricks.v1+cell": {
     "cellMetadata": {
      "byteLimit": 2048000,
      "rowLimit": 10000
     },
     "inputWidgets": {},
     "nuid": "bb45d924-aa3b-4d92-887f-09f8b28d5040",
     "showTitle": false,
     "tableResultSettingsMap": {},
     "title": ""
    }
   },
   "outputs": [
    {
     "output_type": "stream",
     "name": "stdout",
     "output_type": "stream",
     "text": [
      "Estatística Z: -51.231, p-valor: 0.00e+00\n"
     ]
    }
   ],
   "source": [
    "# Coletar dados para pandas\n",
    "data = df_analise_taxa.toPandas()\n",
    "\n",
    "# Separar dados\n",
    "success = [\n",
    "    data[(data['is_target'] == 'control') & (data['retido'] == 1)]['qtd_usuarios'].values[0],\n",
    "    data[(data['is_target'] == 'target') & (data['retido'] == 1)]['qtd_usuarios'].values[0]\n",
    "]\n",
    "\n",
    "nobs = [\n",
    "    data[data['is_target'] == 'control']['qtd_usuarios'].sum(),\n",
    "    data[data['is_target'] == 'target']['qtd_usuarios'].sum()\n",
    "]\n",
    "\n",
    "# Teste z de proporção\n",
    "from statsmodels.stats.proportion import proportions_ztest\n",
    "\n",
    "stat, pval = proportions_ztest(count=success, nobs=nobs)\n",
    "print(f\"Estatística Z: {stat:.3f}, p-valor: {pval:.2e}\")"
   ]
  }
 ],
 "metadata": {
  "application/vnd.databricks.v1+notebook": {
   "computePreferences": null,
   "dashboards": [],
   "environmentMetadata": {
    "base_environment": "",
    "environment_version": "2"
   },
   "inputWidgetPreferences": null,
   "language": "python",
   "notebookMetadata": {
    "pythonIndentUnit": 4
   },
   "notebookName": "Case_pergunta_1",
   "widgets": {}
  },
  "language_info": {
   "name": "python"
  }
 },
 "nbformat": 4,
 "nbformat_minor": 0
}