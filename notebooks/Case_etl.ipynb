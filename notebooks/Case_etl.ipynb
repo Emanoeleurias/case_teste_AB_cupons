{
 "cells": [
  {
   "cell_type": "code",
   "execution_count": 0,
   "metadata": {
    "application/vnd.databricks.v1+cell": {
     "cellMetadata": {
      "byteLimit": 2048000,
      "rowLimit": 10000
     },
     "inputWidgets": {},
     "nuid": "19328749-b3fa-4a1f-9031-066c6915b7ec",
     "showTitle": false,
     "tableResultSettingsMap": {},
     "title": ""
    }
   },
   "outputs": [],
   "source": [
    "#setup\n",
    "from pyspark.sql import SparkSession\n",
    "from pyspark.sql.functions import col, count,countDistinct, round, when, sum as _sum, rand"
   ]
  },
  {
   "cell_type": "code",
   "execution_count": 0,
   "metadata": {
    "application/vnd.databricks.v1+cell": {
     "cellMetadata": {
      "byteLimit": 2048000,
      "rowLimit": 10000
     },
     "inputWidgets": {},
     "nuid": "eef1060e-b8cc-41bf-b7c7-636bb0cd9858",
     "showTitle": false,
     "tableResultSettingsMap": {},
     "title": ""
    }
   },
   "outputs": [],
   "source": [
    "# Iniciar Spark\n",
    "spark = SparkSession.builder \\\n",
    "    .appName(\"Case ifood teste AB\") \\\n",
    "    .getOrCreate()"
   ]
  },
  {
   "cell_type": "code",
   "execution_count": 0,
   "metadata": {
    "application/vnd.databricks.v1+cell": {
     "cellMetadata": {
      "byteLimit": 2048000,
      "rowLimit": 10000
     },
     "inputWidgets": {},
     "nuid": "b5773aec-4d9f-4b6c-8f19-ea07d6c92e1b",
     "showTitle": false,
     "tableResultSettingsMap": {},
     "title": ""
    }
   },
   "outputs": [],
   "source": [
    "#local dos arquivos\n",
    "base_path = \"/Volumes/workspace/default/case_ifood/\""
   ]
  },
  {
   "cell_type": "code",
   "execution_count": 0,
   "metadata": {
    "application/vnd.databricks.v1+cell": {
     "cellMetadata": {
      "byteLimit": 2048000,
      "rowLimit": 10000
     },
     "inputWidgets": {},
     "nuid": "2ebaedb2-38fd-43f2-99af-2457d3920879",
     "showTitle": false,
     "tableResultSettingsMap": {},
     "title": ""
    }
   },
   "outputs": [],
   "source": [
    "#ler com spark\n",
    "df_pedido = spark.read.json(base_path + \"order.json.gz\", multiLine=True)\n",
    "df_restaurante = spark.read.option(\"header\", \"true\").option(\"inferSchema\", \"true\").csv(base_path + \"restaurant.csv.gz\")\n",
    "df_usuario = spark.read.option(\"header\", \"true\").option(\"inferSchema\", \"true\").csv(base_path + \"consumer.csv.gz\")\n",
    "df_teste = spark.read.option(\"header\", True).option(\"inferSchema\", True).csv(base_path + \"ab_test_ref.csv\")\n",
    "df_estado = spark.read.option(\"header\", True).option(\"inferSchema\", True).option(\"sep\", \";\").csv(base_path + \"ddd_estados.csv\")"
   ]
  },
  {
   "cell_type": "code",
   "execution_count": 0,
   "metadata": {
    "application/vnd.databricks.v1+cell": {
     "cellMetadata": {
      "byteLimit": 2048000,
      "rowLimit": 10000
     },
     "inputWidgets": {},
     "nuid": "ffa90b0d-2f40-4c86-824e-d1bbd403c132",
     "showTitle": false,
     "tableResultSettingsMap": {},
     "title": ""
    }
   },
   "outputs": [
    {
     "output_type": "stream",
     "name": "stdout",
     "output_type": "stream",
     "text": [
      "+--------------------+--------+--------------------+------+-------------+-------------------+---------------------+\n|         customer_id|language|          created_at|active|customer_name|customer_phone_area|customer_phone_number|\n+--------------------+--------+--------------------+------+-------------+-------------------+---------------------+\n|e8cc60860e09c0bb1...|   pt-br|2018-04-05 14:49:...|  true|         NUNO|                 46|            816135924|\n+--------------------+--------+--------------------+------+-------------+-------------------+---------------------+\n\n+--------------------+--------------------+-------+-----------+--------------+------------+-------------+-------------------+-----------------+--------------+--------------+----------------+\n|                  id|          created_at|enabled|price_range|average_ticket|takeout_time|delivery_time|minimum_order_value|merchant_zip_code| merchant_city|merchant_state|merchant_country|\n+--------------------+--------------------+-------+-----------+--------------+------------+-------------+-------------------+-----------------+--------------+--------------+----------------+\n|d19ff6fca6288939b...|2017-01-23 12:52:...|  false|          3|          60.0|           0|           50|               30.0|            14025|RIBEIRAO PRETO|            SP|              BR|\n+--------------------+--------------------+-------+-----------+--------------+------------+-------------+-------------------+-----------------+--------------+--------------+----------------+\n\n+--------------------+---------+\n|         customer_id|is_target|\n+--------------------+---------+\n|755e1fa18f25caec5...|   target|\n+--------------------+---------+\n\n+-----------+--------------------+-------------+---------------------+------------------------+-------------------------+----------------------------+-------------------------+--------------------------+----------------------+-------------------------+--------------------+--------------------+-----------------+------------------+-----------------+--------------------+--------------------+---------------+------------------+---------------+\n|        cpf|         customer_id|customer_name|delivery_address_city|delivery_address_country|delivery_address_district|delivery_address_external_id|delivery_address_latitude|delivery_address_longitude|delivery_address_state|delivery_address_zip_code|               items|         merchant_id|merchant_latitude|merchant_longitude|merchant_timezone|    order_created_at|            order_id|order_scheduled|order_total_amount|origin_platform|\n+-----------+--------------------+-------------+---------------------+------------------------+-------------------------+----------------------------+-------------------------+--------------------------+----------------------+-------------------------+--------------------+--------------------+-----------------+------------------+-----------------+--------------------+--------------------+---------------+------------------+---------------+\n|80532101763|7ba88a68bb2a3504c...|      GUSTAVO|               FRANCA|                      BR|         JARDIM ESPRAIADO|                     6736655|                   -47.39|                    -20.55|                    SP|                    14403|[{\"name\": \"Parmeg...|a992a079a651e699d...|           -47.39|            -20.55|America/Sao_Paulo|2019-01-17T22:50:...|33e0612d62e5eb42a...|          false|              46.0|        ANDROID|\n+-----------+--------------------+-------------+---------------------+------------------------+-------------------------+----------------------------+-------------------------+--------------------------+----------------------+-------------------------+--------------------+--------------------+-----------------+------------------+-----------------+--------------------+--------------------+---------------+------------------+---------------+\n\n+-----+---+\n|SG_UF|DDD|\n+-----+---+\n|   RO| 69|\n+-----+---+\n\n"
     ]
    }
   ],
   "source": [
    "df_usuario.limit(1).show()\n",
    "df_restaurante.limit(1).show()\n",
    "df_teste.limit(1).show()\n",
    "df_pedido.limit(1).show()\n",
    "df_estado.limit(1).show()"
   ]
  },
  {
   "cell_type": "markdown",
   "metadata": {
    "application/vnd.databricks.v1+cell": {
     "cellMetadata": {
      "byteLimit": 2048000,
      "rowLimit": 10000
     },
     "inputWidgets": {},
     "nuid": "03043679-98aa-4677-8773-f70cfdb391b3",
     "showTitle": false,
     "tableResultSettingsMap": {},
     "title": ""
    }
   },
   "source": [
    "**Entendimento df_usuario**"
   ]
  },
  {
   "cell_type": "code",
   "execution_count": 0,
   "metadata": {
    "application/vnd.databricks.v1+cell": {
     "cellMetadata": {
      "byteLimit": 2048000,
      "rowLimit": 10000
     },
     "inputWidgets": {},
     "nuid": "38b48622-d7df-4683-9ae8-b03ca3fb1892",
     "showTitle": false,
     "tableResultSettingsMap": {},
     "title": ""
    }
   },
   "outputs": [
    {
     "output_type": "stream",
     "name": "stdout",
     "output_type": "stream",
     "text": [
      "(806156, 7)\n"
     ]
    },
    {
     "output_type": "display_data",
     "data": {
      "text/html": [
       "<style scoped>\n",
       "  .table-result-container {\n",
       "    max-height: 300px;\n",
       "    overflow: auto;\n",
       "  }\n",
       "  table, th, td {\n",
       "    border: 1px solid black;\n",
       "    border-collapse: collapse;\n",
       "  }\n",
       "  th, td {\n",
       "    padding: 5px;\n",
       "  }\n",
       "  th {\n",
       "    text-align: left;\n",
       "  }\n",
       "</style><div class='table-result-container'><table class='table-result'><thead style='background-color: white'><tr><th>customer_id</th><th>language</th><th>created_at</th><th>active</th><th>customer_name</th><th>customer_phone_area</th><th>customer_phone_number</th></tr></thead><tbody><tr><td>e8cc60860e09c0bb19610b06ced69c973eb83982cfc98e397ce65cba92f70928</td><td>pt-br</td><td>2018-04-05T14:49:18.165Z</td><td>true</td><td>NUNO</td><td>46</td><td>816135924</td></tr><tr><td>a2834a38a9876cf74e016524dd2e8c1f010ee12b2b684d58c40ab11eef19b6eb</td><td>pt-br</td><td>2018-01-14T21:40:02.141Z</td><td>true</td><td>ADRIELLY</td><td>59</td><td>231330577</td></tr><tr><td>41e1051728eba13341136d67d0757f8d8cc44b2a405b718a8c5efba2c093b2c0</td><td>pt-br</td><td>2018-01-07T03:47:15.554Z</td><td>true</td><td>PAULA</td><td>62</td><td>347597883</td></tr><tr><td>8e7c1dcb64edf95c935147f6d560cb068c44714cb1b21b287f1f433ae7b0b04e</td><td>pt-br</td><td>2018-01-10T22:17:08.160Z</td><td>true</td><td>HELTON</td><td>13</td><td>719366842</td></tr><tr><td>7823d4cf4150c5daeae0bd799206852fc123bdef0cf5d1639c8cb568d73e8c83</td><td>pt-br</td><td>2018-04-06T00:16:20.935Z</td><td>true</td><td>WENDER</td><td>76</td><td>543232158</td></tr><tr><td>77e6a36569f6c8f357a661ef59b7854c1701e538ceb5a3a7821dd44797944e0c</td><td>pt-br</td><td>2018-01-27T20:00:11.176Z</td><td>true</td><td>MICHELLE</td><td>90</td><td>806008944</td></tr><tr><td>0ce03c2b567f34f421372f0a8b70c6bfd04308d134d52b4436682b304f6d7dd8</td><td>pt-br</td><td>2018-01-04T14:12:16.843Z</td><td>true</td><td>MARLOS</td><td>18</td><td>724199206</td></tr><tr><td>7c2c4d1fe3ce743583c15365efb8ee4ab90d92b5768ffa18b6bc659f3f86c953</td><td>pt-br</td><td>2018-03-18T20:57:06.301Z</td><td>true</td><td>REBECCA</td><td>32</td><td>454530554</td></tr><tr><td>d5de3aa126ae18fd98c65fd544548cc926b36caeb8309a213631d86901bd6074</td><td>pt-br</td><td>2018-01-08T22:19:15.852Z</td><td>true</td><td>KELLY</td><td>72</td><td>47158438</td></tr><tr><td>fc3b69d0454f1ec8c1d196f0d4e9a7cc1409dbc87339a89c0725ec9c054a4765</td><td>pt-br</td><td>2018-01-04T02:01:17.478Z</td><td>true</td><td>ANA</td><td>91</td><td>533597575</td></tr></tbody></table></div>"
      ]
     },
     "metadata": {
      "application/vnd.databricks.v1+output": {
       "addedWidgets": {},
       "aggData": [],
       "aggError": "",
       "aggOverflow": false,
       "aggSchema": [],
       "aggSeriesLimitReached": false,
       "aggType": "",
       "arguments": {},
       "columnCustomDisplayInfos": {},
       "data": [
        [
         "e8cc60860e09c0bb19610b06ced69c973eb83982cfc98e397ce65cba92f70928",
         "pt-br",
         "2018-04-05T14:49:18.165Z",
         true,
         "NUNO",
         46,
         816135924
        ],
        [
         "a2834a38a9876cf74e016524dd2e8c1f010ee12b2b684d58c40ab11eef19b6eb",
         "pt-br",
         "2018-01-14T21:40:02.141Z",
         true,
         "ADRIELLY",
         59,
         231330577
        ],
        [
         "41e1051728eba13341136d67d0757f8d8cc44b2a405b718a8c5efba2c093b2c0",
         "pt-br",
         "2018-01-07T03:47:15.554Z",
         true,
         "PAULA",
         62,
         347597883
        ],
        [
         "8e7c1dcb64edf95c935147f6d560cb068c44714cb1b21b287f1f433ae7b0b04e",
         "pt-br",
         "2018-01-10T22:17:08.160Z",
         true,
         "HELTON",
         13,
         719366842
        ],
        [
         "7823d4cf4150c5daeae0bd799206852fc123bdef0cf5d1639c8cb568d73e8c83",
         "pt-br",
         "2018-04-06T00:16:20.935Z",
         true,
         "WENDER",
         76,
         543232158
        ],
        [
         "77e6a36569f6c8f357a661ef59b7854c1701e538ceb5a3a7821dd44797944e0c",
         "pt-br",
         "2018-01-27T20:00:11.176Z",
         true,
         "MICHELLE",
         90,
         806008944
        ],
        [
         "0ce03c2b567f34f421372f0a8b70c6bfd04308d134d52b4436682b304f6d7dd8",
         "pt-br",
         "2018-01-04T14:12:16.843Z",
         true,
         "MARLOS",
         18,
         724199206
        ],
        [
         "7c2c4d1fe3ce743583c15365efb8ee4ab90d92b5768ffa18b6bc659f3f86c953",
         "pt-br",
         "2018-03-18T20:57:06.301Z",
         true,
         "REBECCA",
         32,
         454530554
        ],
        [
         "d5de3aa126ae18fd98c65fd544548cc926b36caeb8309a213631d86901bd6074",
         "pt-br",
         "2018-01-08T22:19:15.852Z",
         true,
         "KELLY",
         72,
         47158438
        ],
        [
         "fc3b69d0454f1ec8c1d196f0d4e9a7cc1409dbc87339a89c0725ec9c054a4765",
         "pt-br",
         "2018-01-04T02:01:17.478Z",
         true,
         "ANA",
         91,
         533597575
        ]
       ],
       "datasetInfos": [],
       "dbfsResultPath": null,
       "isJsonSchema": true,
       "metadata": {},
       "overflow": false,
       "plotOptions": {
        "customPlotOptions": {},
        "displayType": "table",
        "pivotAggregation": null,
        "pivotColumns": null,
        "xColumns": null,
        "yColumns": null
       },
       "removedWidgets": [],
       "schema": [
        {
         "metadata": "{}",
         "name": "customer_id",
         "type": "\"string\""
        },
        {
         "metadata": "{}",
         "name": "language",
         "type": "\"string\""
        },
        {
         "metadata": "{}",
         "name": "created_at",
         "type": "\"timestamp\""
        },
        {
         "metadata": "{}",
         "name": "active",
         "type": "\"boolean\""
        },
        {
         "metadata": "{}",
         "name": "customer_name",
         "type": "\"string\""
        },
        {
         "metadata": "{}",
         "name": "customer_phone_area",
         "type": "\"integer\""
        },
        {
         "metadata": "{}",
         "name": "customer_phone_number",
         "type": "\"integer\""
        }
       ],
       "type": "table"
      }
     },
     "output_type": "display_data"
    },
    {
     "output_type": "stream",
     "name": "stdout",
     "output_type": "stream",
     "text": [
      "['customer_id', 'language', 'created_at', 'active', 'customer_name', 'customer_phone_area', 'customer_phone_number']\nroot\n |-- customer_id: string (nullable = true)\n |-- language: string (nullable = true)\n |-- created_at: timestamp (nullable = true)\n |-- active: boolean (nullable = true)\n |-- customer_name: string (nullable = true)\n |-- customer_phone_area: integer (nullable = true)\n |-- customer_phone_number: integer (nullable = true)\n\n+-------+--------------------+--------+-------------+-------------------+---------------------+\n|summary|         customer_id|language|customer_name|customer_phone_area|customer_phone_number|\n+-------+--------------------+--------+-------------+-------------------+---------------------+\n|  count|              806156|  806156|       806156|             806156|               806156|\n|   mean|                NULL|    NULL|          NaN|  49.56521194409022|  5.006510006290433E8|\n| stddev|                NULL|    NULL|          NaN|  28.83715985569671| 2.8848735312841815E8|\n|    min|000009e29b12d8c5b...|   es-ar|       !\"VERA|                  0|              1000678|\n|    max|ffffeda85b466b481...|   pt-br|      •fanilo|                 99|            999998441|\n+-------+--------------------+--------+-------------+-------------------+---------------------+\n\n"
     ]
    }
   ],
   "source": [
    "#entendimento df\n",
    "print((df_usuario.count(), len(df_usuario.columns)))\n",
    "display(df_usuario.limit(10))\n",
    "print(df_usuario.columns)\n",
    "df_usuario.printSchema()\n",
    "df_usuario.describe().show()"
   ]
  },
  {
   "cell_type": "code",
   "execution_count": 0,
   "metadata": {
    "application/vnd.databricks.v1+cell": {
     "cellMetadata": {
      "byteLimit": 2048000,
      "rowLimit": 10000
     },
     "inputWidgets": {},
     "nuid": "157bfe3b-9262-468e-bb43-c58f43c1b257",
     "showTitle": false,
     "tableResultSettingsMap": {},
     "title": ""
    }
   },
   "outputs": [
    {
     "output_type": "stream",
     "name": "stdout",
     "output_type": "stream",
     "text": [
      "root\n |-- customer_id: string (nullable = true)\n |-- language: string (nullable = true)\n |-- created_at: timestamp (nullable = true)\n |-- active: boolean (nullable = true)\n |-- customer_name: string (nullable = true)\n |-- customer_phone_area: string (nullable = true)\n |-- customer_phone_number: string (nullable = true)\n\n"
     ]
    }
   ],
   "source": [
    "#converte tipo de colunas que estão diferente do dicionario de dados\n",
    "colunas_para_converter = [\"customer_phone_area\", \"customer_phone_number\"]\n",
    "\n",
    "for c in colunas_para_converter:\n",
    "    df_usuario = df_usuario.withColumn(c, col(c).cast(\"string\"))\n",
    "\n",
    "df_usuario.printSchema()"
   ]
  },
  {
   "cell_type": "code",
   "execution_count": 0,
   "metadata": {
    "application/vnd.databricks.v1+cell": {
     "cellMetadata": {
      "byteLimit": 2048000,
      "rowLimit": 10000
     },
     "inputWidgets": {},
     "nuid": "224aec87-fcea-49d6-8d8d-5b4e767307e1",
     "showTitle": false,
     "tableResultSettingsMap": {},
     "title": ""
    }
   },
   "outputs": [
    {
     "output_type": "display_data",
     "data": {
      "text/html": [
       "<style scoped>\n",
       "  .table-result-container {\n",
       "    max-height: 300px;\n",
       "    overflow: auto;\n",
       "  }\n",
       "  table, th, td {\n",
       "    border: 1px solid black;\n",
       "    border-collapse: collapse;\n",
       "  }\n",
       "  th, td {\n",
       "    padding: 5px;\n",
       "  }\n",
       "  th {\n",
       "    text-align: left;\n",
       "  }\n",
       "</style><div class='table-result-container'><table class='table-result'><thead style='background-color: white'><tr><th>customer_id_nulls</th><th>language_nulls</th><th>created_at_nulls</th><th>active_nulls</th><th>customer_name_nulls</th><th>customer_phone_area_nulls</th><th>customer_phone_number_nulls</th></tr></thead><tbody><tr><td>0</td><td>0</td><td>0</td><td>0</td><td>0</td><td>0</td><td>0</td></tr></tbody></table></div>"
      ]
     },
     "metadata": {
      "application/vnd.databricks.v1+output": {
       "addedWidgets": {},
       "aggData": [],
       "aggError": "",
       "aggOverflow": false,
       "aggSchema": [],
       "aggSeriesLimitReached": false,
       "aggType": "",
       "arguments": {},
       "columnCustomDisplayInfos": {},
       "data": [
        [
         0,
         0,
         0,
         0,
         0,
         0,
         0
        ]
       ],
       "datasetInfos": [],
       "dbfsResultPath": null,
       "isJsonSchema": true,
       "metadata": {},
       "overflow": false,
       "plotOptions": {
        "customPlotOptions": {},
        "displayType": "table",
        "pivotAggregation": null,
        "pivotColumns": null,
        "xColumns": null,
        "yColumns": null
       },
       "removedWidgets": [],
       "schema": [
        {
         "metadata": "{}",
         "name": "customer_id_nulls",
         "type": "\"long\""
        },
        {
         "metadata": "{}",
         "name": "language_nulls",
         "type": "\"long\""
        },
        {
         "metadata": "{}",
         "name": "created_at_nulls",
         "type": "\"long\""
        },
        {
         "metadata": "{}",
         "name": "active_nulls",
         "type": "\"long\""
        },
        {
         "metadata": "{}",
         "name": "customer_name_nulls",
         "type": "\"long\""
        },
        {
         "metadata": "{}",
         "name": "customer_phone_area_nulls",
         "type": "\"long\""
        },
        {
         "metadata": "{}",
         "name": "customer_phone_number_nulls",
         "type": "\"long\""
        }
       ],
       "type": "table"
      }
     },
     "output_type": "display_data"
    }
   ],
   "source": [
    "#mostra nulls\n",
    "display( df_usuario.select([\n",
    "    count(when(col(c).isNull(), c)).alias(c + \"_nulls\")\n",
    "    for c in df_usuario.columns\n",
    "]))"
   ]
  },
  {
   "cell_type": "markdown",
   "metadata": {
    "application/vnd.databricks.v1+cell": {
     "cellMetadata": {
      "byteLimit": 2048000,
      "rowLimit": 10000
     },
     "inputWidgets": {},
     "nuid": "30d9caba-a355-465c-9570-cf2bee64a338",
     "showTitle": false,
     "tableResultSettingsMap": {},
     "title": ""
    }
   },
   "source": [
    "**Entendimento df_restaurante**"
   ]
  },
  {
   "cell_type": "code",
   "execution_count": 0,
   "metadata": {
    "application/vnd.databricks.v1+cell": {
     "cellMetadata": {
      "byteLimit": 2048000,
      "rowLimit": 10000
     },
     "inputWidgets": {},
     "nuid": "f95e7b2d-53ef-415b-a149-240eb1223cd4",
     "showTitle": false,
     "tableResultSettingsMap": {},
     "title": ""
    }
   },
   "outputs": [
    {
     "output_type": "stream",
     "name": "stdout",
     "output_type": "stream",
     "text": [
      "(7292, 7)\n"
     ]
    },
    {
     "output_type": "display_data",
     "data": {
      "text/html": [
       "<style scoped>\n",
       "  .table-result-container {\n",
       "    max-height: 300px;\n",
       "    overflow: auto;\n",
       "  }\n",
       "  table, th, td {\n",
       "    border: 1px solid black;\n",
       "    border-collapse: collapse;\n",
       "  }\n",
       "  th, td {\n",
       "    padding: 5px;\n",
       "  }\n",
       "  th {\n",
       "    text-align: left;\n",
       "  }\n",
       "</style><div class='table-result-container'><table class='table-result'><thead style='background-color: white'><tr><th>id</th><th>created_at</th><th>enabled</th><th>price_range</th><th>average_ticket</th><th>takeout_time</th><th>delivery_time</th><th>minimum_order_value</th><th>merchant_zip_code</th><th>merchant_city</th><th>merchant_state</th><th>merchant_country</th></tr></thead><tbody><tr><td>d19ff6fca6288939bff073ad0a119d25c0365c407e9e5dd999e7a3e53c6d5d76</td><td>2017-01-23T12:52:30.910Z</td><td>false</td><td>3</td><td>60.0</td><td>0</td><td>50</td><td>30.0</td><td>14025</td><td>RIBEIRAO PRETO</td><td>SP</td><td>BR</td></tr><tr><td>631df0985fdbbaf27b9b031a8f381924e3483833385748c8f7e1a41a6891d2b9</td><td>2017-01-20T13:14:48.286Z</td><td>true</td><td>3</td><td>60.0</td><td>0</td><td>0</td><td>30.0</td><td>50180</td><td>SAO PAULO</td><td>SP</td><td>BR</td></tr><tr><td>135c5c4ae4c1ec1fdc23e8c649f313e39be8db913d8bc5aaff9bfddb548f096d</td><td>2017-01-23T12:46:33.457Z</td><td>true</td><td>5</td><td>100.0</td><td>0</td><td>45</td><td>10.0</td><td>23090</td><td>RIO DE JANEIRO</td><td>RJ</td><td>BR</td></tr><tr><td>d26f84c470451f752bef036c55517b6d9950d41806f10e94e8b5734241468768</td><td>2017-01-20T13:15:04.806Z</td><td>true</td><td>3</td><td>80.0</td><td>0</td><td>0</td><td>18.9</td><td>40255</td><td>SALVADOR</td><td>BA</td><td>BR</td></tr><tr><td>97b9884600ea7192314580d9115f8882b8634f5aa201ff9a6df206e49343a283</td><td>2017-01-20T13:14:27.701Z</td><td>true</td><td>3</td><td>60.0</td><td>0</td><td>0</td><td>25.0</td><td>64600</td><td>BARUERI</td><td>SP</td><td>BR</td></tr><tr><td>1ec1343b97cae3e3fc561926425f5fa9ee514f4cbcc99b8b3d0689af3b1e8197</td><td>2017-01-23T12:36:59.158Z</td><td>false</td><td>1</td><td>30.0</td><td>0</td><td>60</td><td>10.0</td><td>18030</td><td>SOROCABA</td><td>SP</td><td>BR</td></tr><tr><td>a296322ddb834e65ac755cc1fa1cf1957d4f6134ef088419024a361640aa286a</td><td>2017-01-23T12:40:20.431Z</td><td>false</td><td>1</td><td>30.0</td><td>0</td><td>70</td><td>11.0</td><td>13208</td><td>JUNDIAI</td><td>SP</td><td>BR</td></tr><tr><td>283f457637aa69ef68df6d8ca077349bf86219c01f918ba1ffcbcbefcf944aac</td><td>2017-01-20T13:14:31.699Z</td><td>true</td><td>4</td><td>80.0</td><td>0</td><td>30</td><td>24.0</td><td>34020</td><td>SAO PAULO</td><td>SP</td><td>BR</td></tr><tr><td>d171f94340260767e67ae9a520ae9881949dba7945771d5248707bc07847f05f</td><td>2017-01-20T13:13:05.136Z</td><td>false</td><td>5</td><td>81.0</td><td>30</td><td>15</td><td>10.0</td><td>45380</td><td>SAO PAULO</td><td>SP</td><td>BR</td></tr><tr><td>1b8219cc06c6b99de0cfd80d2fef350ed0494ad88ceab0e643238da12dbf2559</td><td>2017-01-20T13:15:57.202Z</td><td>false</td><td>1</td><td>30.0</td><td>0</td><td>30</td><td>0.0</td><td>60541</td><td>FORTALEZA</td><td>CE</td><td>BR</td></tr></tbody></table></div>"
      ]
     },
     "metadata": {
      "application/vnd.databricks.v1+output": {
       "addedWidgets": {},
       "aggData": [],
       "aggError": "",
       "aggOverflow": false,
       "aggSchema": [],
       "aggSeriesLimitReached": false,
       "aggType": "",
       "arguments": {},
       "columnCustomDisplayInfos": {},
       "data": [
        [
         "d19ff6fca6288939bff073ad0a119d25c0365c407e9e5dd999e7a3e53c6d5d76",
         "2017-01-23T12:52:30.910Z",
         false,
         3,
         60.0,
         0,
         50,
         30.0,
         14025,
         "RIBEIRAO PRETO",
         "SP",
         "BR"
        ],
        [
         "631df0985fdbbaf27b9b031a8f381924e3483833385748c8f7e1a41a6891d2b9",
         "2017-01-20T13:14:48.286Z",
         true,
         3,
         60.0,
         0,
         0,
         30.0,
         50180,
         "SAO PAULO",
         "SP",
         "BR"
        ],
        [
         "135c5c4ae4c1ec1fdc23e8c649f313e39be8db913d8bc5aaff9bfddb548f096d",
         "2017-01-23T12:46:33.457Z",
         true,
         5,
         100.0,
         0,
         45,
         10.0,
         23090,
         "RIO DE JANEIRO",
         "RJ",
         "BR"
        ],
        [
         "d26f84c470451f752bef036c55517b6d9950d41806f10e94e8b5734241468768",
         "2017-01-20T13:15:04.806Z",
         true,
         3,
         80.0,
         0,
         0,
         18.9,
         40255,
         "SALVADOR",
         "BA",
         "BR"
        ],
        [
         "97b9884600ea7192314580d9115f8882b8634f5aa201ff9a6df206e49343a283",
         "2017-01-20T13:14:27.701Z",
         true,
         3,
         60.0,
         0,
         0,
         25.0,
         64600,
         "BARUERI",
         "SP",
         "BR"
        ],
        [
         "1ec1343b97cae3e3fc561926425f5fa9ee514f4cbcc99b8b3d0689af3b1e8197",
         "2017-01-23T12:36:59.158Z",
         false,
         1,
         30.0,
         0,
         60,
         10.0,
         18030,
         "SOROCABA",
         "SP",
         "BR"
        ],
        [
         "a296322ddb834e65ac755cc1fa1cf1957d4f6134ef088419024a361640aa286a",
         "2017-01-23T12:40:20.431Z",
         false,
         1,
         30.0,
         0,
         70,
         11.0,
         13208,
         "JUNDIAI",
         "SP",
         "BR"
        ],
        [
         "283f457637aa69ef68df6d8ca077349bf86219c01f918ba1ffcbcbefcf944aac",
         "2017-01-20T13:14:31.699Z",
         true,
         4,
         80.0,
         0,
         30,
         24.0,
         34020,
         "SAO PAULO",
         "SP",
         "BR"
        ],
        [
         "d171f94340260767e67ae9a520ae9881949dba7945771d5248707bc07847f05f",
         "2017-01-20T13:13:05.136Z",
         false,
         5,
         81.0,
         30,
         15,
         10.0,
         45380,
         "SAO PAULO",
         "SP",
         "BR"
        ],
        [
         "1b8219cc06c6b99de0cfd80d2fef350ed0494ad88ceab0e643238da12dbf2559",
         "2017-01-20T13:15:57.202Z",
         false,
         1,
         30.0,
         0,
         30,
         0.0,
         60541,
         "FORTALEZA",
         "CE",
         "BR"
        ]
       ],
       "datasetInfos": [],
       "dbfsResultPath": null,
       "isJsonSchema": true,
       "metadata": {},
       "overflow": false,
       "plotOptions": {
        "customPlotOptions": {},
        "displayType": "table",
        "pivotAggregation": null,
        "pivotColumns": null,
        "xColumns": null,
        "yColumns": null
       },
       "removedWidgets": [],
       "schema": [
        {
         "metadata": "{}",
         "name": "id",
         "type": "\"string\""
        },
        {
         "metadata": "{}",
         "name": "created_at",
         "type": "\"timestamp\""
        },
        {
         "metadata": "{}",
         "name": "enabled",
         "type": "\"boolean\""
        },
        {
         "metadata": "{}",
         "name": "price_range",
         "type": "\"integer\""
        },
        {
         "metadata": "{}",
         "name": "average_ticket",
         "type": "\"double\""
        },
        {
         "metadata": "{}",
         "name": "takeout_time",
         "type": "\"integer\""
        },
        {
         "metadata": "{}",
         "name": "delivery_time",
         "type": "\"integer\""
        },
        {
         "metadata": "{}",
         "name": "minimum_order_value",
         "type": "\"double\""
        },
        {
         "metadata": "{}",
         "name": "merchant_zip_code",
         "type": "\"integer\""
        },
        {
         "metadata": "{}",
         "name": "merchant_city",
         "type": "\"string\""
        },
        {
         "metadata": "{}",
         "name": "merchant_state",
         "type": "\"string\""
        },
        {
         "metadata": "{}",
         "name": "merchant_country",
         "type": "\"string\""
        }
       ],
       "type": "table"
      }
     },
     "output_type": "display_data"
    },
    {
     "output_type": "display_data",
     "data": {
      "text/html": [
       "<style scoped>\n",
       "  .table-result-container {\n",
       "    max-height: 300px;\n",
       "    overflow: auto;\n",
       "  }\n",
       "  table, th, td {\n",
       "    border: 1px solid black;\n",
       "    border-collapse: collapse;\n",
       "  }\n",
       "  th, td {\n",
       "    padding: 5px;\n",
       "  }\n",
       "  th {\n",
       "    text-align: left;\n",
       "  }\n",
       "</style><div class='table-result-container'><table class='table-result'><thead style='background-color: white'><tr><th>_1</th></tr></thead><tbody><tr><td>id</td></tr><tr><td>created_at</td></tr><tr><td>enabled</td></tr><tr><td>price_range</td></tr><tr><td>average_ticket</td></tr><tr><td>takeout_time</td></tr><tr><td>delivery_time</td></tr><tr><td>minimum_order_value</td></tr><tr><td>merchant_zip_code</td></tr><tr><td>merchant_city</td></tr><tr><td>merchant_state</td></tr><tr><td>merchant_country</td></tr></tbody></table></div>"
      ]
     },
     "metadata": {
      "application/vnd.databricks.v1+output": {
       "addedWidgets": {},
       "aggData": [],
       "aggError": "",
       "aggOverflow": false,
       "aggSchema": [],
       "aggSeriesLimitReached": false,
       "aggType": "",
       "arguments": {},
       "columnCustomDisplayInfos": {},
       "data": [
        [
         "id"
        ],
        [
         "created_at"
        ],
        [
         "enabled"
        ],
        [
         "price_range"
        ],
        [
         "average_ticket"
        ],
        [
         "takeout_time"
        ],
        [
         "delivery_time"
        ],
        [
         "minimum_order_value"
        ],
        [
         "merchant_zip_code"
        ],
        [
         "merchant_city"
        ],
        [
         "merchant_state"
        ],
        [
         "merchant_country"
        ]
       ],
       "datasetInfos": [],
       "dbfsResultPath": null,
       "isJsonSchema": true,
       "metadata": {},
       "overflow": false,
       "plotOptions": {
        "customPlotOptions": {},
        "displayType": "table",
        "pivotAggregation": null,
        "pivotColumns": null,
        "xColumns": null,
        "yColumns": null
       },
       "removedWidgets": [],
       "schema": [
        {
         "metadata": "{}",
         "name": "_1",
         "type": "\"string\""
        }
       ],
       "type": "table"
      }
     },
     "output_type": "display_data"
    },
    {
     "output_type": "stream",
     "name": "stdout",
     "output_type": "stream",
     "text": [
      "root\n |-- id: string (nullable = true)\n |-- created_at: timestamp (nullable = true)\n |-- enabled: boolean (nullable = true)\n |-- price_range: integer (nullable = true)\n |-- average_ticket: double (nullable = true)\n |-- takeout_time: integer (nullable = true)\n |-- delivery_time: integer (nullable = true)\n |-- minimum_order_value: double (nullable = true)\n |-- merchant_zip_code: integer (nullable = true)\n |-- merchant_city: string (nullable = true)\n |-- merchant_state: string (nullable = true)\n |-- merchant_country: string (nullable = true)\n\n"
     ]
    },
    {
     "output_type": "display_data",
     "data": {
      "text/html": [
       "<style scoped>\n",
       "  .table-result-container {\n",
       "    max-height: 300px;\n",
       "    overflow: auto;\n",
       "  }\n",
       "  table, th, td {\n",
       "    border: 1px solid black;\n",
       "    border-collapse: collapse;\n",
       "  }\n",
       "  th, td {\n",
       "    padding: 5px;\n",
       "  }\n",
       "  th {\n",
       "    text-align: left;\n",
       "  }\n",
       "</style><div class='table-result-container'><table class='table-result'><thead style='background-color: white'><tr><th>summary</th><th>id</th><th>price_range</th><th>average_ticket</th><th>takeout_time</th><th>delivery_time</th><th>minimum_order_value</th><th>merchant_zip_code</th><th>merchant_city</th><th>merchant_state</th><th>merchant_country</th></tr></thead><tbody><tr><td>count</td><td>7292</td><td>7292</td><td>7292</td><td>7292</td><td>7291</td><td>7197</td><td>7292</td><td>7292</td><td>7292</td><td>7292</td></tr><tr><td>mean</td><td>null</td><td>2.561300054854635</td><td>53.72682391662095</td><td>3.1839001645639056</td><td>28.034974626251543</td><td>28.79775878838398</td><td>46125.42992320351</td><td>null</td><td>null</td><td>null</td></tr><tr><td>stddev</td><td>null</td><td>1.1800935917985063</td><td>19.562103131436725</td><td>8.422497889627026</td><td>25.246657227480515</td><td>1178.6427269230835</td><td>25936.93864653852</td><td>null</td><td>null</td><td>null</td></tr><tr><td>min</td><td>000ec327878b6c6f1d3a07ac30cae115eb6cc7aa39492b5cc5ca48d0ff73b18e</td><td>1</td><td>0.0</td><td>0</td><td>0</td><td>0.0</td><td>0</td><td>AMERICANA</td><td>AC</td><td>BR</td></tr><tr><td>max</td><td>fff6b9b86342869089e154273cf45a3a4533c4231b31b06845d49ad777b3586a</td><td>5</td><td>100.0</td><td>60</td><td>285</td><td>100000.0</td><td>99920</td><td>VOLTA REDONDA</td><td>SP</td><td>BR</td></tr></tbody></table></div>"
      ]
     },
     "metadata": {
      "application/vnd.databricks.v1+output": {
       "addedWidgets": {},
       "aggData": [],
       "aggError": "",
       "aggOverflow": false,
       "aggSchema": [],
       "aggSeriesLimitReached": false,
       "aggType": "",
       "arguments": {},
       "columnCustomDisplayInfos": {},
       "data": [
        [
         "count",
         "7292",
         "7292",
         "7292",
         "7292",
         "7291",
         "7197",
         "7292",
         "7292",
         "7292",
         "7292"
        ],
        [
         "mean",
         null,
         "2.561300054854635",
         "53.72682391662095",
         "3.1839001645639056",
         "28.034974626251543",
         "28.79775878838398",
         "46125.42992320351",
         null,
         null,
         null
        ],
        [
         "stddev",
         null,
         "1.1800935917985063",
         "19.562103131436725",
         "8.422497889627026",
         "25.246657227480515",
         "1178.6427269230835",
         "25936.93864653852",
         null,
         null,
         null
        ],
        [
         "min",
         "000ec327878b6c6f1d3a07ac30cae115eb6cc7aa39492b5cc5ca48d0ff73b18e",
         "1",
         "0.0",
         "0",
         "0",
         "0.0",
         "0",
         "AMERICANA",
         "AC",
         "BR"
        ],
        [
         "max",
         "fff6b9b86342869089e154273cf45a3a4533c4231b31b06845d49ad777b3586a",
         "5",
         "100.0",
         "60",
         "285",
         "100000.0",
         "99920",
         "VOLTA REDONDA",
         "SP",
         "BR"
        ]
       ],
       "datasetInfos": [],
       "dbfsResultPath": null,
       "isJsonSchema": true,
       "metadata": {},
       "overflow": false,
       "plotOptions": {
        "customPlotOptions": {},
        "displayType": "table",
        "pivotAggregation": null,
        "pivotColumns": null,
        "xColumns": null,
        "yColumns": null
       },
       "removedWidgets": [],
       "schema": [
        {
         "metadata": "{}",
         "name": "summary",
         "type": "\"string\""
        },
        {
         "metadata": "{}",
         "name": "id",
         "type": "\"string\""
        },
        {
         "metadata": "{}",
         "name": "price_range",
         "type": "\"string\""
        },
        {
         "metadata": "{}",
         "name": "average_ticket",
         "type": "\"string\""
        },
        {
         "metadata": "{}",
         "name": "takeout_time",
         "type": "\"string\""
        },
        {
         "metadata": "{}",
         "name": "delivery_time",
         "type": "\"string\""
        },
        {
         "metadata": "{}",
         "name": "minimum_order_value",
         "type": "\"string\""
        },
        {
         "metadata": "{}",
         "name": "merchant_zip_code",
         "type": "\"string\""
        },
        {
         "metadata": "{}",
         "name": "merchant_city",
         "type": "\"string\""
        },
        {
         "metadata": "{}",
         "name": "merchant_state",
         "type": "\"string\""
        },
        {
         "metadata": "{}",
         "name": "merchant_country",
         "type": "\"string\""
        }
       ],
       "type": "table"
      }
     },
     "output_type": "display_data"
    }
   ],
   "source": [
    "#entendimento df\n",
    "print((df_restaurante.count(), len(df_usuario.columns)))\n",
    "display(df_restaurante.limit(10))\n",
    "display(df_restaurante.columns)\n",
    "df_restaurante.printSchema()\n",
    "display(df_restaurante.describe())"
   ]
  },
  {
   "cell_type": "code",
   "execution_count": 0,
   "metadata": {
    "application/vnd.databricks.v1+cell": {
     "cellMetadata": {
      "byteLimit": 2048000,
      "rowLimit": 10000
     },
     "inputWidgets": {},
     "nuid": "327b005f-28c2-441e-b870-c624037a55b0",
     "showTitle": false,
     "tableResultSettingsMap": {},
     "title": ""
    }
   },
   "outputs": [
    {
     "output_type": "stream",
     "name": "stdout",
     "output_type": "stream",
     "text": [
      "root\n |-- id: string (nullable = true)\n |-- created_at: timestamp (nullable = true)\n |-- enabled: boolean (nullable = true)\n |-- price_range: integer (nullable = true)\n |-- average_ticket: double (nullable = true)\n |-- takeout_time: double (nullable = true)\n |-- delivery_time: double (nullable = true)\n |-- minimum_order_value: double (nullable = true)\n |-- merchant_zip_code: string (nullable = true)\n |-- merchant_city: string (nullable = true)\n |-- merchant_state: string (nullable = true)\n |-- merchant_country: string (nullable = true)\n\n"
     ]
    }
   ],
   "source": [
    "#converte tipo de colunas que estão diferente do dicionario de dados\n",
    "colunas_para_converter = [\"takeout_time\", \"delivery_time\"]\n",
    "\n",
    "for c in colunas_para_converter:\n",
    "    df_restaurante = df_restaurante.withColumn(c, col(c).cast(\"double\"))\n",
    "\n",
    "df_restaurante = df_restaurante.withColumn(\"merchant_zip_code\", col(\"merchant_zip_code\").cast(\"string\"))\n",
    "df_restaurante.printSchema()"
   ]
  },
  {
   "cell_type": "code",
   "execution_count": 0,
   "metadata": {
    "application/vnd.databricks.v1+cell": {
     "cellMetadata": {
      "byteLimit": 2048000,
      "rowLimit": 10000
     },
     "inputWidgets": {},
     "nuid": "8a6350bf-6e62-408c-81fa-274195002711",
     "showTitle": false,
     "tableResultSettingsMap": {},
     "title": ""
    }
   },
   "outputs": [
    {
     "output_type": "display_data",
     "data": {
      "text/html": [
       "<style scoped>\n",
       "  .table-result-container {\n",
       "    max-height: 300px;\n",
       "    overflow: auto;\n",
       "  }\n",
       "  table, th, td {\n",
       "    border: 1px solid black;\n",
       "    border-collapse: collapse;\n",
       "  }\n",
       "  th, td {\n",
       "    padding: 5px;\n",
       "  }\n",
       "  th {\n",
       "    text-align: left;\n",
       "  }\n",
       "</style><div class='table-result-container'><table class='table-result'><thead style='background-color: white'><tr><th>id_nulls</th><th>created_at_nulls</th><th>enabled_nulls</th><th>price_range_nulls</th><th>average_ticket_nulls</th><th>takeout_time_nulls</th><th>delivery_time_nulls</th><th>minimum_order_value_nulls</th><th>merchant_zip_code_nulls</th><th>merchant_city_nulls</th><th>merchant_state_nulls</th><th>merchant_country_nulls</th></tr></thead><tbody><tr><td>0</td><td>0</td><td>0</td><td>0</td><td>0</td><td>0</td><td>1</td><td>95</td><td>0</td><td>0</td><td>0</td><td>0</td></tr></tbody></table></div>"
      ]
     },
     "metadata": {
      "application/vnd.databricks.v1+output": {
       "addedWidgets": {},
       "aggData": [],
       "aggError": "",
       "aggOverflow": false,
       "aggSchema": [],
       "aggSeriesLimitReached": false,
       "aggType": "",
       "arguments": {},
       "columnCustomDisplayInfos": {},
       "data": [
        [
         0,
         0,
         0,
         0,
         0,
         0,
         1,
         95,
         0,
         0,
         0,
         0
        ]
       ],
       "datasetInfos": [],
       "dbfsResultPath": null,
       "isJsonSchema": true,
       "metadata": {},
       "overflow": false,
       "plotOptions": {
        "customPlotOptions": {},
        "displayType": "table",
        "pivotAggregation": null,
        "pivotColumns": null,
        "xColumns": null,
        "yColumns": null
       },
       "removedWidgets": [],
       "schema": [
        {
         "metadata": "{}",
         "name": "id_nulls",
         "type": "\"long\""
        },
        {
         "metadata": "{}",
         "name": "created_at_nulls",
         "type": "\"long\""
        },
        {
         "metadata": "{}",
         "name": "enabled_nulls",
         "type": "\"long\""
        },
        {
         "metadata": "{}",
         "name": "price_range_nulls",
         "type": "\"long\""
        },
        {
         "metadata": "{}",
         "name": "average_ticket_nulls",
         "type": "\"long\""
        },
        {
         "metadata": "{}",
         "name": "takeout_time_nulls",
         "type": "\"long\""
        },
        {
         "metadata": "{}",
         "name": "delivery_time_nulls",
         "type": "\"long\""
        },
        {
         "metadata": "{}",
         "name": "minimum_order_value_nulls",
         "type": "\"long\""
        },
        {
         "metadata": "{}",
         "name": "merchant_zip_code_nulls",
         "type": "\"long\""
        },
        {
         "metadata": "{}",
         "name": "merchant_city_nulls",
         "type": "\"long\""
        },
        {
         "metadata": "{}",
         "name": "merchant_state_nulls",
         "type": "\"long\""
        },
        {
         "metadata": "{}",
         "name": "merchant_country_nulls",
         "type": "\"long\""
        }
       ],
       "type": "table"
      }
     },
     "output_type": "display_data"
    }
   ],
   "source": [
    "#mostra nulls\n",
    "display( df_restaurante.select([\n",
    "    count(when(col(c).isNull(), c)).alias(c + \"_nulls\")\n",
    "    for c in df_restaurante.columns\n",
    "]))"
   ]
  },
  {
   "cell_type": "markdown",
   "metadata": {
    "application/vnd.databricks.v1+cell": {
     "cellMetadata": {
      "byteLimit": 2048000,
      "rowLimit": 10000
     },
     "inputWidgets": {},
     "nuid": "98067e29-45dc-4223-a23b-bd318b5d0a8a",
     "showTitle": false,
     "tableResultSettingsMap": {},
     "title": ""
    }
   },
   "source": [
    "**Entendimento df_teste**"
   ]
  },
  {
   "cell_type": "code",
   "execution_count": 0,
   "metadata": {
    "application/vnd.databricks.v1+cell": {
     "cellMetadata": {
      "byteLimit": 2048000,
      "rowLimit": 10000
     },
     "inputWidgets": {},
     "nuid": "3c4754e3-c52f-4497-96c4-cfceaddcd121",
     "showTitle": false,
     "tableResultSettingsMap": {},
     "title": ""
    }
   },
   "outputs": [
    {
     "output_type": "stream",
     "name": "stdout",
     "output_type": "stream",
     "text": [
      "(806467, 2)\n"
     ]
    },
    {
     "output_type": "display_data",
     "data": {
      "text/html": [
       "<style scoped>\n",
       "  .table-result-container {\n",
       "    max-height: 300px;\n",
       "    overflow: auto;\n",
       "  }\n",
       "  table, th, td {\n",
       "    border: 1px solid black;\n",
       "    border-collapse: collapse;\n",
       "  }\n",
       "  th, td {\n",
       "    padding: 5px;\n",
       "  }\n",
       "  th {\n",
       "    text-align: left;\n",
       "  }\n",
       "</style><div class='table-result-container'><table class='table-result'><thead style='background-color: white'><tr><th>customer_id</th><th>is_target</th></tr></thead><tbody><tr><td>755e1fa18f25caec5edffb188b13fd844b2af8cf5adedcf77c028f36cb9382ea</td><td>target</td></tr><tr><td>b821aa8372b8e5b82cdc283742757df8c45eecdd72adf411716e710525d4edf1</td><td>control</td></tr><tr><td>d425d6ee4c9d4e211b71da8fc60bf6c5336b2ea9af9cc007f5297541ec40b63b</td><td>control</td></tr><tr><td>6a7089eea0a5dc294fbccd4fa24d0d84a90c1cc12e829c8b535718bbc651ab02</td><td>target</td></tr><tr><td>dad6b7e222bab31c0332b0ccd9fa5dbd147008facd268f5e3763fa657c23a58d</td><td>control</td></tr><tr><td>82905a7d1fe78f80ceeab4e3f523c9a3fb1a0324a1c9c6078191fd67f0f6bceb</td><td>target</td></tr><tr><td>2c793590086a05d39f1fdf9513f585dd7ca6d2ba404bb40248d3102e024920b2</td><td>target</td></tr><tr><td>2c2c1ec8e79d1b98e67aaefb39b477dd9c95bea6e498c8ff2ae610cbddd0cc17</td><td>target</td></tr><tr><td>5994c3c2c48edd8a7b56962761581282f03fa9479847f44bf9be27fa80803018</td><td>target</td></tr><tr><td>657d1330fd2b28abd8390fae089675e88fdfb76ad09b84a12c3be43e451c6acf</td><td>control</td></tr></tbody></table></div>"
      ]
     },
     "metadata": {
      "application/vnd.databricks.v1+output": {
       "addedWidgets": {},
       "aggData": [],
       "aggError": "",
       "aggOverflow": false,
       "aggSchema": [],
       "aggSeriesLimitReached": false,
       "aggType": "",
       "arguments": {},
       "columnCustomDisplayInfos": {},
       "data": [
        [
         "755e1fa18f25caec5edffb188b13fd844b2af8cf5adedcf77c028f36cb9382ea",
         "target"
        ],
        [
         "b821aa8372b8e5b82cdc283742757df8c45eecdd72adf411716e710525d4edf1",
         "control"
        ],
        [
         "d425d6ee4c9d4e211b71da8fc60bf6c5336b2ea9af9cc007f5297541ec40b63b",
         "control"
        ],
        [
         "6a7089eea0a5dc294fbccd4fa24d0d84a90c1cc12e829c8b535718bbc651ab02",
         "target"
        ],
        [
         "dad6b7e222bab31c0332b0ccd9fa5dbd147008facd268f5e3763fa657c23a58d",
         "control"
        ],
        [
         "82905a7d1fe78f80ceeab4e3f523c9a3fb1a0324a1c9c6078191fd67f0f6bceb",
         "target"
        ],
        [
         "2c793590086a05d39f1fdf9513f585dd7ca6d2ba404bb40248d3102e024920b2",
         "target"
        ],
        [
         "2c2c1ec8e79d1b98e67aaefb39b477dd9c95bea6e498c8ff2ae610cbddd0cc17",
         "target"
        ],
        [
         "5994c3c2c48edd8a7b56962761581282f03fa9479847f44bf9be27fa80803018",
         "target"
        ],
        [
         "657d1330fd2b28abd8390fae089675e88fdfb76ad09b84a12c3be43e451c6acf",
         "control"
        ]
       ],
       "datasetInfos": [],
       "dbfsResultPath": null,
       "isJsonSchema": true,
       "metadata": {},
       "overflow": false,
       "plotOptions": {
        "customPlotOptions": {},
        "displayType": "table",
        "pivotAggregation": null,
        "pivotColumns": null,
        "xColumns": null,
        "yColumns": null
       },
       "removedWidgets": [],
       "schema": [
        {
         "metadata": "{}",
         "name": "customer_id",
         "type": "\"string\""
        },
        {
         "metadata": "{}",
         "name": "is_target",
         "type": "\"string\""
        }
       ],
       "type": "table"
      }
     },
     "output_type": "display_data"
    },
    {
     "output_type": "display_data",
     "data": {
      "text/html": [
       "<style scoped>\n",
       "  .table-result-container {\n",
       "    max-height: 300px;\n",
       "    overflow: auto;\n",
       "  }\n",
       "  table, th, td {\n",
       "    border: 1px solid black;\n",
       "    border-collapse: collapse;\n",
       "  }\n",
       "  th, td {\n",
       "    padding: 5px;\n",
       "  }\n",
       "  th {\n",
       "    text-align: left;\n",
       "  }\n",
       "</style><div class='table-result-container'><table class='table-result'><thead style='background-color: white'><tr><th>_1</th></tr></thead><tbody><tr><td>customer_id</td></tr><tr><td>is_target</td></tr></tbody></table></div>"
      ]
     },
     "metadata": {
      "application/vnd.databricks.v1+output": {
       "addedWidgets": {},
       "aggData": [],
       "aggError": "",
       "aggOverflow": false,
       "aggSchema": [],
       "aggSeriesLimitReached": false,
       "aggType": "",
       "arguments": {},
       "columnCustomDisplayInfos": {},
       "data": [
        [
         "customer_id"
        ],
        [
         "is_target"
        ]
       ],
       "datasetInfos": [],
       "dbfsResultPath": null,
       "isJsonSchema": true,
       "metadata": {},
       "overflow": false,
       "plotOptions": {
        "customPlotOptions": {},
        "displayType": "table",
        "pivotAggregation": null,
        "pivotColumns": null,
        "xColumns": null,
        "yColumns": null
       },
       "removedWidgets": [],
       "schema": [
        {
         "metadata": "{}",
         "name": "_1",
         "type": "\"string\""
        }
       ],
       "type": "table"
      }
     },
     "output_type": "display_data"
    },
    {
     "output_type": "stream",
     "name": "stdout",
     "output_type": "stream",
     "text": [
      "root\n |-- customer_id: string (nullable = true)\n |-- is_target: string (nullable = true)\n\n"
     ]
    },
    {
     "output_type": "display_data",
     "data": {
      "text/html": [
       "<style scoped>\n",
       "  .table-result-container {\n",
       "    max-height: 300px;\n",
       "    overflow: auto;\n",
       "  }\n",
       "  table, th, td {\n",
       "    border: 1px solid black;\n",
       "    border-collapse: collapse;\n",
       "  }\n",
       "  th, td {\n",
       "    padding: 5px;\n",
       "  }\n",
       "  th {\n",
       "    text-align: left;\n",
       "  }\n",
       "</style><div class='table-result-container'><table class='table-result'><thead style='background-color: white'><tr><th>summary</th><th>customer_id</th><th>is_target</th></tr></thead><tbody><tr><td>count</td><td>806467</td><td>806467</td></tr><tr><td>mean</td><td>null</td><td>null</td></tr><tr><td>stddev</td><td>null</td><td>null</td></tr><tr><td>min</td><td>000009e29b12d8c5b9c9579e21384320c2df3bd935f19e12402be6b07a099361</td><td>control</td></tr><tr><td>max</td><td>null</td><td>target</td></tr></tbody></table></div>"
      ]
     },
     "metadata": {
      "application/vnd.databricks.v1+output": {
       "addedWidgets": {},
       "aggData": [],
       "aggError": "",
       "aggOverflow": false,
       "aggSchema": [],
       "aggSeriesLimitReached": false,
       "aggType": "",
       "arguments": {},
       "columnCustomDisplayInfos": {},
       "data": [
        [
         "count",
         "806467",
         "806467"
        ],
        [
         "mean",
         null,
         null
        ],
        [
         "stddev",
         null,
         null
        ],
        [
         "min",
         "000009e29b12d8c5b9c9579e21384320c2df3bd935f19e12402be6b07a099361",
         "control"
        ],
        [
         "max",
         "null",
         "target"
        ]
       ],
       "datasetInfos": [],
       "dbfsResultPath": null,
       "isJsonSchema": true,
       "metadata": {},
       "overflow": false,
       "plotOptions": {
        "customPlotOptions": {},
        "displayType": "table",
        "pivotAggregation": null,
        "pivotColumns": null,
        "xColumns": null,
        "yColumns": null
       },
       "removedWidgets": [],
       "schema": [
        {
         "metadata": "{}",
         "name": "summary",
         "type": "\"string\""
        },
        {
         "metadata": "{}",
         "name": "customer_id",
         "type": "\"string\""
        },
        {
         "metadata": "{}",
         "name": "is_target",
         "type": "\"string\""
        }
       ],
       "type": "table"
      }
     },
     "output_type": "display_data"
    }
   ],
   "source": [
    "#entendimento df\n",
    "print((df_teste.count(), len(df_teste.columns)))\n",
    "display(df_teste.limit(10))\n",
    "display(df_teste.columns)\n",
    "df_teste.printSchema()\n",
    "display(df_teste.describe())"
   ]
  },
  {
   "cell_type": "code",
   "execution_count": 0,
   "metadata": {
    "application/vnd.databricks.v1+cell": {
     "cellMetadata": {
      "byteLimit": 2048000,
      "rowLimit": 10000
     },
     "inputWidgets": {},
     "nuid": "8edecddd-4dd6-40b0-aeb6-90348f43a69d",
     "showTitle": false,
     "tableResultSettingsMap": {},
     "title": ""
    }
   },
   "outputs": [
    {
     "output_type": "display_data",
     "data": {
      "text/html": [
       "<style scoped>\n",
       "  .table-result-container {\n",
       "    max-height: 300px;\n",
       "    overflow: auto;\n",
       "  }\n",
       "  table, th, td {\n",
       "    border: 1px solid black;\n",
       "    border-collapse: collapse;\n",
       "  }\n",
       "  th, td {\n",
       "    padding: 5px;\n",
       "  }\n",
       "  th {\n",
       "    text-align: left;\n",
       "  }\n",
       "</style><div class='table-result-container'><table class='table-result'><thead style='background-color: white'><tr><th>customer_id_nulls</th><th>is_target_nulls</th></tr></thead><tbody><tr><td>0</td><td>0</td></tr></tbody></table></div>"
      ]
     },
     "metadata": {
      "application/vnd.databricks.v1+output": {
       "addedWidgets": {},
       "aggData": [],
       "aggError": "",
       "aggOverflow": false,
       "aggSchema": [],
       "aggSeriesLimitReached": false,
       "aggType": "",
       "arguments": {},
       "columnCustomDisplayInfos": {},
       "data": [
        [
         0,
         0
        ]
       ],
       "datasetInfos": [],
       "dbfsResultPath": null,
       "isJsonSchema": true,
       "metadata": {},
       "overflow": false,
       "plotOptions": {
        "customPlotOptions": {},
        "displayType": "table",
        "pivotAggregation": null,
        "pivotColumns": null,
        "xColumns": null,
        "yColumns": null
       },
       "removedWidgets": [],
       "schema": [
        {
         "metadata": "{}",
         "name": "customer_id_nulls",
         "type": "\"long\""
        },
        {
         "metadata": "{}",
         "name": "is_target_nulls",
         "type": "\"long\""
        }
       ],
       "type": "table"
      }
     },
     "output_type": "display_data"
    }
   ],
   "source": [
    "#mostra nulls\n",
    "display( df_teste.select([\n",
    "    count(when(col(c).isNull(), c)).alias(c + \"_nulls\")\n",
    "    for c in df_teste.columns\n",
    "]))"
   ]
  },
  {
   "cell_type": "markdown",
   "metadata": {
    "application/vnd.databricks.v1+cell": {
     "cellMetadata": {
      "byteLimit": 2048000,
      "rowLimit": 10000
     },
     "inputWidgets": {},
     "nuid": "2c291d98-92f7-4af1-b378-011f360b36fb",
     "showTitle": false,
     "tableResultSettingsMap": {},
     "title": ""
    }
   },
   "source": [
    "**Entendimento df_pedido**"
   ]
  },
  {
   "cell_type": "code",
   "execution_count": 0,
   "metadata": {
    "application/vnd.databricks.v1+cell": {
     "cellMetadata": {
      "byteLimit": 2048000,
      "rowLimit": 10000
     },
     "inputWidgets": {},
     "nuid": "ed6db2d0-5390-4650-9299-d75c113aae2a",
     "showTitle": false,
     "tableResultSettingsMap": {},
     "title": ""
    }
   },
   "outputs": [
    {
     "output_type": "stream",
     "name": "stdout",
     "output_type": "stream",
     "text": [
      "(3670826, 21)\n"
     ]
    },
    {
     "output_type": "display_data",
     "data": {
      "text/html": [
       "<style scoped>\n",
       "  .table-result-container {\n",
       "    max-height: 300px;\n",
       "    overflow: auto;\n",
       "  }\n",
       "  table, th, td {\n",
       "    border: 1px solid black;\n",
       "    border-collapse: collapse;\n",
       "  }\n",
       "  th, td {\n",
       "    padding: 5px;\n",
       "  }\n",
       "  th {\n",
       "    text-align: left;\n",
       "  }\n",
       "</style><div class='table-result-container'><table class='table-result'><thead style='background-color: white'><tr><th>cpf</th><th>customer_id</th><th>customer_name</th><th>delivery_address_city</th><th>delivery_address_country</th><th>delivery_address_district</th><th>delivery_address_external_id</th><th>delivery_address_latitude</th><th>delivery_address_longitude</th><th>delivery_address_state</th><th>delivery_address_zip_code</th><th>items</th><th>merchant_id</th><th>merchant_latitude</th><th>merchant_longitude</th><th>merchant_timezone</th><th>order_created_at</th><th>order_id</th><th>order_scheduled</th><th>order_total_amount</th><th>origin_platform</th></tr></thead><tbody><tr><td>80532101763</td><td>7ba88a68bb2a3504c6bd37a707af57a0b8d6e110a551c719c9e7f71aaf3a99cf</td><td>GUSTAVO</td><td>FRANCA</td><td>BR</td><td>JARDIM ESPRAIADO</td><td>6736655</td><td>-47.39</td><td>-20.55</td><td>SP</td><td>14403</td><td>[{\"name\": \"Parmegiana de Filé de Frango (2 pessoas)\", \"addition\": {\"value\": \"0\", \"currency\": \"BRL\"}, \"discount\": {\"value\": \"0\", \"currency\": \"BRL\"}, \"quantity\": 1.00, \"sequence\": 1, \"unitPrice\": {\"value\": \"2800\", \"currency\": \"BRL\"}, \"externalId\": \"0bcd6764fd5e466d9c04b18ac0eb69e6\", \"totalValue\": {\"value\": \"2800\", \"currency\": \"BRL\"}, \"customerNote\": null, \"garnishItems\": [{\"name\": \"COM Arroz branco\", \"addition\": {\"value\": \"0\", \"currency\": \"BRL\"}, \"discount\": {\"value\": \"0\", \"currency\": \"BRL\"}, \"quantity\": 1.00, \"sequence\": 2, \"unitPrice\": {\"value\": \"0\", \"currency\": \"BRL\"}, \"categoryId\": \"13HDH\", \"externalId\": \"384bd2b4eb7d454d8e0274e7d590ab4f\", \"totalValue\": {\"value\": \"0\", \"currency\": \"BRL\"}, \"categoryName\": \"PERSONALIZAR\", \"integrationId\": null}], \"integrationId\": \"PMFR\", \"totalAddition\": {\"value\": \"0\", \"currency\": \"BRL\"}, \"totalDiscount\": {\"value\": \"0\", \"currency\": \"BRL\"}}, {\"name\": \"Lasanha Frango (2 pessoas)\", \"addition\": {\"value\": \"0\", \"currency\": \"BRL\"}, \"discount\": {\"value\": \"0\", \"currency\": \"BRL\"}, \"quantity\": 1.00, \"sequence\": 3, \"unitPrice\": {\"value\": \"1800\", \"currency\": \"BRL\"}, \"externalId\": \"a361f5eec6a44ac0817892e81bf22e80\", \"totalValue\": {\"value\": \"1800\", \"currency\": \"BRL\"}, \"customerNote\": null, \"garnishItems\": [], \"integrationId\": \"LF\", \"totalAddition\": {\"value\": \"0\", \"currency\": \"BRL\"}, \"totalDiscount\": {\"value\": \"0\", \"currency\": \"BRL\"}}]</td><td>a992a079a651e699d9149423761df2427c0e3af0a2a1b5bb6d2bad1cb3a3a265</td><td>-47.39</td><td>-20.55</td><td>America/Sao_Paulo</td><td>2019-01-17T22:50:06.000Z</td><td>33e0612d62e5eb42aba15b58413137e441fbe906de2febd6a6c721b0e5773b44</td><td>false</td><td>46.0</td><td>ANDROID</td></tr><tr><td>43352103961</td><td>078acecdcf7fa89d356bfa349f14a8219db1ee161ce28ae4d9fee550c95d6fbd</td><td>MICHELLE</td><td>SANTOS</td><td>BR</td><td>CAMPO GRANDE</td><td>8759216</td><td>-46.34</td><td>-23.96</td><td>SP</td><td>11070</td><td>[{\"name\": \"Filé Mignon à Cubana\", \"addition\": {\"value\": \"0\", \"currency\": \"BRL\"}, \"discount\": {\"value\": \"0\", \"currency\": \"BRL\"}, \"quantity\": 1.00, \"sequence\": 1, \"unitPrice\": {\"value\": \"0\", \"currency\": \"BRL\"}, \"externalId\": \"e0e81b2027c241cca5bf60a4768800ec\", \"totalValue\": {\"value\": \"0\", \"currency\": \"BRL\"}, \"customerNote\": null, \"garnishItems\": [{\"name\": \"334 - 1/2 porção \", \"addition\": {\"value\": \"0\", \"currency\": \"BRL\"}, \"discount\": {\"value\": \"0\", \"currency\": \"BRL\"}, \"quantity\": 1.00, \"sequence\": 2, \"unitPrice\": {\"value\": \"7350\", \"currency\": \"BRL\"}, \"categoryId\": \"1J3T0\", \"externalId\": \"b869c10747d1417d8968d7e3e1bd7de4\", \"totalValue\": {\"value\": \"7350\", \"currency\": \"BRL\"}, \"categoryName\": \"escolha sua porção \", \"integrationId\": null}], \"integrationId\": null, \"totalAddition\": {\"value\": \"0\", \"currency\": \"BRL\"}, \"totalDiscount\": {\"value\": \"0\", \"currency\": \"BRL\"}}, {\"name\": \"603- Pudim de leite\", \"addition\": {\"value\": \"0\", \"currency\": \"BRL\"}, \"discount\": {\"value\": \"0\", \"currency\": \"BRL\"}, \"quantity\": 1.00, \"sequence\": 4, \"unitPrice\": {\"value\": \"800\", \"currency\": \"BRL\"}, \"externalId\": \"4436f76edc164052aaf3c21a6567b570\", \"totalValue\": {\"value\": \"800\", \"currency\": \"BRL\"}, \"customerNote\": null, \"garnishItems\": [], \"integrationId\": null, \"totalAddition\": {\"value\": \"0\", \"currency\": \"BRL\"}, \"totalDiscount\": {\"value\": \"0\", \"currency\": \"BRL\"}}, {\"name\": \"601-Torta Holandesa\", \"addition\": {\"value\": \"0\", \"currency\": \"BRL\"}, \"discount\": {\"value\": \"0\", \"currency\": \"BRL\"}, \"quantity\": 1.00, \"sequence\": 5, \"unitPrice\": {\"value\": \"800\", \"currency\": \"BRL\"}, \"externalId\": \"c0b788e876c54f198307dc142fed7aff\", \"totalValue\": {\"value\": \"800\", \"currency\": \"BRL\"}, \"customerNote\": null, \"garnishItems\": [], \"integrationId\": null, \"totalAddition\": {\"value\": \"0\", \"currency\": \"BRL\"}, \"totalDiscount\": {\"value\": \"0\", \"currency\": \"BRL\"}}, {\"name\": \"513 - Guarnição Completa II\", \"addition\": {\"value\": \"0\", \"currency\": \"BRL\"}, \"discount\": {\"value\": \"0\", \"currency\": \"BRL\"}, \"quantity\": 1.00, \"sequence\": 3, \"unitPrice\": {\"value\": \"1500\", \"currency\": \"BRL\"}, \"externalId\": \"385fb04a358340878b14116df9970e46\", \"totalValue\": {\"value\": \"1500\", \"currency\": \"BRL\"}, \"customerNote\": null, \"garnishItems\": [], \"integrationId\": null, \"totalAddition\": {\"value\": \"0\", \"currency\": \"BRL\"}, \"totalDiscount\": {\"value\": \"0\", \"currency\": \"BRL\"}}]</td><td>5152f28ee0518b8803ccf0a4096eb2ff8b81e9491861c9d1b673846ae027b8b0</td><td>-46.34</td><td>-23.96</td><td>America/Sao_Paulo</td><td>2019-01-17T17:51:26.000Z</td><td>148c4353a2952f3fe7973547283265eb22b575fb712ed2618a6cf2d813b987ad</td><td>false</td><td>104.5</td><td>ANDROID</td></tr><tr><td>38650991217</td><td>0e38a3237b5946e8ab2367b4f1a3ae6e77f1e215bc760ca332153516c13b9c2e</td><td>VICTOR</td><td>GUARULHOS</td><td>BR</td><td>JARDIM ROSSI</td><td>8765930</td><td>-46.53</td><td>-23.44</td><td>SP</td><td>71304</td><td>[{\"name\": \"GRANDE 2 SABORES\", \"addition\": {\"value\": \"0\", \"currency\": \"BRL\"}, \"discount\": {\"value\": \"0\", \"currency\": \"BRL\"}, \"quantity\": 1.00, \"sequence\": 1, \"unitPrice\": {\"value\": \"0\", \"currency\": \"BRL\"}, \"externalId\": \"87a24efdd88c4b7b8bf1132cabfd4195\", \"totalValue\": {\"value\": \"0\", \"currency\": \"BRL\"}, \"customerNote\": null, \"garnishItems\": [{\"name\": \"TRADICIONAL\", \"addition\": {\"value\": \"0\", \"currency\": \"BRL\"}, \"discount\": {\"value\": \"0\", \"currency\": \"BRL\"}, \"quantity\": 1.00, \"sequence\": 2, \"unitPrice\": {\"value\": \"0\", \"currency\": \"BRL\"}, \"categoryId\": \"0025\", \"externalId\": \"2b89a4d4d6f14541a8830e5808d1f09f\", \"totalValue\": {\"value\": \"0\", \"currency\": \"BRL\"}, \"categoryName\": \"Escolha a sua Preferência\", \"integrationId\": null}, {\"name\": \"1/2 21 - PIZZA FRANGO COM BACON E CATUPIRY \", \"addition\": {\"value\": \"0\", \"currency\": \"BRL\"}, \"discount\": {\"value\": \"0\", \"currency\": \"BRL\"}, \"quantity\": 1.00, \"sequence\": 3, \"unitPrice\": {\"value\": \"1750\", \"currency\": \"BRL\"}, \"categoryId\": \"SABOR\", \"externalId\": \"c7f63cc58a3643c7aa3f24858c7029f4\", \"totalValue\": {\"value\": \"1750\", \"currency\": \"BRL\"}, \"categoryName\": \"Escolha um sabor\", \"integrationId\": null}, {\"name\": \"1/2 21 - PIZZA FRANGO COM BACON E CATUPIRY \", \"addition\": {\"value\": \"0\", \"currency\": \"BRL\"}, \"discount\": {\"value\": \"0\", \"currency\": \"BRL\"}, \"quantity\": 1.00, \"sequence\": 3, \"unitPrice\": {\"value\": \"1750\", \"currency\": \"BRL\"}, \"categoryId\": \"SABOR2\", \"externalId\": \"c7f63cc58a3643c7aa3f24858c7029f4\", \"totalValue\": {\"value\": \"1750\", \"currency\": \"BRL\"}, \"categoryName\": \"Escolha o segundo sabor\", \"integrationId\": null}, {\"name\": \"1/2 29 - PIZZA À MODA DA CASA\", \"addition\": {\"value\": \"0\", \"currency\": \"BRL\"}, \"discount\": {\"value\": \"0\", \"currency\": \"BRL\"}, \"quantity\": 1.00, \"sequence\": 4, \"unitPrice\": {\"value\": \"1750\", \"currency\": \"BRL\"}, \"categoryId\": \"SABOR\", \"externalId\": \"0dcd4a195d6243ec806eb5a29682c797\", \"totalValue\": {\"value\": \"1750\", \"currency\": \"BRL\"}, \"categoryName\": \"Escolha um sabor\", \"integrationId\": null}, {\"name\": \"1/2 29 - PIZZA À MODA DA CASA\", \"addition\": {\"value\": \"0\", \"currency\": \"BRL\"}, \"discount\": {\"value\": \"0\", \"currency\": \"BRL\"}, \"quantity\": 1.00, \"sequence\": 4, \"unitPrice\": {\"value\": \"1750\", \"currency\": \"BRL\"}, \"categoryId\": \"SABOR2\", \"externalId\": \"0dcd4a195d6243ec806eb5a29682c797\", \"totalValue\": {\"value\": \"1750\", \"currency\": \"BRL\"}, \"categoryName\": \"Escolha o segundo sabor\", \"integrationId\": null}], \"integrationId\": null, \"totalAddition\": {\"value\": \"0\", \"currency\": \"BRL\"}, \"totalDiscount\": {\"value\": \"0\", \"currency\": \"BRL\"}}]</td><td>b6096419455c35d06105a5ef0d25c51f9dd40e1e99ac3353c133a9bae4e5ddad</td><td>-46.53</td><td>-23.44</td><td>America/Sao_Paulo</td><td>2019-01-17T22:53:47.000Z</td><td>c37e495a91b498bb7b70a9e09ac115d0cdd443f152dc112a5476745f84ca16cd</td><td>false</td><td>35.0</td><td>IOS</td></tr><tr><td>63579726866</td><td>cab1a004b7206d07910092c515a79834fea0a03d7d905483121d8450003eb24c</td><td>ANNIE</td><td>SAO PAULO</td><td>BR</td><td>PARQUE SAO JORGE</td><td>7834087</td><td>-46.57</td><td>-23.53</td><td>SP</td><td>30870</td><td>[{\"name\": \"CALABRESA\", \"addition\": {\"value\": \"0\", \"currency\": \"BRL\"}, \"discount\": {\"value\": \"0\", \"currency\": \"BRL\"}, \"quantity\": 1.00, \"sequence\": 1, \"unitPrice\": {\"value\": \"2040\", \"currency\": \"BRL\"}, \"externalId\": \"5b598957c69a4aa68e02a20e3ce617a1\", \"totalValue\": {\"value\": \"2040\", \"currency\": \"BRL\"}, \"customerNote\": null, \"garnishItems\": [], \"integrationId\": null, \"totalAddition\": {\"value\": \"0\", \"currency\": \"BRL\"}, \"totalDiscount\": {\"value\": \"0\", \"currency\": \"BRL\"}}, {\"name\": \"CHEESE SALADA\", \"addition\": {\"value\": \"0\", \"currency\": \"BRL\"}, \"discount\": {\"value\": \"0\", \"currency\": \"BRL\"}, \"quantity\": 1.00, \"sequence\": 2, \"unitPrice\": {\"value\": \"2040\", \"currency\": \"BRL\"}, \"externalId\": \"3a64b961d342467ea23792556c99f7c2\", \"totalValue\": {\"value\": \"2040\", \"currency\": \"BRL\"}, \"customerNote\": \"Sem tomate\", \"garnishItems\": [], \"integrationId\": null, \"totalAddition\": {\"value\": \"0\", \"currency\": \"BRL\"}, \"totalDiscount\": {\"value\": \"0\", \"currency\": \"BRL\"}}]</td><td>082bfdcdf6ccdc343e3c4d25ee376b5b6ca7e96ad8b04e66db1391f3fd0d34c9</td><td>-46.57</td><td>-23.53</td><td>America/Sao_Paulo</td><td>2019-01-17T23:56:53.000Z</td><td>b4df94142d21354611247da9ca94f870c09b93989b531afdcc251e06fc90af03</td><td>false</td><td>40.8</td><td>IOS</td></tr><tr><td>90617788806</td><td>aa7edf5b166b8c843aec3b96dc561222888734f3879123e89e65521faff96e9a</td><td>DANIEL</td><td>VITORIA</td><td>BR</td><td>JARDIM CAMBURI</td><td>7211683</td><td>-40.27</td><td>-20.25</td><td>ES</td><td>29090</td><td>[{\"name\": \"GRANDE (35CM) 8 PDÇ 2 SABORES\", \"addition\": {\"value\": \"0\", \"currency\": \"BRL\"}, \"discount\": {\"value\": \"0\", \"currency\": \"BRL\"}, \"quantity\": 1.00, \"sequence\": 1, \"unitPrice\": {\"value\": \"0\", \"currency\": \"BRL\"}, \"externalId\": \"83127d50665f4a269febd427eb49306b\", \"totalValue\": {\"value\": \"0\", \"currency\": \"BRL\"}, \"customerNote\": null, \"garnishItems\": [{\"name\": \"BORDA CATUPIRY GRÁTIS \", \"addition\": {\"value\": \"0\", \"currency\": \"BRL\"}, \"discount\": {\"value\": \"0\", \"currency\": \"BRL\"}, \"quantity\": 1.00, \"sequence\": 2, \"unitPrice\": {\"value\": \"0\", \"currency\": \"BRL\"}, \"categoryId\": \"0025\", \"externalId\": \"e9a71c078a6045eabb09bd4d38b991c6\", \"totalValue\": {\"value\": \"0\", \"currency\": \"BRL\"}, \"categoryName\": \"Escolha a sua Preferência\", \"integrationId\": null}, {\"name\": \"1/2 MISTA\", \"addition\": {\"value\": \"0\", \"currency\": \"BRL\"}, \"discount\": {\"value\": \"0\", \"currency\": \"BRL\"}, \"quantity\": 1.00, \"sequence\": 3, \"unitPrice\": {\"value\": \"2425\", \"currency\": \"BRL\"}, \"categoryId\": \"SABOR\", \"externalId\": \"46510932dfd448af910ae16e112a8d3a\", \"totalValue\": {\"value\": \"2425\", \"currency\": \"BRL\"}, \"categoryName\": \"Escolha um sabor\", \"integrationId\": null}, {\"name\": \"1/2 MISTA\", \"addition\": {\"value\": \"0\", \"currency\": \"BRL\"}, \"discount\": {\"value\": \"0\", \"currency\": \"BRL\"}, \"quantity\": 1.00, \"sequence\": 3, \"unitPrice\": {\"value\": \"2425\", \"currency\": \"BRL\"}, \"categoryId\": \"SABOR2\", \"externalId\": \"46510932dfd448af910ae16e112a8d3a\", \"totalValue\": {\"value\": \"2425\", \"currency\": \"BRL\"}, \"categoryName\": \"Escolha o segundo sabor\", \"integrationId\": null}, {\"name\": \"1/2 À MODA CAPIXABA\", \"addition\": {\"value\": \"0\", \"currency\": \"BRL\"}, \"discount\": {\"value\": \"0\", \"currency\": \"BRL\"}, \"quantity\": 1.00, \"sequence\": 4, \"unitPrice\": {\"value\": \"2425\", \"currency\": \"BRL\"}, \"categoryId\": \"SABOR\", \"externalId\": \"5be89603526f4c42a6d9ac9e05f8a19a\", \"totalValue\": {\"value\": \"2425\", \"currency\": \"BRL\"}, \"categoryName\": \"Escolha um sabor\", \"integrationId\": null}, {\"name\": \"1/2 À MODA CAPIXABA\", \"addition\": {\"value\": \"0\", \"currency\": \"BRL\"}, \"discount\": {\"value\": \"0\", \"currency\": \"BRL\"}, \"quantity\": 1.00, \"sequence\": 4, \"unitPrice\": {\"value\": \"2425\", \"currency\": \"BRL\"}, \"categoryId\": \"SABOR2\", \"externalId\": \"5be89603526f4c42a6d9ac9e05f8a19a\", \"totalValue\": {\"value\": \"2425\", \"currency\": \"BRL\"}, \"categoryName\": \"Escolha o segundo sabor\", \"integrationId\": null}], \"integrationId\": null, \"totalAddition\": {\"value\": \"0\", \"currency\": \"BRL\"}, \"totalDiscount\": {\"value\": \"0\", \"currency\": \"BRL\"}}]</td><td>d7adb764bac29ccb77fb8f746ffbd531bf05ec30a7e1306afed1fc1a821b7854</td><td>-40.27</td><td>-20.25</td><td>America/Sao_Paulo</td><td>2019-01-17T23:40:53.000Z</td><td>4ff64b33b272c1886df21b63272220af6a82d1667dba70dad201810d98608dd8</td><td>false</td><td>48.5</td><td>ANDROID</td></tr><tr><td>49736666572</td><td>ad7ddcda2f57003170b8430f2b157c61fb63297bb8622e3f75139ddc2e0cde29</td><td>ANDRE</td><td>SAO PAULO</td><td>BR</td><td>JARDIM PAULISTA</td><td>1989863</td><td>-46.66</td><td>-23.57</td><td>SP</td><td>14280</td><td>[{\"name\": \"GRANDE 2 SABORES\", \"addition\": {\"value\": \"0\", \"currency\": \"BRL\"}, \"discount\": {\"value\": \"0\", \"currency\": \"BRL\"}, \"quantity\": 1.00, \"sequence\": 1, \"unitPrice\": {\"value\": \"0\", \"currency\": \"BRL\"}, \"externalId\": \"7d574da42a5049d985813e5386374d8f\", \"totalValue\": {\"value\": \"0\", \"currency\": \"BRL\"}, \"customerNote\": null, \"garnishItems\": [{\"name\": \"MASSA TRADICIONAL\", \"addition\": {\"value\": \"0\", \"currency\": \"BRL\"}, \"discount\": {\"value\": \"0\", \"currency\": \"BRL\"}, \"quantity\": 1.00, \"sequence\": 2, \"unitPrice\": {\"value\": \"0\", \"currency\": \"BRL\"}, \"categoryId\": \"0025\", \"externalId\": \"9673073baef2497094d5394f6e6fb1e0\", \"totalValue\": {\"value\": \"0\", \"currency\": \"BRL\"}, \"categoryName\": \"Escolha a sua Preferência\", \"integrationId\": null}, {\"name\": \"1/2 MARGHERITA\", \"addition\": {\"value\": \"450\", \"currency\": \"BRL\"}, \"discount\": {\"value\": \"0\", \"currency\": \"BRL\"}, \"quantity\": 1.00, \"sequence\": 3, \"unitPrice\": {\"value\": \"2950\", \"currency\": \"BRL\"}, \"categoryId\": \"SABOR\", \"externalId\": \"3ad791d57d3a4923889b5c25a233af4e\", \"totalValue\": {\"value\": \"2950\", \"currency\": \"BRL\"}, \"categoryName\": \"Escolha um sabor\", \"integrationId\": null}, {\"name\": \"1/2 MARGHERITA\", \"addition\": {\"value\": \"450\", \"currency\": \"BRL\"}, \"discount\": {\"value\": \"0\", \"currency\": \"BRL\"}, \"quantity\": 1.00, \"sequence\": 3, \"unitPrice\": {\"value\": \"2950\", \"currency\": \"BRL\"}, \"categoryId\": \"SABOR2\", \"externalId\": \"3ad791d57d3a4923889b5c25a233af4e\", \"totalValue\": {\"value\": \"2950\", \"currency\": \"BRL\"}, \"categoryName\": \"Escolha o segundo sabor\", \"integrationId\": null}, {\"name\": \"1/2 DELLA NONNA\", \"addition\": {\"value\": \"0\", \"currency\": \"BRL\"}, \"discount\": {\"value\": \"0\", \"currency\": \"BRL\"}, \"quantity\": 1.00, \"sequence\": 4, \"unitPrice\": {\"value\": \"3400\", \"currency\": \"BRL\"}, \"categoryId\": \"SABOR\", \"externalId\": \"ea110a2c24cd48c4b26a2688e90c724b\", \"totalValue\": {\"value\": \"3400\", \"currency\": \"BRL\"}, \"categoryName\": \"Escolha um sabor\", \"integrationId\": null}, {\"name\": \"1/2 DELLA NONNA\", \"addition\": {\"value\": \"0\", \"currency\": \"BRL\"}, \"discount\": {\"value\": \"0\", \"currency\": \"BRL\"}, \"quantity\": 1.00, \"sequence\": 4, \"unitPrice\": {\"value\": \"3400\", \"currency\": \"BRL\"}, \"categoryId\": \"SABOR2\", \"externalId\": \"ea110a2c24cd48c4b26a2688e90c724b\", \"totalValue\": {\"value\": \"3400\", \"currency\": \"BRL\"}, \"categoryName\": \"Escolha o segundo sabor\", \"integrationId\": null}], \"integrationId\": null, \"totalAddition\": {\"value\": \"0\", \"currency\": \"BRL\"}, \"totalDiscount\": {\"value\": \"0\", \"currency\": \"BRL\"}}, {\"name\": \"Guaraná Antarctica Zero (2 litros)\", \"addition\": {\"value\": \"0\", \"currency\": \"BRL\"}, \"discount\": {\"value\": \"0\", \"currency\": \"BRL\"}, \"quantity\": 2.00, \"sequence\": 5, \"unitPrice\": {\"value\": \"800\", \"currency\": \"BRL\"}, \"externalId\": \"23fc81b0447f45d2b8eb583ff4e63a7c\", \"totalValue\": {\"value\": \"1600\", \"currency\": \"BRL\"}, \"customerNote\": null, \"garnishItems\": [], \"integrationId\": null, \"totalAddition\": {\"value\": \"0\", \"currency\": \"BRL\"}, \"totalDiscount\": {\"value\": \"0\", \"currency\": \"BRL\"}}]</td><td>c5c5fc3985020b3f637495e7d71828e2217e2035618e3ebae240fc69c18bae30</td><td>-46.66</td><td>-23.57</td><td>America/Sao_Paulo</td><td>2019-01-17T23:54:27.000Z</td><td>84a9eff359a75fcd34066186d2cd5ec128ebbed47a639c9a44a7db39b816611f</td><td>false</td><td>84.0</td><td>IOS</td></tr><tr><td>75685211474</td><td>f8946264bb2f7344b271ab452db2d1be7f31ec18d0a890200c34195e956dbac2</td><td>PRISCILLA</td><td>RIO DE JANEIRO</td><td>BR</td><td>MADUREIRA</td><td>4021471</td><td>-43.33</td><td>-22.86</td><td>RJ</td><td>21360</td><td>[{\"name\": \"Açaí\", \"addition\": {\"value\": \"0\", \"currency\": \"BRL\"}, \"discount\": {\"value\": \"0\", \"currency\": \"BRL\"}, \"quantity\": 2.00, \"sequence\": 1, \"unitPrice\": {\"value\": \"0\", \"currency\": \"BRL\"}, \"externalId\": \"17cd2c74c83b4bcabfc6efdbc57fa95a\", \"totalValue\": {\"value\": \"0\", \"currency\": \"BRL\"}, \"customerNote\": null, \"garnishItems\": [{\"name\": \"500ml\", \"addition\": {\"value\": \"0\", \"currency\": \"BRL\"}, \"discount\": {\"value\": \"0\", \"currency\": \"BRL\"}, \"quantity\": 2.00, \"sequence\": 2, \"unitPrice\": {\"value\": \"800\", \"currency\": \"BRL\"}, \"categoryId\": \"1F7Q3\", \"externalId\": \"de3350eb76974e65b54661a0aa0e085e\", \"totalValue\": {\"value\": \"1600\", \"currency\": \"BRL\"}, \"categoryName\": \"Escolha o tamanho\", \"integrationId\": null}], \"integrationId\": null, \"totalAddition\": {\"value\": \"0\", \"currency\": \"BRL\"}, \"totalDiscount\": {\"value\": \"0\", \"currency\": \"BRL\"}}]</td><td>125d56923af93676b533363c591530c8fc14fead815389b55c3010b977f2c4c8</td><td>-43.33</td><td>-22.86</td><td>America/Sao_Paulo</td><td>2019-01-17T21:47:53.000Z</td><td>8ed9e75f134692b4d3421e85de115343b7bfa5df98fc9418d555b8dbeed05475</td><td>false</td><td>16.0</td><td>ANDROID</td></tr><tr><td>23526017552</td><td>77d523d52fd20598b8b996e357046dbd7f6cd7fd47b25eb4990ef8a299d44686</td><td>BRUNO</td><td>SAO PAULO</td><td>BR</td><td>PLANALTO PAULISTA</td><td>2837671</td><td>-46.64</td><td>-23.62</td><td>SP</td><td>40690</td><td>[{\"name\": \"ROLINHO DE CHOCOLATE COM BANANA\", \"addition\": {\"value\": \"0\", \"currency\": \"BRL\"}, \"discount\": {\"value\": \"0\", \"currency\": \"BRL\"}, \"quantity\": 1.00, \"sequence\": 2, \"unitPrice\": {\"value\": \"1100\", \"currency\": \"BRL\"}, \"externalId\": \"3945ac1715f04b41921bcac369aa7c0e\", \"totalValue\": {\"value\": \"1100\", \"currency\": \"BRL\"}, \"customerNote\": null, \"garnishItems\": [], \"integrationId\": null, \"totalAddition\": {\"value\": \"0\", \"currency\": \"BRL\"}, \"totalDiscount\": {\"value\": \"0\", \"currency\": \"BRL\"}}, {\"name\": \"YAKISOBA DE VEGETAIS GRANDE\", \"addition\": {\"value\": \"0\", \"currency\": \"BRL\"}, \"discount\": {\"value\": \"0\", \"currency\": \"BRL\"}, \"quantity\": 1.00, \"sequence\": 1, \"unitPrice\": {\"value\": \"3290\", \"currency\": \"BRL\"}, \"externalId\": \"376c4f2bede84056aa2bbbb950205740\", \"totalValue\": {\"value\": \"3290\", \"currency\": \"BRL\"}, \"customerNote\": null, \"garnishItems\": [], \"integrationId\": null, \"totalAddition\": {\"value\": \"0\", \"currency\": \"BRL\"}, \"totalDiscount\": {\"value\": \"0\", \"currency\": \"BRL\"}}]</td><td>67a9cd8ce2c51fc98a334b48d61a1e045ced616cb4fcc551cf16aaa9535604dd</td><td>-46.64</td><td>-23.62</td><td>America/Sao_Paulo</td><td>2019-01-17T23:25:59.000Z</td><td>94e31a4d37f49bda0fbf6d68bd0c21ca06827e50cc7437e7677ec603c78ea3aa</td><td>false</td><td>43.9</td><td>IOS</td></tr><tr><td>06823673386</td><td>4099e6f87d7910fd88f96a6c853227437ee89b68aae52c2b3da6c0332187d5f9</td><td>EDUARDO</td><td>FORTALEZA</td><td>BR</td><td>MEIRELES</td><td>2972297</td><td>-38.50</td><td>-3.73</td><td>CE</td><td>60125</td><td>[{\"name\": \"GRANDE  2 SABORES\", \"addition\": {\"value\": \"0\", \"currency\": \"BRL\"}, \"discount\": {\"value\": \"0\", \"currency\": \"BRL\"}, \"quantity\": 1.00, \"sequence\": 1, \"unitPrice\": {\"value\": \"0\", \"currency\": \"BRL\"}, \"externalId\": \"2000120b9516407e9c9629d5a9194012\", \"totalValue\": {\"value\": \"0\", \"currency\": \"BRL\"}, \"customerNote\": null, \"garnishItems\": [{\"name\": \"MASSA TRADICIONAL \", \"addition\": {\"value\": \"0\", \"currency\": \"BRL\"}, \"discount\": {\"value\": \"0\", \"currency\": \"BRL\"}, \"quantity\": 1.00, \"sequence\": 2, \"unitPrice\": {\"value\": \"0\", \"currency\": \"BRL\"}, \"categoryId\": \"0025\", \"externalId\": \"e7aaed15e7c24149b8fae6c022e3f4a9\", \"totalValue\": {\"value\": \"0\", \"currency\": \"BRL\"}, \"categoryName\": \"Escolha a sua Preferência\", \"integrationId\": null}, {\"name\": \"1/2 093 - SICILIANA \", \"addition\": {\"value\": \"0\", \"currency\": \"BRL\"}, \"discount\": {\"value\": \"0\", \"currency\": \"BRL\"}, \"quantity\": 1.00, \"sequence\": 3, \"unitPrice\": {\"value\": \"1795\", \"currency\": \"BRL\"}, \"categoryId\": \"SABOR\", \"externalId\": \"f85302e3bf704368a592d1f6deeb5eae\", \"totalValue\": {\"value\": \"1795\", \"currency\": \"BRL\"}, \"categoryName\": \"Escolha um sabor\", \"integrationId\": null}, {\"name\": \"1/2 093 - SICILIANA \", \"addition\": {\"value\": \"0\", \"currency\": \"BRL\"}, \"discount\": {\"value\": \"0\", \"currency\": \"BRL\"}, \"quantity\": 1.00, \"sequence\": 3, \"unitPrice\": {\"value\": \"1795\", \"currency\": \"BRL\"}, \"categoryId\": \"SABOR2\", \"externalId\": \"f85302e3bf704368a592d1f6deeb5eae\", \"totalValue\": {\"value\": \"1795\", \"currency\": \"BRL\"}, \"categoryName\": \"Escolha o segundo sabor\", \"integrationId\": null}, {\"name\": \"1/2 323 - PORTUGUESA \", \"addition\": {\"value\": \"0\", \"currency\": \"BRL\"}, \"discount\": {\"value\": \"0\", \"currency\": \"BRL\"}, \"quantity\": 1.00, \"sequence\": 4, \"unitPrice\": {\"value\": \"1795\", \"currency\": \"BRL\"}, \"categoryId\": \"SABOR\", \"externalId\": \"7dc03eeaaea84b29be4fff1833e45c96\", \"totalValue\": {\"value\": \"1795\", \"currency\": \"BRL\"}, \"categoryName\": \"Escolha um sabor\", \"integrationId\": null}, {\"name\": \"1/2 323 - PORTUGUESA \", \"addition\": {\"value\": \"0\", \"currency\": \"BRL\"}, \"discount\": {\"value\": \"0\", \"currency\": \"BRL\"}, \"quantity\": 1.00, \"sequence\": 4, \"unitPrice\": {\"value\": \"1795\", \"currency\": \"BRL\"}, \"categoryId\": \"SABOR2\", \"externalId\": \"7dc03eeaaea84b29be4fff1833e45c96\", \"totalValue\": {\"value\": \"1795\", \"currency\": \"BRL\"}, \"categoryName\": \"Escolha o segundo sabor\", \"integrationId\": null}], \"integrationId\": null, \"totalAddition\": {\"value\": \"0\", \"currency\": \"BRL\"}, \"totalDiscount\": {\"value\": \"0\", \"currency\": \"BRL\"}}]</td><td>11c5c1260ce3c607b8522f80dacc7b3aa9edb6f3856705fc74ae6272d2fddc22</td><td>-38.50</td><td>-3.73</td><td>America/Fortaleza</td><td>2019-01-17T22:28:09.000Z</td><td>d928f06312a10ae20ddbad7cb24bf004d3210b29047f38b530efb968fecd725b</td><td>false</td><td>35.9</td><td>IOS</td></tr><tr><td>79719037778</td><td>39e02a93ff21345e7ab41484ad4e125b906df3408be6598a59e48a21fc8de9c0</td><td>Amanda</td><td>RIO DE JANEIRO</td><td>BR</td><td>QUINTINO BOCAIUVA</td><td>2938122</td><td>-43.32</td><td>-22.89</td><td>RJ</td><td>21380</td><td>[{\"name\": \"Açaí\", \"addition\": {\"value\": \"0\", \"currency\": \"BRL\"}, \"discount\": {\"value\": \"0\", \"currency\": \"BRL\"}, \"quantity\": 2.00, \"sequence\": 3, \"unitPrice\": {\"value\": \"0\", \"currency\": \"BRL\"}, \"externalId\": \"2acdc33845c741d38b509f1402058c4b\", \"totalValue\": {\"value\": \"0\", \"currency\": \"BRL\"}, \"customerNote\": \"2 granolas separadas por favor0\", \"garnishItems\": [{\"name\": \"500 ml\", \"addition\": {\"value\": \"0\", \"currency\": \"BRL\"}, \"discount\": {\"value\": \"0\", \"currency\": \"BRL\"}, \"quantity\": 2.00, \"sequence\": 4, \"unitPrice\": {\"value\": \"800\", \"currency\": \"BRL\"}, \"categoryId\": \"16VIL\", \"externalId\": \"874be3115dee4b8395c5b26e74e531f2\", \"totalValue\": {\"value\": \"1600\", \"currency\": \"BRL\"}, \"categoryName\": \"Escolha um Tamanho\", \"integrationId\": null}], \"integrationId\": null, \"totalAddition\": {\"value\": \"0\", \"currency\": \"BRL\"}, \"totalDiscount\": {\"value\": \"0\", \"currency\": \"BRL\"}}, {\"name\": \"TRIO - Número 1\", \"addition\": {\"value\": \"0\", \"currency\": \"BRL\"}, \"discount\": {\"value\": \"0\", \"currency\": \"BRL\"}, \"quantity\": 1.00, \"sequence\": 1, \"unitPrice\": {\"value\": \"1600\", \"currency\": \"BRL\"}, \"externalId\": \"771f96d99dc1472caaa8a26f2b94e906\", \"totalValue\": {\"value\": \"1600\", \"currency\": \"BRL\"}, \"customerNote\": \" \", \"garnishItems\": [{\"name\": \"Fanta Laranja Lata\", \"addition\": {\"value\": \"0\", \"currency\": \"BRL\"}, \"discount\": {\"value\": \"0\", \"currency\": \"BRL\"}, \"quantity\": 1.00, \"sequence\": 2, \"unitPrice\": {\"value\": \"0\", \"currency\": \"BRL\"}, \"categoryId\": \"18XKL\", \"externalId\": \"61d7db2af042492cac5e759ed2a45c2d\", \"totalValue\": {\"value\": \"0\", \"currency\": \"BRL\"}, \"categoryName\": \"Escolha sua preferencia\", \"integrationId\": null}], \"integrationId\": null, \"totalAddition\": {\"value\": \"0\", \"currency\": \"BRL\"}, \"totalDiscount\": {\"value\": \"0\", \"currency\": \"BRL\"}}, {\"name\": \"Trio - Cheddar\", \"addition\": {\"value\": \"0\", \"currency\": \"BRL\"}, \"discount\": {\"value\": \"0\", \"currency\": \"BRL\"}, \"quantity\": 1.00, \"sequence\": 5, \"unitPrice\": {\"value\": \"1400\", \"currency\": \"BRL\"}, \"externalId\": \"1c30a29f8a254761a52e977205a52b23\", \"totalValue\": {\"value\": \"1400\", \"currency\": \"BRL\"}, \"customerNote\": null, \"garnishItems\": [{\"name\": \"Coca- cola Zero Lata\", \"addition\": {\"value\": \"0\", \"currency\": \"BRL\"}, \"discount\": {\"value\": \"0\", \"currency\": \"BRL\"}, \"quantity\": 1.00, \"sequence\": 6, \"unitPrice\": {\"value\": \"0\", \"currency\": \"BRL\"}, \"categoryId\": \"18XKJ\", \"externalId\": \"c6cde92441aa47808ecfeff1dd4d8610\", \"totalValue\": {\"value\": \"0\", \"currency\": \"BRL\"}, \"categoryName\": \"Escolha sua preferencia\", \"integrationId\": null}], \"integrationId\": null, \"totalAddition\": {\"value\": \"0\", \"currency\": \"BRL\"}, \"totalDiscount\": {\"value\": \"0\", \"currency\": \"BRL\"}}]</td><td>f9f6289912cbaa8987e059ee895ea2b3cf2dd7f68a6c508c4e96c26cbdcf5406</td><td>-43.32</td><td>-22.89</td><td>America/Sao_Paulo</td><td>2019-01-17T22:49:28.000Z</td><td>2c299d7071fe54264662e3076b5ec853f1fadd7cbaebd2d5cc91fa36e2b98367</td><td>false</td><td>46.0</td><td>ANDROID</td></tr></tbody></table></div>"
      ]
     },
     "metadata": {
      "application/vnd.databricks.v1+output": {
       "addedWidgets": {},
       "aggData": [],
       "aggError": "",
       "aggOverflow": false,
       "aggSchema": [],
       "aggSeriesLimitReached": false,
       "aggType": "",
       "arguments": {},
       "columnCustomDisplayInfos": {},
       "data": [
        [
         "80532101763",
         "7ba88a68bb2a3504c6bd37a707af57a0b8d6e110a551c719c9e7f71aaf3a99cf",
         "GUSTAVO",
         "FRANCA",
         "BR",
         "JARDIM ESPRAIADO",
         "6736655",
         "-47.39",
         "-20.55",
         "SP",
         "14403",
         "[{\"name\": \"Parmegiana de Filé de Frango (2 pessoas)\", \"addition\": {\"value\": \"0\", \"currency\": \"BRL\"}, \"discount\": {\"value\": \"0\", \"currency\": \"BRL\"}, \"quantity\": 1.00, \"sequence\": 1, \"unitPrice\": {\"value\": \"2800\", \"currency\": \"BRL\"}, \"externalId\": \"0bcd6764fd5e466d9c04b18ac0eb69e6\", \"totalValue\": {\"value\": \"2800\", \"currency\": \"BRL\"}, \"customerNote\": null, \"garnishItems\": [{\"name\": \"COM Arroz branco\", \"addition\": {\"value\": \"0\", \"currency\": \"BRL\"}, \"discount\": {\"value\": \"0\", \"currency\": \"BRL\"}, \"quantity\": 1.00, \"sequence\": 2, \"unitPrice\": {\"value\": \"0\", \"currency\": \"BRL\"}, \"categoryId\": \"13HDH\", \"externalId\": \"384bd2b4eb7d454d8e0274e7d590ab4f\", \"totalValue\": {\"value\": \"0\", \"currency\": \"BRL\"}, \"categoryName\": \"PERSONALIZAR\", \"integrationId\": null}], \"integrationId\": \"PMFR\", \"totalAddition\": {\"value\": \"0\", \"currency\": \"BRL\"}, \"totalDiscount\": {\"value\": \"0\", \"currency\": \"BRL\"}}, {\"name\": \"Lasanha Frango (2 pessoas)\", \"addition\": {\"value\": \"0\", \"currency\": \"BRL\"}, \"discount\": {\"value\": \"0\", \"currency\": \"BRL\"}, \"quantity\": 1.00, \"sequence\": 3, \"unitPrice\": {\"value\": \"1800\", \"currency\": \"BRL\"}, \"externalId\": \"a361f5eec6a44ac0817892e81bf22e80\", \"totalValue\": {\"value\": \"1800\", \"currency\": \"BRL\"}, \"customerNote\": null, \"garnishItems\": [], \"integrationId\": \"LF\", \"totalAddition\": {\"value\": \"0\", \"currency\": \"BRL\"}, \"totalDiscount\": {\"value\": \"0\", \"currency\": \"BRL\"}}]",
         "a992a079a651e699d9149423761df2427c0e3af0a2a1b5bb6d2bad1cb3a3a265",
         "-47.39",
         "-20.55",
         "America/Sao_Paulo",
         "2019-01-17T22:50:06.000Z",
         "33e0612d62e5eb42aba15b58413137e441fbe906de2febd6a6c721b0e5773b44",
         false,
         46.0,
         "ANDROID"
        ],
        [
         "43352103961",
         "078acecdcf7fa89d356bfa349f14a8219db1ee161ce28ae4d9fee550c95d6fbd",
         "MICHELLE",
         "SANTOS",
         "BR",
         "CAMPO GRANDE",
         "8759216",
         "-46.34",
         "-23.96",
         "SP",
         "11070",
         "[{\"name\": \"Filé Mignon à Cubana\", \"addition\": {\"value\": \"0\", \"currency\": \"BRL\"}, \"discount\": {\"value\": \"0\", \"currency\": \"BRL\"}, \"quantity\": 1.00, \"sequence\": 1, \"unitPrice\": {\"value\": \"0\", \"currency\": \"BRL\"}, \"externalId\": \"e0e81b2027c241cca5bf60a4768800ec\", \"totalValue\": {\"value\": \"0\", \"currency\": \"BRL\"}, \"customerNote\": null, \"garnishItems\": [{\"name\": \"334 - 1/2 porção \", \"addition\": {\"value\": \"0\", \"currency\": \"BRL\"}, \"discount\": {\"value\": \"0\", \"currency\": \"BRL\"}, \"quantity\": 1.00, \"sequence\": 2, \"unitPrice\": {\"value\": \"7350\", \"currency\": \"BRL\"}, \"categoryId\": \"1J3T0\", \"externalId\": \"b869c10747d1417d8968d7e3e1bd7de4\", \"totalValue\": {\"value\": \"7350\", \"currency\": \"BRL\"}, \"categoryName\": \"escolha sua porção \", \"integrationId\": null}], \"integrationId\": null, \"totalAddition\": {\"value\": \"0\", \"currency\": \"BRL\"}, \"totalDiscount\": {\"value\": \"0\", \"currency\": \"BRL\"}}, {\"name\": \"603- Pudim de leite\", \"addition\": {\"value\": \"0\", \"currency\": \"BRL\"}, \"discount\": {\"value\": \"0\", \"currency\": \"BRL\"}, \"quantity\": 1.00, \"sequence\": 4, \"unitPrice\": {\"value\": \"800\", \"currency\": \"BRL\"}, \"externalId\": \"4436f76edc164052aaf3c21a6567b570\", \"totalValue\": {\"value\": \"800\", \"currency\": \"BRL\"}, \"customerNote\": null, \"garnishItems\": [], \"integrationId\": null, \"totalAddition\": {\"value\": \"0\", \"currency\": \"BRL\"}, \"totalDiscount\": {\"value\": \"0\", \"currency\": \"BRL\"}}, {\"name\": \"601-Torta Holandesa\", \"addition\": {\"value\": \"0\", \"currency\": \"BRL\"}, \"discount\": {\"value\": \"0\", \"currency\": \"BRL\"}, \"quantity\": 1.00, \"sequence\": 5, \"unitPrice\": {\"value\": \"800\", \"currency\": \"BRL\"}, \"externalId\": \"c0b788e876c54f198307dc142fed7aff\", \"totalValue\": {\"value\": \"800\", \"currency\": \"BRL\"}, \"customerNote\": null, \"garnishItems\": [], \"integrationId\": null, \"totalAddition\": {\"value\": \"0\", \"currency\": \"BRL\"}, \"totalDiscount\": {\"value\": \"0\", \"currency\": \"BRL\"}}, {\"name\": \"513 - Guarnição Completa II\", \"addition\": {\"value\": \"0\", \"currency\": \"BRL\"}, \"discount\": {\"value\": \"0\", \"currency\": \"BRL\"}, \"quantity\": 1.00, \"sequence\": 3, \"unitPrice\": {\"value\": \"1500\", \"currency\": \"BRL\"}, \"externalId\": \"385fb04a358340878b14116df9970e46\", \"totalValue\": {\"value\": \"1500\", \"currency\": \"BRL\"}, \"customerNote\": null, \"garnishItems\": [], \"integrationId\": null, \"totalAddition\": {\"value\": \"0\", \"currency\": \"BRL\"}, \"totalDiscount\": {\"value\": \"0\", \"currency\": \"BRL\"}}]",
         "5152f28ee0518b8803ccf0a4096eb2ff8b81e9491861c9d1b673846ae027b8b0",
         "-46.34",
         "-23.96",
         "America/Sao_Paulo",
         "2019-01-17T17:51:26.000Z",
         "148c4353a2952f3fe7973547283265eb22b575fb712ed2618a6cf2d813b987ad",
         false,
         104.5,
         "ANDROID"
        ],
        [
         "38650991217",
         "0e38a3237b5946e8ab2367b4f1a3ae6e77f1e215bc760ca332153516c13b9c2e",
         "VICTOR",
         "GUARULHOS",
         "BR",
         "JARDIM ROSSI",
         "8765930",
         "-46.53",
         "-23.44",
         "SP",
         "71304",
         "[{\"name\": \"GRANDE 2 SABORES\", \"addition\": {\"value\": \"0\", \"currency\": \"BRL\"}, \"discount\": {\"value\": \"0\", \"currency\": \"BRL\"}, \"quantity\": 1.00, \"sequence\": 1, \"unitPrice\": {\"value\": \"0\", \"currency\": \"BRL\"}, \"externalId\": \"87a24efdd88c4b7b8bf1132cabfd4195\", \"totalValue\": {\"value\": \"0\", \"currency\": \"BRL\"}, \"customerNote\": null, \"garnishItems\": [{\"name\": \"TRADICIONAL\", \"addition\": {\"value\": \"0\", \"currency\": \"BRL\"}, \"discount\": {\"value\": \"0\", \"currency\": \"BRL\"}, \"quantity\": 1.00, \"sequence\": 2, \"unitPrice\": {\"value\": \"0\", \"currency\": \"BRL\"}, \"categoryId\": \"0025\", \"externalId\": \"2b89a4d4d6f14541a8830e5808d1f09f\", \"totalValue\": {\"value\": \"0\", \"currency\": \"BRL\"}, \"categoryName\": \"Escolha a sua Preferência\", \"integrationId\": null}, {\"name\": \"1/2 21 - PIZZA FRANGO COM BACON E CATUPIRY \", \"addition\": {\"value\": \"0\", \"currency\": \"BRL\"}, \"discount\": {\"value\": \"0\", \"currency\": \"BRL\"}, \"quantity\": 1.00, \"sequence\": 3, \"unitPrice\": {\"value\": \"1750\", \"currency\": \"BRL\"}, \"categoryId\": \"SABOR\", \"externalId\": \"c7f63cc58a3643c7aa3f24858c7029f4\", \"totalValue\": {\"value\": \"1750\", \"currency\": \"BRL\"}, \"categoryName\": \"Escolha um sabor\", \"integrationId\": null}, {\"name\": \"1/2 21 - PIZZA FRANGO COM BACON E CATUPIRY \", \"addition\": {\"value\": \"0\", \"currency\": \"BRL\"}, \"discount\": {\"value\": \"0\", \"currency\": \"BRL\"}, \"quantity\": 1.00, \"sequence\": 3, \"unitPrice\": {\"value\": \"1750\", \"currency\": \"BRL\"}, \"categoryId\": \"SABOR2\", \"externalId\": \"c7f63cc58a3643c7aa3f24858c7029f4\", \"totalValue\": {\"value\": \"1750\", \"currency\": \"BRL\"}, \"categoryName\": \"Escolha o segundo sabor\", \"integrationId\": null}, {\"name\": \"1/2 29 - PIZZA À MODA DA CASA\", \"addition\": {\"value\": \"0\", \"currency\": \"BRL\"}, \"discount\": {\"value\": \"0\", \"currency\": \"BRL\"}, \"quantity\": 1.00, \"sequence\": 4, \"unitPrice\": {\"value\": \"1750\", \"currency\": \"BRL\"}, \"categoryId\": \"SABOR\", \"externalId\": \"0dcd4a195d6243ec806eb5a29682c797\", \"totalValue\": {\"value\": \"1750\", \"currency\": \"BRL\"}, \"categoryName\": \"Escolha um sabor\", \"integrationId\": null}, {\"name\": \"1/2 29 - PIZZA À MODA DA CASA\", \"addition\": {\"value\": \"0\", \"currency\": \"BRL\"}, \"discount\": {\"value\": \"0\", \"currency\": \"BRL\"}, \"quantity\": 1.00, \"sequence\": 4, \"unitPrice\": {\"value\": \"1750\", \"currency\": \"BRL\"}, \"categoryId\": \"SABOR2\", \"externalId\": \"0dcd4a195d6243ec806eb5a29682c797\", \"totalValue\": {\"value\": \"1750\", \"currency\": \"BRL\"}, \"categoryName\": \"Escolha o segundo sabor\", \"integrationId\": null}], \"integrationId\": null, \"totalAddition\": {\"value\": \"0\", \"currency\": \"BRL\"}, \"totalDiscount\": {\"value\": \"0\", \"currency\": \"BRL\"}}]",
         "b6096419455c35d06105a5ef0d25c51f9dd40e1e99ac3353c133a9bae4e5ddad",
         "-46.53",
         "-23.44",
         "America/Sao_Paulo",
         "2019-01-17T22:53:47.000Z",
         "c37e495a91b498bb7b70a9e09ac115d0cdd443f152dc112a5476745f84ca16cd",
         false,
         35.0,
         "IOS"
        ],
        [
         "63579726866",
         "cab1a004b7206d07910092c515a79834fea0a03d7d905483121d8450003eb24c",
         "ANNIE",
         "SAO PAULO",
         "BR",
         "PARQUE SAO JORGE",
         "7834087",
         "-46.57",
         "-23.53",
         "SP",
         "30870",
         "[{\"name\": \"CALABRESA\", \"addition\": {\"value\": \"0\", \"currency\": \"BRL\"}, \"discount\": {\"value\": \"0\", \"currency\": \"BRL\"}, \"quantity\": 1.00, \"sequence\": 1, \"unitPrice\": {\"value\": \"2040\", \"currency\": \"BRL\"}, \"externalId\": \"5b598957c69a4aa68e02a20e3ce617a1\", \"totalValue\": {\"value\": \"2040\", \"currency\": \"BRL\"}, \"customerNote\": null, \"garnishItems\": [], \"integrationId\": null, \"totalAddition\": {\"value\": \"0\", \"currency\": \"BRL\"}, \"totalDiscount\": {\"value\": \"0\", \"currency\": \"BRL\"}}, {\"name\": \"CHEESE SALADA\", \"addition\": {\"value\": \"0\", \"currency\": \"BRL\"}, \"discount\": {\"value\": \"0\", \"currency\": \"BRL\"}, \"quantity\": 1.00, \"sequence\": 2, \"unitPrice\": {\"value\": \"2040\", \"currency\": \"BRL\"}, \"externalId\": \"3a64b961d342467ea23792556c99f7c2\", \"totalValue\": {\"value\": \"2040\", \"currency\": \"BRL\"}, \"customerNote\": \"Sem tomate\", \"garnishItems\": [], \"integrationId\": null, \"totalAddition\": {\"value\": \"0\", \"currency\": \"BRL\"}, \"totalDiscount\": {\"value\": \"0\", \"currency\": \"BRL\"}}]",
         "082bfdcdf6ccdc343e3c4d25ee376b5b6ca7e96ad8b04e66db1391f3fd0d34c9",
         "-46.57",
         "-23.53",
         "America/Sao_Paulo",
         "2019-01-17T23:56:53.000Z",
         "b4df94142d21354611247da9ca94f870c09b93989b531afdcc251e06fc90af03",
         false,
         40.8,
         "IOS"
        ],
        [
         "90617788806",
         "aa7edf5b166b8c843aec3b96dc561222888734f3879123e89e65521faff96e9a",
         "DANIEL",
         "VITORIA",
         "BR",
         "JARDIM CAMBURI",
         "7211683",
         "-40.27",
         "-20.25",
         "ES",
         "29090",
         "[{\"name\": \"GRANDE (35CM) 8 PDÇ 2 SABORES\", \"addition\": {\"value\": \"0\", \"currency\": \"BRL\"}, \"discount\": {\"value\": \"0\", \"currency\": \"BRL\"}, \"quantity\": 1.00, \"sequence\": 1, \"unitPrice\": {\"value\": \"0\", \"currency\": \"BRL\"}, \"externalId\": \"83127d50665f4a269febd427eb49306b\", \"totalValue\": {\"value\": \"0\", \"currency\": \"BRL\"}, \"customerNote\": null, \"garnishItems\": [{\"name\": \"BORDA CATUPIRY GRÁTIS \", \"addition\": {\"value\": \"0\", \"currency\": \"BRL\"}, \"discount\": {\"value\": \"0\", \"currency\": \"BRL\"}, \"quantity\": 1.00, \"sequence\": 2, \"unitPrice\": {\"value\": \"0\", \"currency\": \"BRL\"}, \"categoryId\": \"0025\", \"externalId\": \"e9a71c078a6045eabb09bd4d38b991c6\", \"totalValue\": {\"value\": \"0\", \"currency\": \"BRL\"}, \"categoryName\": \"Escolha a sua Preferência\", \"integrationId\": null}, {\"name\": \"1/2 MISTA\", \"addition\": {\"value\": \"0\", \"currency\": \"BRL\"}, \"discount\": {\"value\": \"0\", \"currency\": \"BRL\"}, \"quantity\": 1.00, \"sequence\": 3, \"unitPrice\": {\"value\": \"2425\", \"currency\": \"BRL\"}, \"categoryId\": \"SABOR\", \"externalId\": \"46510932dfd448af910ae16e112a8d3a\", \"totalValue\": {\"value\": \"2425\", \"currency\": \"BRL\"}, \"categoryName\": \"Escolha um sabor\", \"integrationId\": null}, {\"name\": \"1/2 MISTA\", \"addition\": {\"value\": \"0\", \"currency\": \"BRL\"}, \"discount\": {\"value\": \"0\", \"currency\": \"BRL\"}, \"quantity\": 1.00, \"sequence\": 3, \"unitPrice\": {\"value\": \"2425\", \"currency\": \"BRL\"}, \"categoryId\": \"SABOR2\", \"externalId\": \"46510932dfd448af910ae16e112a8d3a\", \"totalValue\": {\"value\": \"2425\", \"currency\": \"BRL\"}, \"categoryName\": \"Escolha o segundo sabor\", \"integrationId\": null}, {\"name\": \"1/2 À MODA CAPIXABA\", \"addition\": {\"value\": \"0\", \"currency\": \"BRL\"}, \"discount\": {\"value\": \"0\", \"currency\": \"BRL\"}, \"quantity\": 1.00, \"sequence\": 4, \"unitPrice\": {\"value\": \"2425\", \"currency\": \"BRL\"}, \"categoryId\": \"SABOR\", \"externalId\": \"5be89603526f4c42a6d9ac9e05f8a19a\", \"totalValue\": {\"value\": \"2425\", \"currency\": \"BRL\"}, \"categoryName\": \"Escolha um sabor\", \"integrationId\": null}, {\"name\": \"1/2 À MODA CAPIXABA\", \"addition\": {\"value\": \"0\", \"currency\": \"BRL\"}, \"discount\": {\"value\": \"0\", \"currency\": \"BRL\"}, \"quantity\": 1.00, \"sequence\": 4, \"unitPrice\": {\"value\": \"2425\", \"currency\": \"BRL\"}, \"categoryId\": \"SABOR2\", \"externalId\": \"5be89603526f4c42a6d9ac9e05f8a19a\", \"totalValue\": {\"value\": \"2425\", \"currency\": \"BRL\"}, \"categoryName\": \"Escolha o segundo sabor\", \"integrationId\": null}], \"integrationId\": null, \"totalAddition\": {\"value\": \"0\", \"currency\": \"BRL\"}, \"totalDiscount\": {\"value\": \"0\", \"currency\": \"BRL\"}}]",
         "d7adb764bac29ccb77fb8f746ffbd531bf05ec30a7e1306afed1fc1a821b7854",
         "-40.27",
         "-20.25",
         "America/Sao_Paulo",
         "2019-01-17T23:40:53.000Z",
         "4ff64b33b272c1886df21b63272220af6a82d1667dba70dad201810d98608dd8",
         false,
         48.5,
         "ANDROID"
        ],
        [
         "49736666572",
         "ad7ddcda2f57003170b8430f2b157c61fb63297bb8622e3f75139ddc2e0cde29",
         "ANDRE",
         "SAO PAULO",
         "BR",
         "JARDIM PAULISTA",
         "1989863",
         "-46.66",
         "-23.57",
         "SP",
         "14280",
         "[{\"name\": \"GRANDE 2 SABORES\", \"addition\": {\"value\": \"0\", \"currency\": \"BRL\"}, \"discount\": {\"value\": \"0\", \"currency\": \"BRL\"}, \"quantity\": 1.00, \"sequence\": 1, \"unitPrice\": {\"value\": \"0\", \"currency\": \"BRL\"}, \"externalId\": \"7d574da42a5049d985813e5386374d8f\", \"totalValue\": {\"value\": \"0\", \"currency\": \"BRL\"}, \"customerNote\": null, \"garnishItems\": [{\"name\": \"MASSA TRADICIONAL\", \"addition\": {\"value\": \"0\", \"currency\": \"BRL\"}, \"discount\": {\"value\": \"0\", \"currency\": \"BRL\"}, \"quantity\": 1.00, \"sequence\": 2, \"unitPrice\": {\"value\": \"0\", \"currency\": \"BRL\"}, \"categoryId\": \"0025\", \"externalId\": \"9673073baef2497094d5394f6e6fb1e0\", \"totalValue\": {\"value\": \"0\", \"currency\": \"BRL\"}, \"categoryName\": \"Escolha a sua Preferência\", \"integrationId\": null}, {\"name\": \"1/2 MARGHERITA\", \"addition\": {\"value\": \"450\", \"currency\": \"BRL\"}, \"discount\": {\"value\": \"0\", \"currency\": \"BRL\"}, \"quantity\": 1.00, \"sequence\": 3, \"unitPrice\": {\"value\": \"2950\", \"currency\": \"BRL\"}, \"categoryId\": \"SABOR\", \"externalId\": \"3ad791d57d3a4923889b5c25a233af4e\", \"totalValue\": {\"value\": \"2950\", \"currency\": \"BRL\"}, \"categoryName\": \"Escolha um sabor\", \"integrationId\": null}, {\"name\": \"1/2 MARGHERITA\", \"addition\": {\"value\": \"450\", \"currency\": \"BRL\"}, \"discount\": {\"value\": \"0\", \"currency\": \"BRL\"}, \"quantity\": 1.00, \"sequence\": 3, \"unitPrice\": {\"value\": \"2950\", \"currency\": \"BRL\"}, \"categoryId\": \"SABOR2\", \"externalId\": \"3ad791d57d3a4923889b5c25a233af4e\", \"totalValue\": {\"value\": \"2950\", \"currency\": \"BRL\"}, \"categoryName\": \"Escolha o segundo sabor\", \"integrationId\": null}, {\"name\": \"1/2 DELLA NONNA\", \"addition\": {\"value\": \"0\", \"currency\": \"BRL\"}, \"discount\": {\"value\": \"0\", \"currency\": \"BRL\"}, \"quantity\": 1.00, \"sequence\": 4, \"unitPrice\": {\"value\": \"3400\", \"currency\": \"BRL\"}, \"categoryId\": \"SABOR\", \"externalId\": \"ea110a2c24cd48c4b26a2688e90c724b\", \"totalValue\": {\"value\": \"3400\", \"currency\": \"BRL\"}, \"categoryName\": \"Escolha um sabor\", \"integrationId\": null}, {\"name\": \"1/2 DELLA NONNA\", \"addition\": {\"value\": \"0\", \"currency\": \"BRL\"}, \"discount\": {\"value\": \"0\", \"currency\": \"BRL\"}, \"quantity\": 1.00, \"sequence\": 4, \"unitPrice\": {\"value\": \"3400\", \"currency\": \"BRL\"}, \"categoryId\": \"SABOR2\", \"externalId\": \"ea110a2c24cd48c4b26a2688e90c724b\", \"totalValue\": {\"value\": \"3400\", \"currency\": \"BRL\"}, \"categoryName\": \"Escolha o segundo sabor\", \"integrationId\": null}], \"integrationId\": null, \"totalAddition\": {\"value\": \"0\", \"currency\": \"BRL\"}, \"totalDiscount\": {\"value\": \"0\", \"currency\": \"BRL\"}}, {\"name\": \"Guaraná Antarctica Zero (2 litros)\", \"addition\": {\"value\": \"0\", \"currency\": \"BRL\"}, \"discount\": {\"value\": \"0\", \"currency\": \"BRL\"}, \"quantity\": 2.00, \"sequence\": 5, \"unitPrice\": {\"value\": \"800\", \"currency\": \"BRL\"}, \"externalId\": \"23fc81b0447f45d2b8eb583ff4e63a7c\", \"totalValue\": {\"value\": \"1600\", \"currency\": \"BRL\"}, \"customerNote\": null, \"garnishItems\": [], \"integrationId\": null, \"totalAddition\": {\"value\": \"0\", \"currency\": \"BRL\"}, \"totalDiscount\": {\"value\": \"0\", \"currency\": \"BRL\"}}]",
         "c5c5fc3985020b3f637495e7d71828e2217e2035618e3ebae240fc69c18bae30",
         "-46.66",
         "-23.57",
         "America/Sao_Paulo",
         "2019-01-17T23:54:27.000Z",
         "84a9eff359a75fcd34066186d2cd5ec128ebbed47a639c9a44a7db39b816611f",
         false,
         84.0,
         "IOS"
        ],
        [
         "75685211474",
         "f8946264bb2f7344b271ab452db2d1be7f31ec18d0a890200c34195e956dbac2",
         "PRISCILLA",
         "RIO DE JANEIRO",
         "BR",
         "MADUREIRA",
         "4021471",
         "-43.33",
         "-22.86",
         "RJ",
         "21360",
         "[{\"name\": \"Açaí\", \"addition\": {\"value\": \"0\", \"currency\": \"BRL\"}, \"discount\": {\"value\": \"0\", \"currency\": \"BRL\"}, \"quantity\": 2.00, \"sequence\": 1, \"unitPrice\": {\"value\": \"0\", \"currency\": \"BRL\"}, \"externalId\": \"17cd2c74c83b4bcabfc6efdbc57fa95a\", \"totalValue\": {\"value\": \"0\", \"currency\": \"BRL\"}, \"customerNote\": null, \"garnishItems\": [{\"name\": \"500ml\", \"addition\": {\"value\": \"0\", \"currency\": \"BRL\"}, \"discount\": {\"value\": \"0\", \"currency\": \"BRL\"}, \"quantity\": 2.00, \"sequence\": 2, \"unitPrice\": {\"value\": \"800\", \"currency\": \"BRL\"}, \"categoryId\": \"1F7Q3\", \"externalId\": \"de3350eb76974e65b54661a0aa0e085e\", \"totalValue\": {\"value\": \"1600\", \"currency\": \"BRL\"}, \"categoryName\": \"Escolha o tamanho\", \"integrationId\": null}], \"integrationId\": null, \"totalAddition\": {\"value\": \"0\", \"currency\": \"BRL\"}, \"totalDiscount\": {\"value\": \"0\", \"currency\": \"BRL\"}}]",
         "125d56923af93676b533363c591530c8fc14fead815389b55c3010b977f2c4c8",
         "-43.33",
         "-22.86",
         "America/Sao_Paulo",
         "2019-01-17T21:47:53.000Z",
         "8ed9e75f134692b4d3421e85de115343b7bfa5df98fc9418d555b8dbeed05475",
         false,
         16.0,
         "ANDROID"
        ],
        [
         "23526017552",
         "77d523d52fd20598b8b996e357046dbd7f6cd7fd47b25eb4990ef8a299d44686",
         "BRUNO",
         "SAO PAULO",
         "BR",
         "PLANALTO PAULISTA",
         "2837671",
         "-46.64",
         "-23.62",
         "SP",
         "40690",
         "[{\"name\": \"ROLINHO DE CHOCOLATE COM BANANA\", \"addition\": {\"value\": \"0\", \"currency\": \"BRL\"}, \"discount\": {\"value\": \"0\", \"currency\": \"BRL\"}, \"quantity\": 1.00, \"sequence\": 2, \"unitPrice\": {\"value\": \"1100\", \"currency\": \"BRL\"}, \"externalId\": \"3945ac1715f04b41921bcac369aa7c0e\", \"totalValue\": {\"value\": \"1100\", \"currency\": \"BRL\"}, \"customerNote\": null, \"garnishItems\": [], \"integrationId\": null, \"totalAddition\": {\"value\": \"0\", \"currency\": \"BRL\"}, \"totalDiscount\": {\"value\": \"0\", \"currency\": \"BRL\"}}, {\"name\": \"YAKISOBA DE VEGETAIS GRANDE\", \"addition\": {\"value\": \"0\", \"currency\": \"BRL\"}, \"discount\": {\"value\": \"0\", \"currency\": \"BRL\"}, \"quantity\": 1.00, \"sequence\": 1, \"unitPrice\": {\"value\": \"3290\", \"currency\": \"BRL\"}, \"externalId\": \"376c4f2bede84056aa2bbbb950205740\", \"totalValue\": {\"value\": \"3290\", \"currency\": \"BRL\"}, \"customerNote\": null, \"garnishItems\": [], \"integrationId\": null, \"totalAddition\": {\"value\": \"0\", \"currency\": \"BRL\"}, \"totalDiscount\": {\"value\": \"0\", \"currency\": \"BRL\"}}]",
         "67a9cd8ce2c51fc98a334b48d61a1e045ced616cb4fcc551cf16aaa9535604dd",
         "-46.64",
         "-23.62",
         "America/Sao_Paulo",
         "2019-01-17T23:25:59.000Z",
         "94e31a4d37f49bda0fbf6d68bd0c21ca06827e50cc7437e7677ec603c78ea3aa",
         false,
         43.9,
         "IOS"
        ],
        [
         "06823673386",
         "4099e6f87d7910fd88f96a6c853227437ee89b68aae52c2b3da6c0332187d5f9",
         "EDUARDO",
         "FORTALEZA",
         "BR",
         "MEIRELES",
         "2972297",
         "-38.50",
         "-3.73",
         "CE",
         "60125",
         "[{\"name\": \"GRANDE  2 SABORES\", \"addition\": {\"value\": \"0\", \"currency\": \"BRL\"}, \"discount\": {\"value\": \"0\", \"currency\": \"BRL\"}, \"quantity\": 1.00, \"sequence\": 1, \"unitPrice\": {\"value\": \"0\", \"currency\": \"BRL\"}, \"externalId\": \"2000120b9516407e9c9629d5a9194012\", \"totalValue\": {\"value\": \"0\", \"currency\": \"BRL\"}, \"customerNote\": null, \"garnishItems\": [{\"name\": \"MASSA TRADICIONAL \", \"addition\": {\"value\": \"0\", \"currency\": \"BRL\"}, \"discount\": {\"value\": \"0\", \"currency\": \"BRL\"}, \"quantity\": 1.00, \"sequence\": 2, \"unitPrice\": {\"value\": \"0\", \"currency\": \"BRL\"}, \"categoryId\": \"0025\", \"externalId\": \"e7aaed15e7c24149b8fae6c022e3f4a9\", \"totalValue\": {\"value\": \"0\", \"currency\": \"BRL\"}, \"categoryName\": \"Escolha a sua Preferência\", \"integrationId\": null}, {\"name\": \"1/2 093 - SICILIANA \", \"addition\": {\"value\": \"0\", \"currency\": \"BRL\"}, \"discount\": {\"value\": \"0\", \"currency\": \"BRL\"}, \"quantity\": 1.00, \"sequence\": 3, \"unitPrice\": {\"value\": \"1795\", \"currency\": \"BRL\"}, \"categoryId\": \"SABOR\", \"externalId\": \"f85302e3bf704368a592d1f6deeb5eae\", \"totalValue\": {\"value\": \"1795\", \"currency\": \"BRL\"}, \"categoryName\": \"Escolha um sabor\", \"integrationId\": null}, {\"name\": \"1/2 093 - SICILIANA \", \"addition\": {\"value\": \"0\", \"currency\": \"BRL\"}, \"discount\": {\"value\": \"0\", \"currency\": \"BRL\"}, \"quantity\": 1.00, \"sequence\": 3, \"unitPrice\": {\"value\": \"1795\", \"currency\": \"BRL\"}, \"categoryId\": \"SABOR2\", \"externalId\": \"f85302e3bf704368a592d1f6deeb5eae\", \"totalValue\": {\"value\": \"1795\", \"currency\": \"BRL\"}, \"categoryName\": \"Escolha o segundo sabor\", \"integrationId\": null}, {\"name\": \"1/2 323 - PORTUGUESA \", \"addition\": {\"value\": \"0\", \"currency\": \"BRL\"}, \"discount\": {\"value\": \"0\", \"currency\": \"BRL\"}, \"quantity\": 1.00, \"sequence\": 4, \"unitPrice\": {\"value\": \"1795\", \"currency\": \"BRL\"}, \"categoryId\": \"SABOR\", \"externalId\": \"7dc03eeaaea84b29be4fff1833e45c96\", \"totalValue\": {\"value\": \"1795\", \"currency\": \"BRL\"}, \"categoryName\": \"Escolha um sabor\", \"integrationId\": null}, {\"name\": \"1/2 323 - PORTUGUESA \", \"addition\": {\"value\": \"0\", \"currency\": \"BRL\"}, \"discount\": {\"value\": \"0\", \"currency\": \"BRL\"}, \"quantity\": 1.00, \"sequence\": 4, \"unitPrice\": {\"value\": \"1795\", \"currency\": \"BRL\"}, \"categoryId\": \"SABOR2\", \"externalId\": \"7dc03eeaaea84b29be4fff1833e45c96\", \"totalValue\": {\"value\": \"1795\", \"currency\": \"BRL\"}, \"categoryName\": \"Escolha o segundo sabor\", \"integrationId\": null}], \"integrationId\": null, \"totalAddition\": {\"value\": \"0\", \"currency\": \"BRL\"}, \"totalDiscount\": {\"value\": \"0\", \"currency\": \"BRL\"}}]",
         "11c5c1260ce3c607b8522f80dacc7b3aa9edb6f3856705fc74ae6272d2fddc22",
         "-38.50",
         "-3.73",
         "America/Fortaleza",
         "2019-01-17T22:28:09.000Z",
         "d928f06312a10ae20ddbad7cb24bf004d3210b29047f38b530efb968fecd725b",
         false,
         35.9,
         "IOS"
        ],
        [
         "79719037778",
         "39e02a93ff21345e7ab41484ad4e125b906df3408be6598a59e48a21fc8de9c0",
         "Amanda",
         "RIO DE JANEIRO",
         "BR",
         "QUINTINO BOCAIUVA",
         "2938122",
         "-43.32",
         "-22.89",
         "RJ",
         "21380",
         "[{\"name\": \"Açaí\", \"addition\": {\"value\": \"0\", \"currency\": \"BRL\"}, \"discount\": {\"value\": \"0\", \"currency\": \"BRL\"}, \"quantity\": 2.00, \"sequence\": 3, \"unitPrice\": {\"value\": \"0\", \"currency\": \"BRL\"}, \"externalId\": \"2acdc33845c741d38b509f1402058c4b\", \"totalValue\": {\"value\": \"0\", \"currency\": \"BRL\"}, \"customerNote\": \"2 granolas separadas por favor0\", \"garnishItems\": [{\"name\": \"500 ml\", \"addition\": {\"value\": \"0\", \"currency\": \"BRL\"}, \"discount\": {\"value\": \"0\", \"currency\": \"BRL\"}, \"quantity\": 2.00, \"sequence\": 4, \"unitPrice\": {\"value\": \"800\", \"currency\": \"BRL\"}, \"categoryId\": \"16VIL\", \"externalId\": \"874be3115dee4b8395c5b26e74e531f2\", \"totalValue\": {\"value\": \"1600\", \"currency\": \"BRL\"}, \"categoryName\": \"Escolha um Tamanho\", \"integrationId\": null}], \"integrationId\": null, \"totalAddition\": {\"value\": \"0\", \"currency\": \"BRL\"}, \"totalDiscount\": {\"value\": \"0\", \"currency\": \"BRL\"}}, {\"name\": \"TRIO - Número 1\", \"addition\": {\"value\": \"0\", \"currency\": \"BRL\"}, \"discount\": {\"value\": \"0\", \"currency\": \"BRL\"}, \"quantity\": 1.00, \"sequence\": 1, \"unitPrice\": {\"value\": \"1600\", \"currency\": \"BRL\"}, \"externalId\": \"771f96d99dc1472caaa8a26f2b94e906\", \"totalValue\": {\"value\": \"1600\", \"currency\": \"BRL\"}, \"customerNote\": \" \", \"garnishItems\": [{\"name\": \"Fanta Laranja Lata\", \"addition\": {\"value\": \"0\", \"currency\": \"BRL\"}, \"discount\": {\"value\": \"0\", \"currency\": \"BRL\"}, \"quantity\": 1.00, \"sequence\": 2, \"unitPrice\": {\"value\": \"0\", \"currency\": \"BRL\"}, \"categoryId\": \"18XKL\", \"externalId\": \"61d7db2af042492cac5e759ed2a45c2d\", \"totalValue\": {\"value\": \"0\", \"currency\": \"BRL\"}, \"categoryName\": \"Escolha sua preferencia\", \"integrationId\": null}], \"integrationId\": null, \"totalAddition\": {\"value\": \"0\", \"currency\": \"BRL\"}, \"totalDiscount\": {\"value\": \"0\", \"currency\": \"BRL\"}}, {\"name\": \"Trio - Cheddar\", \"addition\": {\"value\": \"0\", \"currency\": \"BRL\"}, \"discount\": {\"value\": \"0\", \"currency\": \"BRL\"}, \"quantity\": 1.00, \"sequence\": 5, \"unitPrice\": {\"value\": \"1400\", \"currency\": \"BRL\"}, \"externalId\": \"1c30a29f8a254761a52e977205a52b23\", \"totalValue\": {\"value\": \"1400\", \"currency\": \"BRL\"}, \"customerNote\": null, \"garnishItems\": [{\"name\": \"Coca- cola Zero Lata\", \"addition\": {\"value\": \"0\", \"currency\": \"BRL\"}, \"discount\": {\"value\": \"0\", \"currency\": \"BRL\"}, \"quantity\": 1.00, \"sequence\": 6, \"unitPrice\": {\"value\": \"0\", \"currency\": \"BRL\"}, \"categoryId\": \"18XKJ\", \"externalId\": \"c6cde92441aa47808ecfeff1dd4d8610\", \"totalValue\": {\"value\": \"0\", \"currency\": \"BRL\"}, \"categoryName\": \"Escolha sua preferencia\", \"integrationId\": null}], \"integrationId\": null, \"totalAddition\": {\"value\": \"0\", \"currency\": \"BRL\"}, \"totalDiscount\": {\"value\": \"0\", \"currency\": \"BRL\"}}]",
         "f9f6289912cbaa8987e059ee895ea2b3cf2dd7f68a6c508c4e96c26cbdcf5406",
         "-43.32",
         "-22.89",
         "America/Sao_Paulo",
         "2019-01-17T22:49:28.000Z",
         "2c299d7071fe54264662e3076b5ec853f1fadd7cbaebd2d5cc91fa36e2b98367",
         false,
         46.0,
         "ANDROID"
        ]
       ],
       "datasetInfos": [],
       "dbfsResultPath": null,
       "isJsonSchema": true,
       "metadata": {},
       "overflow": false,
       "plotOptions": {
        "customPlotOptions": {},
        "displayType": "table",
        "pivotAggregation": null,
        "pivotColumns": null,
        "xColumns": null,
        "yColumns": null
       },
       "removedWidgets": [],
       "schema": [
        {
         "metadata": "{}",
         "name": "cpf",
         "type": "\"string\""
        },
        {
         "metadata": "{}",
         "name": "customer_id",
         "type": "\"string\""
        },
        {
         "metadata": "{}",
         "name": "customer_name",
         "type": "\"string\""
        },
        {
         "metadata": "{}",
         "name": "delivery_address_city",
         "type": "\"string\""
        },
        {
         "metadata": "{}",
         "name": "delivery_address_country",
         "type": "\"string\""
        },
        {
         "metadata": "{}",
         "name": "delivery_address_district",
         "type": "\"string\""
        },
        {
         "metadata": "{}",
         "name": "delivery_address_external_id",
         "type": "\"string\""
        },
        {
         "metadata": "{}",
         "name": "delivery_address_latitude",
         "type": "\"string\""
        },
        {
         "metadata": "{}",
         "name": "delivery_address_longitude",
         "type": "\"string\""
        },
        {
         "metadata": "{}",
         "name": "delivery_address_state",
         "type": "\"string\""
        },
        {
         "metadata": "{}",
         "name": "delivery_address_zip_code",
         "type": "\"string\""
        },
        {
         "metadata": "{}",
         "name": "items",
         "type": "\"string\""
        },
        {
         "metadata": "{}",
         "name": "merchant_id",
         "type": "\"string\""
        },
        {
         "metadata": "{}",
         "name": "merchant_latitude",
         "type": "\"string\""
        },
        {
         "metadata": "{}",
         "name": "merchant_longitude",
         "type": "\"string\""
        },
        {
         "metadata": "{}",
         "name": "merchant_timezone",
         "type": "\"string\""
        },
        {
         "metadata": "{}",
         "name": "order_created_at",
         "type": "\"string\""
        },
        {
         "metadata": "{}",
         "name": "order_id",
         "type": "\"string\""
        },
        {
         "metadata": "{}",
         "name": "order_scheduled",
         "type": "\"boolean\""
        },
        {
         "metadata": "{}",
         "name": "order_total_amount",
         "type": "\"double\""
        },
        {
         "metadata": "{}",
         "name": "origin_platform",
         "type": "\"string\""
        }
       ],
       "type": "table"
      }
     },
     "output_type": "display_data"
    },
    {
     "output_type": "display_data",
     "data": {
      "text/html": [
       "<style scoped>\n",
       "  .table-result-container {\n",
       "    max-height: 300px;\n",
       "    overflow: auto;\n",
       "  }\n",
       "  table, th, td {\n",
       "    border: 1px solid black;\n",
       "    border-collapse: collapse;\n",
       "  }\n",
       "  th, td {\n",
       "    padding: 5px;\n",
       "  }\n",
       "  th {\n",
       "    text-align: left;\n",
       "  }\n",
       "</style><div class='table-result-container'><table class='table-result'><thead style='background-color: white'><tr><th>_1</th></tr></thead><tbody><tr><td>cpf</td></tr><tr><td>customer_id</td></tr><tr><td>customer_name</td></tr><tr><td>delivery_address_city</td></tr><tr><td>delivery_address_country</td></tr><tr><td>delivery_address_district</td></tr><tr><td>delivery_address_external_id</td></tr><tr><td>delivery_address_latitude</td></tr><tr><td>delivery_address_longitude</td></tr><tr><td>delivery_address_state</td></tr><tr><td>delivery_address_zip_code</td></tr><tr><td>items</td></tr><tr><td>merchant_id</td></tr><tr><td>merchant_latitude</td></tr><tr><td>merchant_longitude</td></tr><tr><td>merchant_timezone</td></tr><tr><td>order_created_at</td></tr><tr><td>order_id</td></tr><tr><td>order_scheduled</td></tr><tr><td>order_total_amount</td></tr><tr><td>origin_platform</td></tr></tbody></table></div>"
      ]
     },
     "metadata": {
      "application/vnd.databricks.v1+output": {
       "addedWidgets": {},
       "aggData": [],
       "aggError": "",
       "aggOverflow": false,
       "aggSchema": [],
       "aggSeriesLimitReached": false,
       "aggType": "",
       "arguments": {},
       "columnCustomDisplayInfos": {},
       "data": [
        [
         "cpf"
        ],
        [
         "customer_id"
        ],
        [
         "customer_name"
        ],
        [
         "delivery_address_city"
        ],
        [
         "delivery_address_country"
        ],
        [
         "delivery_address_district"
        ],
        [
         "delivery_address_external_id"
        ],
        [
         "delivery_address_latitude"
        ],
        [
         "delivery_address_longitude"
        ],
        [
         "delivery_address_state"
        ],
        [
         "delivery_address_zip_code"
        ],
        [
         "items"
        ],
        [
         "merchant_id"
        ],
        [
         "merchant_latitude"
        ],
        [
         "merchant_longitude"
        ],
        [
         "merchant_timezone"
        ],
        [
         "order_created_at"
        ],
        [
         "order_id"
        ],
        [
         "order_scheduled"
        ],
        [
         "order_total_amount"
        ],
        [
         "origin_platform"
        ]
       ],
       "datasetInfos": [],
       "dbfsResultPath": null,
       "isJsonSchema": true,
       "metadata": {},
       "overflow": false,
       "plotOptions": {
        "customPlotOptions": {},
        "displayType": "table",
        "pivotAggregation": null,
        "pivotColumns": null,
        "xColumns": null,
        "yColumns": null
       },
       "removedWidgets": [],
       "schema": [
        {
         "metadata": "{}",
         "name": "_1",
         "type": "\"string\""
        }
       ],
       "type": "table"
      }
     },
     "output_type": "display_data"
    },
    {
     "output_type": "stream",
     "name": "stdout",
     "output_type": "stream",
     "text": [
      "root\n |-- cpf: string (nullable = true)\n |-- customer_id: string (nullable = true)\n |-- customer_name: string (nullable = true)\n |-- delivery_address_city: string (nullable = true)\n |-- delivery_address_country: string (nullable = true)\n |-- delivery_address_district: string (nullable = true)\n |-- delivery_address_external_id: string (nullable = true)\n |-- delivery_address_latitude: string (nullable = true)\n |-- delivery_address_longitude: string (nullable = true)\n |-- delivery_address_state: string (nullable = true)\n |-- delivery_address_zip_code: string (nullable = true)\n |-- items: string (nullable = true)\n |-- merchant_id: string (nullable = true)\n |-- merchant_latitude: string (nullable = true)\n |-- merchant_longitude: string (nullable = true)\n |-- merchant_timezone: string (nullable = true)\n |-- order_created_at: string (nullable = true)\n |-- order_id: string (nullable = true)\n |-- order_scheduled: boolean (nullable = true)\n |-- order_total_amount: double (nullable = true)\n |-- origin_platform: string (nullable = true)\n\n"
     ]
    },
    {
     "output_type": "display_data",
     "data": {
      "text/html": [
       "<style scoped>\n",
       "  .table-result-container {\n",
       "    max-height: 300px;\n",
       "    overflow: auto;\n",
       "  }\n",
       "  table, th, td {\n",
       "    border: 1px solid black;\n",
       "    border-collapse: collapse;\n",
       "  }\n",
       "  th, td {\n",
       "    padding: 5px;\n",
       "  }\n",
       "  th {\n",
       "    text-align: left;\n",
       "  }\n",
       "</style><div class='table-result-container'><table class='table-result'><thead style='background-color: white'><tr><th>summary</th><th>cpf</th><th>customer_id</th><th>customer_name</th><th>delivery_address_city</th><th>delivery_address_country</th><th>delivery_address_district</th><th>delivery_address_external_id</th><th>delivery_address_latitude</th><th>delivery_address_longitude</th><th>delivery_address_state</th><th>delivery_address_zip_code</th><th>items</th><th>merchant_id</th><th>merchant_latitude</th><th>merchant_longitude</th><th>merchant_timezone</th><th>order_created_at</th><th>order_id</th><th>order_total_amount</th><th>origin_platform</th></tr></thead><tbody><tr><td>count</td><td>3670826</td><td>3662321</td><td>3670826</td><td>3670826</td><td>3670826</td><td>3670826</td><td>3670826</td><td>3670826</td><td>3670826</td><td>3670826</td><td>3670826</td><td>3670826</td><td>3670826</td><td>3670826</td><td>3670826</td><td>3670826</td><td>3670826</td><td>3670826</td><td>3670826</td><td>3670824</td></tr><tr><td>mean</td><td>5.005544976926936E10</td><td>null</td><td>NaN</td><td>null</td><td>null</td><td>null</td><td>7235483.074816131</td><td>-44.93203929033961</td><td>-20.328647726696943</td><td>null</td><td>42831.187055447466</td><td>null</td><td>null</td><td>-44.93203929033961</td><td>-20.328647726696943</td><td>null</td><td>null</td><td>null</td><td>47.90005515165806</td><td>null</td></tr><tr><td>stddev</td><td>2.8837294468561066E10</td><td>null</td><td>NaN</td><td>null</td><td>null</td><td>null</td><td>2111851.456950484</td><td>4.438217743782714</td><td>6.53610336563565</td><td>null</td><td>24495.48478150103</td><td>null</td><td>null</td><td>4.438217743782714</td><td>6.53610336563565</td><td>null</td><td>null</td><td>null</td><td>119.67384637744763</td><td>null</td></tr><tr><td>min</td><td>00013286992</td><td>000009e29b12d8c5b9c9579e21384320c2df3bd935f19e12402be6b07a099361</td><td></td><td>ALMIRANTE TAMANDARE</td><td>BR</td><td> </td><td>1051625</td><td>-34.79</td><td>-1.07</td><td>AC</td><td>0</td><td>[{\"name\": \"    MÉDIA (06 PEDAÇOS)\", \"addition\": {\"value\": \"0\", \"currency\": \"BRL\"}, \"discount\": {\"value\": \"0\", \"currency\": \"BRL\"}, \"quantity\": 1.00, \"sequence\": 1, \"unitPrice\": {\"value\": \"0\", \"currency\": \"BRL\"}, \"externalId\": \"3d912149ff2d43579ee3fa5d47a076f9\", \"totalValue\": {\"value\": \"0\", \"currency\": \"BRL\"}, \"customerNote\": null, \"garnishItems\": [{\"name\": \"MASSA MÉDIA - TRADICIONAL\", \"addition\": {\"value\": \"0\", \"currency\": \"BRL\"}, \"discount\": {\"value\": \"0\", \"currency\": \"BRL\"}, \"quantity\": 1.00, \"sequence\": 2, \"unitPrice\": {\"value\": \"0\", \"currency\": \"BRL\"}, \"categoryId\": \"0025\", \"externalId\": \"b3a695a6b9bd4249a2580b8ed504cfb0\", \"totalValue\": {\"value\": \"0\", \"currency\": \"BRL\"}, \"categoryName\": \"Escolha a sua Preferência\", \"integrationId\": null}, {\"name\": \"BRIGADEIRO\", \"addition\": {\"value\": \"0\", \"currency\": \"BRL\"}, \"discount\": {\"value\": \"0\", \"currency\": \"BRL\"}, \"quantity\": 1.00, \"sequence\": 3, \"unitPrice\": {\"value\": \"3300\", \"currency\": \"BRL\"}, \"categoryId\": \"SBR\", \"externalId\": \"8eea5f7ea5274361843439fafd10cdd1\", \"totalValue\": {\"value\": \"3300\", \"currency\": \"BRL\"}, \"categoryName\": \"Escolha um sabor\", \"integrationId\": null}], \"integrationId\": null, \"totalAddition\": {\"value\": \"0\", \"currency\": \"BRL\"}, \"totalDiscount\": {\"value\": \"0\", \"currency\": \"BRL\"}}]</td><td>000ec327878b6c6f1d3a07ac30cae115eb6cc7aa39492b5cc5ca48d0ff73b18e</td><td>-34.79</td><td>-1.07</td><td>America/Bahia</td><td>2018-12-03T00:00:00.000Z</td><td>000004f018699e8aa88513e8e3e5394c0f33a4720d78f273b49e2b4c4b45c0ca</td><td>0.0</td><td>ANDROID</td></tr><tr><td>max</td><td>99999989150</td><td>ffffeda85b466b48195c356f8b97f21d0b23958d5815fcd401d62f0f4c426195</td><td>•fanilo</td><td>VOTORANTIM</td><td>BR</td><td>ZUMBI DOS PALMARES</td><td>9547214</td><td>0.00</td><td>38.71</td><td>SP</td><td>99933</td><td>[{\"name\": \"• Refrigerante\", \"addition\": {\"value\": \"0\", \"currency\": \"BRL\"}, \"discount\": {\"value\": \"0\", \"currency\": \"BRL\"}, \"quantity\": 2.00, \"sequence\": 5, \"unitPrice\": {\"value\": \"450\", \"currency\": \"BRL\"}, \"externalId\": \"99d2de7fb0e9407d8de4f23c5e635723\", \"totalValue\": {\"value\": \"900\", \"currency\": \"BRL\"}, \"customerNote\": null, \"garnishItems\": [{\"name\": \"Coca cola zero\", \"addition\": {\"value\": \"0\", \"currency\": \"BRL\"}, \"discount\": {\"value\": \"0\", \"currency\": \"BRL\"}, \"quantity\": 2.00, \"sequence\": 6, \"unitPrice\": {\"value\": \"0\", \"currency\": \"BRL\"}, \"categoryId\": \"1K2YI\", \"externalId\": \"2e5e20366bea4df5a1b1bee0a05354e5\", \"totalValue\": {\"value\": \"0\", \"currency\": \"BRL\"}, \"categoryName\": \"Escolha o refrigerante de sua preferência\", \"integrationId\": null}], \"integrationId\": null, \"totalAddition\": {\"value\": \"0\", \"currency\": \"BRL\"}, \"totalDiscount\": {\"value\": \"0\", \"currency\": \"BRL\"}}, {\"name\": \"GRANDE 2 SABORES\", \"addition\": {\"value\": \"0\", \"currency\": \"BRL\"}, \"discount\": {\"value\": \"0\", \"currency\": \"BRL\"}, \"quantity\": 1.00, \"sequence\": 1, \"unitPrice\": {\"value\": \"0\", \"currency\": \"BRL\"}, \"externalId\": \"c212af0ff03d4d20a84d381d4f3210a7\", \"totalValue\": {\"value\": \"0\", \"currency\": \"BRL\"}, \"customerNote\": null, \"garnishItems\": [{\"name\": \"MASSA TRADICIONAL\", \"addition\": {\"value\": \"0\", \"currency\": \"BRL\"}, \"discount\": {\"value\": \"0\", \"currency\": \"BRL\"}, \"quantity\": 1.00, \"sequence\": 2, \"unitPrice\": {\"value\": \"0\", \"currency\": \"BRL\"}, \"categoryId\": \"0025\", \"externalId\": \"6f410a124b89407eaaf3aaa8681f493b\", \"totalValue\": {\"value\": \"0\", \"currency\": \"BRL\"}, \"categoryName\": \"Escolha a sua Preferência\", \"integrationId\": null}, {\"name\": \"1/2 • DO CHEFE \", \"addition\": {\"value\": \"0\", \"currency\": \"BRL\"}, \"discount\": {\"value\": \"0\", \"currency\": \"BRL\"}, \"quantity\": 1.00, \"sequence\": 3, \"unitPrice\": {\"value\": \"3245\", \"currency\": \"BRL\"}, \"categoryId\": \"SABOR\", \"externalId\": \"3ea24c7fa1cb4e4d946cfd8509ec27bb\", \"totalValue\": {\"value\": \"3245\", \"currency\": \"BRL\"}, \"categoryName\": \"Escolha um sabor\", \"integrationId\": null}, {\"name\": \"1/2 • DO CHEFE \", \"addition\": {\"value\": \"0\", \"currency\": \"BRL\"}, \"discount\": {\"value\": \"0\", \"currency\": \"BRL\"}, \"quantity\": 1.00, \"sequence\": 3, \"unitPrice\": {\"value\": \"3245\", \"currency\": \"BRL\"}, \"categoryId\": \"SABOR2\", \"externalId\": \"3ea24c7fa1cb4e4d946cfd8509ec27bb\", \"totalValue\": {\"value\": \"3245\", \"currency\": \"BRL\"}, \"categoryName\": \"Escolha o segundo sabor\", \"integrationId\": null}, {\"name\": \"1/2 • POMPEIA\", \"addition\": {\"value\": \"150\", \"currency\": \"BRL\"}, \"discount\": {\"value\": \"0\", \"currency\": \"BRL\"}, \"quantity\": 1.00, \"sequence\": 4, \"unitPrice\": {\"value\": \"3095\", \"currency\": \"BRL\"}, \"categoryId\": \"SABOR\", \"externalId\": \"ff05873202214b48a2e27628adb99eba\", \"totalValue\": {\"value\": \"3095\", \"currency\": \"BRL\"}, \"categoryName\": \"Escolha um sabor\", \"integrationId\": null}, {\"name\": \"1/2 • POMPEIA\", \"addition\": {\"value\": \"150\", \"currency\": \"BRL\"}, \"discount\": {\"value\": \"0\", \"currency\": \"BRL\"}, \"quantity\": 1.00, \"sequence\": 4, \"unitPrice\": {\"value\": \"3095\", \"currency\": \"BRL\"}, \"categoryId\": \"SABOR2\", \"externalId\": \"ff05873202214b48a2e27628adb99eba\", \"totalValue\": {\"value\": \"3095\", \"currency\": \"BRL\"}, \"categoryName\": \"Escolha o segundo sabor\", \"integrationId\": null}], \"integrationId\": null, \"totalAddition\": {\"value\": \"0\", \"currency\": \"BRL\"}, \"totalDiscount\": {\"value\": \"0\", \"currency\": \"BRL\"}}]</td><td>fff6b9b86342869089e154273cf45a3a4533c4231b31b06845d49ad777b3586a</td><td>0.00</td><td>38.71</td><td>Etc/GMT+5</td><td>2019-01-31T23:59:59.000Z</td><td>ffffd1b19ed134e9be22fb6c77ffb44ee6b3a57074a45a343e8b153822764ec3</td><td>138750.9</td><td>WINDOWS_PHONE</td></tr></tbody></table></div>"
      ]
     },
     "metadata": {
      "application/vnd.databricks.v1+output": {
       "addedWidgets": {},
       "aggData": [],
       "aggError": "",
       "aggOverflow": false,
       "aggSchema": [],
       "aggSeriesLimitReached": false,
       "aggType": "",
       "arguments": {},
       "columnCustomDisplayInfos": {},
       "data": [
        [
         "count",
         "3670826",
         "3662321",
         "3670826",
         "3670826",
         "3670826",
         "3670826",
         "3670826",
         "3670826",
         "3670826",
         "3670826",
         "3670826",
         "3670826",
         "3670826",
         "3670826",
         "3670826",
         "3670826",
         "3670826",
         "3670826",
         "3670826",
         "3670824"
        ],
        [
         "mean",
         "5.005544976926936E10",
         null,
         "NaN",
         null,
         null,
         null,
         "7235483.074816131",
         "-44.93203929033961",
         "-20.328647726696943",
         null,
         "42831.187055447466",
         null,
         null,
         "-44.93203929033961",
         "-20.328647726696943",
         null,
         null,
         null,
         "47.90005515165806",
         null
        ],
        [
         "stddev",
         "2.8837294468561066E10",
         null,
         "NaN",
         null,
         null,
         null,
         "2111851.456950484",
         "4.438217743782714",
         "6.53610336563565",
         null,
         "24495.48478150103",
         null,
         null,
         "4.438217743782714",
         "6.53610336563565",
         null,
         null,
         null,
         "119.67384637744763",
         null
        ],
        [
         "min",
         "00013286992",
         "000009e29b12d8c5b9c9579e21384320c2df3bd935f19e12402be6b07a099361",
         "",
         "ALMIRANTE TAMANDARE",
         "BR",
         " ",
         "1051625",
         "-34.79",
         "-1.07",
         "AC",
         "0",
         "[{\"name\": \"    MÉDIA (06 PEDAÇOS)\", \"addition\": {\"value\": \"0\", \"currency\": \"BRL\"}, \"discount\": {\"value\": \"0\", \"currency\": \"BRL\"}, \"quantity\": 1.00, \"sequence\": 1, \"unitPrice\": {\"value\": \"0\", \"currency\": \"BRL\"}, \"externalId\": \"3d912149ff2d43579ee3fa5d47a076f9\", \"totalValue\": {\"value\": \"0\", \"currency\": \"BRL\"}, \"customerNote\": null, \"garnishItems\": [{\"name\": \"MASSA MÉDIA - TRADICIONAL\", \"addition\": {\"value\": \"0\", \"currency\": \"BRL\"}, \"discount\": {\"value\": \"0\", \"currency\": \"BRL\"}, \"quantity\": 1.00, \"sequence\": 2, \"unitPrice\": {\"value\": \"0\", \"currency\": \"BRL\"}, \"categoryId\": \"0025\", \"externalId\": \"b3a695a6b9bd4249a2580b8ed504cfb0\", \"totalValue\": {\"value\": \"0\", \"currency\": \"BRL\"}, \"categoryName\": \"Escolha a sua Preferência\", \"integrationId\": null}, {\"name\": \"BRIGADEIRO\", \"addition\": {\"value\": \"0\", \"currency\": \"BRL\"}, \"discount\": {\"value\": \"0\", \"currency\": \"BRL\"}, \"quantity\": 1.00, \"sequence\": 3, \"unitPrice\": {\"value\": \"3300\", \"currency\": \"BRL\"}, \"categoryId\": \"SBR\", \"externalId\": \"8eea5f7ea5274361843439fafd10cdd1\", \"totalValue\": {\"value\": \"3300\", \"currency\": \"BRL\"}, \"categoryName\": \"Escolha um sabor\", \"integrationId\": null}], \"integrationId\": null, \"totalAddition\": {\"value\": \"0\", \"currency\": \"BRL\"}, \"totalDiscount\": {\"value\": \"0\", \"currency\": \"BRL\"}}]",
         "000ec327878b6c6f1d3a07ac30cae115eb6cc7aa39492b5cc5ca48d0ff73b18e",
         "-34.79",
         "-1.07",
         "America/Bahia",
         "2018-12-03T00:00:00.000Z",
         "000004f018699e8aa88513e8e3e5394c0f33a4720d78f273b49e2b4c4b45c0ca",
         "0.0",
         "ANDROID"
        ],
        [
         "max",
         "99999989150",
         "ffffeda85b466b48195c356f8b97f21d0b23958d5815fcd401d62f0f4c426195",
         "•fanilo",
         "VOTORANTIM",
         "BR",
         "ZUMBI DOS PALMARES",
         "9547214",
         "0.00",
         "38.71",
         "SP",
         "99933",
         "[{\"name\": \"• Refrigerante\", \"addition\": {\"value\": \"0\", \"currency\": \"BRL\"}, \"discount\": {\"value\": \"0\", \"currency\": \"BRL\"}, \"quantity\": 2.00, \"sequence\": 5, \"unitPrice\": {\"value\": \"450\", \"currency\": \"BRL\"}, \"externalId\": \"99d2de7fb0e9407d8de4f23c5e635723\", \"totalValue\": {\"value\": \"900\", \"currency\": \"BRL\"}, \"customerNote\": null, \"garnishItems\": [{\"name\": \"Coca cola zero\", \"addition\": {\"value\": \"0\", \"currency\": \"BRL\"}, \"discount\": {\"value\": \"0\", \"currency\": \"BRL\"}, \"quantity\": 2.00, \"sequence\": 6, \"unitPrice\": {\"value\": \"0\", \"currency\": \"BRL\"}, \"categoryId\": \"1K2YI\", \"externalId\": \"2e5e20366bea4df5a1b1bee0a05354e5\", \"totalValue\": {\"value\": \"0\", \"currency\": \"BRL\"}, \"categoryName\": \"Escolha o refrigerante de sua preferência\", \"integrationId\": null}], \"integrationId\": null, \"totalAddition\": {\"value\": \"0\", \"currency\": \"BRL\"}, \"totalDiscount\": {\"value\": \"0\", \"currency\": \"BRL\"}}, {\"name\": \"GRANDE 2 SABORES\", \"addition\": {\"value\": \"0\", \"currency\": \"BRL\"}, \"discount\": {\"value\": \"0\", \"currency\": \"BRL\"}, \"quantity\": 1.00, \"sequence\": 1, \"unitPrice\": {\"value\": \"0\", \"currency\": \"BRL\"}, \"externalId\": \"c212af0ff03d4d20a84d381d4f3210a7\", \"totalValue\": {\"value\": \"0\", \"currency\": \"BRL\"}, \"customerNote\": null, \"garnishItems\": [{\"name\": \"MASSA TRADICIONAL\", \"addition\": {\"value\": \"0\", \"currency\": \"BRL\"}, \"discount\": {\"value\": \"0\", \"currency\": \"BRL\"}, \"quantity\": 1.00, \"sequence\": 2, \"unitPrice\": {\"value\": \"0\", \"currency\": \"BRL\"}, \"categoryId\": \"0025\", \"externalId\": \"6f410a124b89407eaaf3aaa8681f493b\", \"totalValue\": {\"value\": \"0\", \"currency\": \"BRL\"}, \"categoryName\": \"Escolha a sua Preferência\", \"integrationId\": null}, {\"name\": \"1/2 • DO CHEFE \", \"addition\": {\"value\": \"0\", \"currency\": \"BRL\"}, \"discount\": {\"value\": \"0\", \"currency\": \"BRL\"}, \"quantity\": 1.00, \"sequence\": 3, \"unitPrice\": {\"value\": \"3245\", \"currency\": \"BRL\"}, \"categoryId\": \"SABOR\", \"externalId\": \"3ea24c7fa1cb4e4d946cfd8509ec27bb\", \"totalValue\": {\"value\": \"3245\", \"currency\": \"BRL\"}, \"categoryName\": \"Escolha um sabor\", \"integrationId\": null}, {\"name\": \"1/2 • DO CHEFE \", \"addition\": {\"value\": \"0\", \"currency\": \"BRL\"}, \"discount\": {\"value\": \"0\", \"currency\": \"BRL\"}, \"quantity\": 1.00, \"sequence\": 3, \"unitPrice\": {\"value\": \"3245\", \"currency\": \"BRL\"}, \"categoryId\": \"SABOR2\", \"externalId\": \"3ea24c7fa1cb4e4d946cfd8509ec27bb\", \"totalValue\": {\"value\": \"3245\", \"currency\": \"BRL\"}, \"categoryName\": \"Escolha o segundo sabor\", \"integrationId\": null}, {\"name\": \"1/2 • POMPEIA\", \"addition\": {\"value\": \"150\", \"currency\": \"BRL\"}, \"discount\": {\"value\": \"0\", \"currency\": \"BRL\"}, \"quantity\": 1.00, \"sequence\": 4, \"unitPrice\": {\"value\": \"3095\", \"currency\": \"BRL\"}, \"categoryId\": \"SABOR\", \"externalId\": \"ff05873202214b48a2e27628adb99eba\", \"totalValue\": {\"value\": \"3095\", \"currency\": \"BRL\"}, \"categoryName\": \"Escolha um sabor\", \"integrationId\": null}, {\"name\": \"1/2 • POMPEIA\", \"addition\": {\"value\": \"150\", \"currency\": \"BRL\"}, \"discount\": {\"value\": \"0\", \"currency\": \"BRL\"}, \"quantity\": 1.00, \"sequence\": 4, \"unitPrice\": {\"value\": \"3095\", \"currency\": \"BRL\"}, \"categoryId\": \"SABOR2\", \"externalId\": \"ff05873202214b48a2e27628adb99eba\", \"totalValue\": {\"value\": \"3095\", \"currency\": \"BRL\"}, \"categoryName\": \"Escolha o segundo sabor\", \"integrationId\": null}], \"integrationId\": null, \"totalAddition\": {\"value\": \"0\", \"currency\": \"BRL\"}, \"totalDiscount\": {\"value\": \"0\", \"currency\": \"BRL\"}}]",
         "fff6b9b86342869089e154273cf45a3a4533c4231b31b06845d49ad777b3586a",
         "0.00",
         "38.71",
         "Etc/GMT+5",
         "2019-01-31T23:59:59.000Z",
         "ffffd1b19ed134e9be22fb6c77ffb44ee6b3a57074a45a343e8b153822764ec3",
         "138750.9",
         "WINDOWS_PHONE"
        ]
       ],
       "datasetInfos": [],
       "dbfsResultPath": null,
       "isJsonSchema": true,
       "metadata": {},
       "overflow": false,
       "plotOptions": {
        "customPlotOptions": {},
        "displayType": "table",
        "pivotAggregation": null,
        "pivotColumns": null,
        "xColumns": null,
        "yColumns": null
       },
       "removedWidgets": [],
       "schema": [
        {
         "metadata": "{}",
         "name": "summary",
         "type": "\"string\""
        },
        {
         "metadata": "{}",
         "name": "cpf",
         "type": "\"string\""
        },
        {
         "metadata": "{}",
         "name": "customer_id",
         "type": "\"string\""
        },
        {
         "metadata": "{}",
         "name": "customer_name",
         "type": "\"string\""
        },
        {
         "metadata": "{}",
         "name": "delivery_address_city",
         "type": "\"string\""
        },
        {
         "metadata": "{}",
         "name": "delivery_address_country",
         "type": "\"string\""
        },
        {
         "metadata": "{}",
         "name": "delivery_address_district",
         "type": "\"string\""
        },
        {
         "metadata": "{}",
         "name": "delivery_address_external_id",
         "type": "\"string\""
        },
        {
         "metadata": "{}",
         "name": "delivery_address_latitude",
         "type": "\"string\""
        },
        {
         "metadata": "{}",
         "name": "delivery_address_longitude",
         "type": "\"string\""
        },
        {
         "metadata": "{}",
         "name": "delivery_address_state",
         "type": "\"string\""
        },
        {
         "metadata": "{}",
         "name": "delivery_address_zip_code",
         "type": "\"string\""
        },
        {
         "metadata": "{}",
         "name": "items",
         "type": "\"string\""
        },
        {
         "metadata": "{}",
         "name": "merchant_id",
         "type": "\"string\""
        },
        {
         "metadata": "{}",
         "name": "merchant_latitude",
         "type": "\"string\""
        },
        {
         "metadata": "{}",
         "name": "merchant_longitude",
         "type": "\"string\""
        },
        {
         "metadata": "{}",
         "name": "merchant_timezone",
         "type": "\"string\""
        },
        {
         "metadata": "{}",
         "name": "order_created_at",
         "type": "\"string\""
        },
        {
         "metadata": "{}",
         "name": "order_id",
         "type": "\"string\""
        },
        {
         "metadata": "{}",
         "name": "order_total_amount",
         "type": "\"string\""
        },
        {
         "metadata": "{}",
         "name": "origin_platform",
         "type": "\"string\""
        }
       ],
       "type": "table"
      }
     },
     "output_type": "display_data"
    }
   ],
   "source": [
    "#entendimento df\n",
    "print((df_pedido.count(), len(df_pedido.columns)))\n",
    "display(df_pedido.limit(10))\n",
    "display(df_pedido.columns)\n",
    "df_pedido.printSchema()\n",
    "display(df_pedido.describe())"
   ]
  },
  {
   "cell_type": "code",
   "execution_count": 0,
   "metadata": {
    "application/vnd.databricks.v1+cell": {
     "cellMetadata": {
      "byteLimit": 2048000,
      "rowLimit": 10000
     },
     "inputWidgets": {},
     "nuid": "ede2e930-4217-4849-b285-7d4c257913a8",
     "showTitle": false,
     "tableResultSettingsMap": {},
     "title": ""
    }
   },
   "outputs": [
    {
     "output_type": "stream",
     "name": "stdout",
     "output_type": "stream",
     "text": [
      "root\n |-- cpf: string (nullable = true)\n |-- customer_id: string (nullable = true)\n |-- customer_name: string (nullable = true)\n |-- delivery_address_city: string (nullable = true)\n |-- delivery_address_country: string (nullable = true)\n |-- delivery_address_district: string (nullable = true)\n |-- delivery_address_external_id: string (nullable = true)\n |-- delivery_address_latitude: double (nullable = true)\n |-- delivery_address_longitude: string (nullable = true)\n |-- delivery_address_state: string (nullable = true)\n |-- delivery_address_zip_code: string (nullable = true)\n |-- items: string (nullable = true)\n |-- merchant_id: string (nullable = true)\n |-- merchant_latitude: double (nullable = true)\n |-- merchant_longitude: double (nullable = true)\n |-- merchant_timezone: string (nullable = true)\n |-- order_created_at: timestamp (nullable = true)\n |-- order_id: string (nullable = true)\n |-- order_scheduled: boolean (nullable = true)\n |-- order_total_amount: double (nullable = true)\n |-- origin_platform: string (nullable = true)\n\n"
     ]
    }
   ],
   "source": [
    "#converte tipo de colunas que estão diferente do dicionario de dados\n",
    "colunas_para_converter = [\"delivery_address_latitude\", \"delivery_address_latitude\", \"merchant_latitude\", \"merchant_longitude\"]\n",
    "\n",
    "for c in colunas_para_converter:\n",
    "    df_pedido = df_pedido.withColumn(c, col(c).cast(\"double\"))\n",
    "\n",
    "df_pedido = df_pedido.withColumn(\"order_created_at\", col(\"order_created_at\").cast(\"timestamp\"))\n",
    "df_pedido.printSchema()"
   ]
  },
  {
   "cell_type": "markdown",
   "metadata": {
    "application/vnd.databricks.v1+cell": {
     "cellMetadata": {},
     "inputWidgets": {},
     "nuid": "8f89db0a-2f17-48cc-b983-0d38d9e979f7",
     "showTitle": false,
     "tableResultSettingsMap": {},
     "title": ""
    }
   },
   "source": [
    "Ajuste df_estado"
   ]
  },
  {
   "cell_type": "code",
   "execution_count": 0,
   "metadata": {
    "application/vnd.databricks.v1+cell": {
     "cellMetadata": {
      "byteLimit": 2048000,
      "rowLimit": 10000
     },
     "inputWidgets": {},
     "nuid": "f0a0df80-a557-453c-934d-e3fbe2e32e31",
     "showTitle": false,
     "tableResultSettingsMap": {},
     "title": ""
    }
   },
   "outputs": [],
   "source": [
    "#alteracao DDD estados\n",
    "df_estado = df_estado.withColumn(\"DDD\", col(\"DDD\").cast(\"string\"))"
   ]
  },
  {
   "cell_type": "code",
   "execution_count": 0,
   "metadata": {
    "application/vnd.databricks.v1+cell": {
     "cellMetadata": {
      "byteLimit": 2048000,
      "rowLimit": 10000
     },
     "inputWidgets": {},
     "nuid": "2adf29f7-5b7f-43df-8648-84dfee0e866a",
     "showTitle": false,
     "tableResultSettingsMap": {},
     "title": ""
    }
   },
   "outputs": [],
   "source": [
    "#salvar em delta\n",
    "df_pedido.write.format(\"delta\").mode(\"overwrite\").save(base_path + \"process/pedido\")\n",
    "df_restaurante.write.format(\"delta\").mode(\"overwrite\").save(base_path + \"process/restaurante\")\n",
    "df_usuario.write.format(\"delta\").mode(\"overwrite\").save(base_path + \"process/usuario\")\n",
    "df_teste.write.format(\"delta\").mode(\"overwrite\").save(base_path + \"process/teste\")\n",
    "df_estado.write.format(\"delta\").mode(\"overwrite\").save(base_path + \"process/estado\")"
   ]
  }
 ],
 "metadata": {
  "application/vnd.databricks.v1+notebook": {
   "computePreferences": null,
   "dashboards": [],
   "environmentMetadata": {
    "base_environment": "",
    "environment_version": "2"
   },
   "inputWidgetPreferences": null,
   "language": "python",
   "notebookMetadata": {
    "pythonIndentUnit": 4
   },
   "notebookName": "Case_etl",
   "widgets": {}
  },
  "language_info": {
   "name": "python"
  }
 },
 "nbformat": 4,
 "nbformat_minor": 0
}