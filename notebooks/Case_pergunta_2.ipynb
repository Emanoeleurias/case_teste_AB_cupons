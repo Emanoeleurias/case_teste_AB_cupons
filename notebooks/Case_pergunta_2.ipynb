{
 "cells": [
  {
   "cell_type": "code",
   "execution_count": 0,
   "metadata": {
    "application/vnd.databricks.v1+cell": {
     "cellMetadata": {
      "byteLimit": 2048000,
      "rowLimit": 10000
     },
     "inputWidgets": {},
     "nuid": "9246fbb3-bad1-4ce0-9412-f22e5b0fe1b6",
     "showTitle": false,
     "tableResultSettingsMap": {},
     "title": ""
    }
   },
   "outputs": [],
   "source": [
    "#setup\n",
    "from pyspark.sql import SparkSession\n",
    "from pyspark.sql.functions import col, count, round, sum, avg, datediff, current_date, when, format_number,to_date,lit\n",
    "from pyspark.sql.window import Window\n",
    "from pyspark.sql.functions import broadcast\n",
    "import matplotlib.pyplot as plt\n",
    "import seaborn as sns"
   ]
  },
  {
   "cell_type": "code",
   "execution_count": 0,
   "metadata": {
    "application/vnd.databricks.v1+cell": {
     "cellMetadata": {
      "byteLimit": 2048000,
      "rowLimit": 10000
     },
     "inputWidgets": {},
     "nuid": "c7f98357-2b99-4e70-b6cb-deb03bc59b17",
     "showTitle": false,
     "tableResultSettingsMap": {},
     "title": ""
    }
   },
   "outputs": [],
   "source": [
    "#iniciar spark\n",
    "spark = SparkSession.builder \\\n",
    "    .appName(\"Case ifood teste AB\") \\\n",
    "    .getOrCreate()"
   ]
  },
  {
   "cell_type": "code",
   "execution_count": 0,
   "metadata": {
    "application/vnd.databricks.v1+cell": {
     "cellMetadata": {
      "byteLimit": 2048000,
      "rowLimit": 10000
     },
     "inputWidgets": {},
     "nuid": "5c74316d-6588-4ef4-8f61-2080e2650fff",
     "showTitle": false,
     "tableResultSettingsMap": {},
     "title": ""
    }
   },
   "outputs": [],
   "source": [
    "#caminho para buscar os dados\n",
    "base_path = \"/Volumes/workspace/default/case_ifood/process/\""
   ]
  },
  {
   "cell_type": "code",
   "execution_count": 0,
   "metadata": {
    "application/vnd.databricks.v1+cell": {
     "cellMetadata": {
      "byteLimit": 2048000,
      "rowLimit": 10000
     },
     "inputWidgets": {},
     "nuid": "c06f5b4e-a1ea-4a39-bac4-37006a0dce64",
     "showTitle": false,
     "tableResultSettingsMap": {},
     "title": ""
    }
   },
   "outputs": [],
   "source": [
    "#popular datasets\n",
    "df_pedido = spark.read.format(\"delta\").load(base_path+\"pedido\")\n",
    "df_teste  = spark.read.format(\"delta\").load(base_path+\"teste\")\n",
    "df_usuario  = spark.read.format(\"delta\").load(base_path+\"usuario\")\n",
    "df_restaurante = spark.read.format(\"delta\").load(base_path+\"restaurante\")\n",
    "df_estado = spark.read.format(\"delta\").load(base_path+\"estado\")"
   ]
  },
  {
   "cell_type": "code",
   "execution_count": 0,
   "metadata": {
    "application/vnd.databricks.v1+cell": {
     "cellMetadata": {
      "byteLimit": 2048000,
      "rowLimit": 10000
     },
     "inputWidgets": {},
     "nuid": "f62bfa37-b380-4485-87d1-9ca2b14992da",
     "showTitle": false,
     "tableResultSettingsMap": {},
     "title": ""
    }
   },
   "outputs": [
    {
     "output_type": "stream",
     "name": "stdout",
     "output_type": "stream",
     "text": [
      "+-----------+--------------------+-------------+---------------------+------------------------+-------------------------+----------------------------+-------------------------+--------------------------+----------------------+-------------------------+--------------------+--------------------+-----------------+------------------+-----------------+-------------------+--------------------+---------------+------------------+---------------+\n|        cpf|         customer_id|customer_name|delivery_address_city|delivery_address_country|delivery_address_district|delivery_address_external_id|delivery_address_latitude|delivery_address_longitude|delivery_address_state|delivery_address_zip_code|               items|         merchant_id|merchant_latitude|merchant_longitude|merchant_timezone|   order_created_at|            order_id|order_scheduled|order_total_amount|origin_platform|\n+-----------+--------------------+-------------+---------------------+------------------------+-------------------------+----------------------------+-------------------------+--------------------------+----------------------+-------------------------+--------------------+--------------------+-----------------+------------------+-----------------+-------------------+--------------------+---------------+------------------+---------------+\n|80532101763|7ba88a68bb2a3504c...|      GUSTAVO|               FRANCA|                      BR|         JARDIM ESPRAIADO|                     6736655|                   -47.39|                    -20.55|                    SP|                    14403|[{\"name\": \"Parmeg...|a992a079a651e699d...|           -47.39|            -20.55|America/Sao_Paulo|2019-01-17 22:50:06|33e0612d62e5eb42a...|          false|              46.0|        ANDROID|\n+-----------+--------------------+-------------+---------------------+------------------------+-------------------------+----------------------------+-------------------------+--------------------------+----------------------+-------------------------+--------------------+--------------------+-----------------+------------------+-----------------+-------------------+--------------------+---------------+------------------+---------------+\n\n+--------------------+---------+\n|         customer_id|is_target|\n+--------------------+---------+\n|755e1fa18f25caec5...|   target|\n+--------------------+---------+\n\n+--------------------+--------+--------------------+------+-------------+-------------------+---------------------+\n|         customer_id|language|          created_at|active|customer_name|customer_phone_area|customer_phone_number|\n+--------------------+--------+--------------------+------+-------------+-------------------+---------------------+\n|e8cc60860e09c0bb1...|   pt-br|2018-04-05 14:49:...|  true|         NUNO|                 46|            816135924|\n+--------------------+--------+--------------------+------+-------------+-------------------+---------------------+\n\n+--------------------+--------------------+-------+-----------+--------------+------------+-------------+-------------------+-----------------+--------------+--------------+----------------+\n|                  id|          created_at|enabled|price_range|average_ticket|takeout_time|delivery_time|minimum_order_value|merchant_zip_code| merchant_city|merchant_state|merchant_country|\n+--------------------+--------------------+-------+-----------+--------------+------------+-------------+-------------------+-----------------+--------------+--------------+----------------+\n|d19ff6fca6288939b...|2017-01-23 12:52:...|  false|          3|          60.0|         0.0|         50.0|               30.0|            14025|RIBEIRAO PRETO|            SP|              BR|\n+--------------------+--------------------+-------+-----------+--------------+------------+-------------+-------------------+-----------------+--------------+--------------+----------------+\n\n+-----+---+\n|SG_UF|DDD|\n+-----+---+\n|   RO| 69|\n+-----+---+\n\n"
     ]
    }
   ],
   "source": [
    "df_pedido.limit(1).show()\n",
    "df_teste.limit(1).show()\n",
    "df_usuario.limit(1).show()\n",
    "df_restaurante.limit(1).show()\n",
    "df_estado.limit(1).show()"
   ]
  },
  {
   "cell_type": "markdown",
   "metadata": {
    "application/vnd.databricks.v1+cell": {
     "cellMetadata": {
      "byteLimit": 2048000,
      "rowLimit": 10000
     },
     "inputWidgets": {},
     "nuid": "c30c430a-1d02-426f-bd89-9ad00593c2ea",
     "showTitle": false,
     "tableResultSettingsMap": {},
     "title": ""
    }
   },
   "source": [
    "### Analise segmentações por usuario"
   ]
  },
  {
   "cell_type": "code",
   "execution_count": 0,
   "metadata": {
    "application/vnd.databricks.v1+cell": {
     "cellMetadata": {
      "byteLimit": 2048000,
      "rowLimit": 10000
     },
     "inputWidgets": {},
     "nuid": "e0160013-6d0e-40a6-ac9c-a6f9340a4600",
     "showTitle": false,
     "tableResultSettingsMap": {},
     "title": ""
    }
   },
   "outputs": [
    {
     "output_type": "stream",
     "name": "stdout",
     "output_type": "stream",
     "text": [
      "root\n |-- customer_id: string (nullable = true)\n |-- language: string (nullable = true)\n |-- created_at: timestamp (nullable = true)\n |-- active: boolean (nullable = true)\n |-- customer_name: string (nullable = true)\n |-- customer_phone_area: string (nullable = true)\n |-- customer_phone_number: string (nullable = true)\n\n"
     ]
    }
   ],
   "source": [
    "#avaliação dos campos para segmentações\n",
    "df_usuario.printSchema()"
   ]
  },
  {
   "cell_type": "code",
   "execution_count": 0,
   "metadata": {
    "application/vnd.databricks.v1+cell": {
     "cellMetadata": {
      "byteLimit": 2048000,
      "rowLimit": 10000
     },
     "inputWidgets": {},
     "nuid": "6fd92426-7e7a-4c71-a7c5-4354806eaf0c",
     "showTitle": false,
     "tableResultSettingsMap": {},
     "title": ""
    }
   },
   "outputs": [
    {
     "output_type": "stream",
     "name": "stdout",
     "output_type": "stream",
     "text": [
      "+--------------------+-----------+------------+\n|         customer_id|num_pedidos|ticket_medio|\n+--------------------+-----------+------------+\n|d763cd9cee3e33feb...|          4|        42.8|\n+--------------------+-----------+------------+\n\n"
     ]
    }
   ],
   "source": [
    "#Agregações por usuário: número de pedidos e ticket médio\n",
    "df_user_metricas = (\n",
    "    df_pedido.groupBy(\"customer_id\")\n",
    "    .agg(\n",
    "        count(\"order_id\").alias(\"num_pedidos\"),\n",
    "        avg(\"order_total_amount\").alias(\"ticket_medio_raw\")\n",
    "    )\n",
    "    .withColumn(\"ticket_medio\", round(col(\"ticket_medio_raw\"), 2))\n",
    "    .drop(\"ticket_medio_raw\")\n",
    ")\n",
    "df_user_metricas.limit(1).show()"
   ]
  },
  {
   "cell_type": "code",
   "execution_count": 0,
   "metadata": {
    "application/vnd.databricks.v1+cell": {
     "cellMetadata": {
      "byteLimit": 2048000,
      "rowLimit": 10000
     },
     "inputWidgets": {},
     "nuid": "e4b9c3f4-9c98-457b-abe4-28bd9e0c0b00",
     "showTitle": false,
     "tableResultSettingsMap": {},
     "title": ""
    }
   },
   "outputs": [
    {
     "output_type": "stream",
     "name": "stdout",
     "output_type": "stream",
     "text": [
      "+--------------------+--------+--------------------+------+-------------+-------------------+---------------------+------------------+\n|         customer_id|language|          created_at|active|customer_name|customer_phone_area|customer_phone_number|dias_desde_criacao|\n+--------------------+--------+--------------------+------+-------------+-------------------+---------------------+------------------+\n|e8cc60860e09c0bb1...|   pt-br|2018-04-05 14:49:...|  true|         NUNO|                 46|            816135924|               301|\n+--------------------+--------+--------------------+------+-------------+-------------------+---------------------+------------------+\n\n"
     ]
    }
   ],
   "source": [
    "# Tempo de conta em dias\n",
    "data_fixa = to_date(lit(\"2019-01-31\"), \"yyyy-MM-dd\") #data do fim do teste AB para calcular o tempo de conta\n",
    "\n",
    "df_user_tempo_conta = df_usuario.withColumn(\n",
    "    \"dias_desde_criacao\", datediff(data_fixa, col(\"created_at\"))\n",
    ")\n",
    "df_user_tempo_conta.limit(1).show()"
   ]
  },
  {
   "cell_type": "code",
   "execution_count": 0,
   "metadata": {
    "application/vnd.databricks.v1+cell": {
     "cellMetadata": {
      "byteLimit": 2048000,
      "rowLimit": 10000
     },
     "inputWidgets": {},
     "nuid": "34434a90-31bc-4b1b-ac9b-d7a13503b060",
     "showTitle": false,
     "tableResultSettingsMap": {},
     "title": ""
    }
   },
   "outputs": [
    {
     "output_type": "stream",
     "name": "stdout",
     "output_type": "stream",
     "text": [
      "+--------------------+--------+--------------------+------+-------------+-------------------+---------------------+------------------+-----------+------------+\n|         customer_id|language|          created_at|active|customer_name|customer_phone_area|customer_phone_number|dias_desde_criacao|num_pedidos|ticket_medio|\n+--------------------+--------+--------------------+------+-------------+-------------------+---------------------+------------------+-----------+------------+\n|a2834a38a9876cf74...|   pt-br|2018-01-14 21:40:...|  true|     ADRIELLY|                 59|            231330577|               382|         16|       46.61|\n|41e1051728eba1334...|   pt-br|2018-01-07 03:47:...|  true|        PAULA|                 62|            347597883|               389|          5|       41.16|\n|8e7c1dcb64edf95c9...|   pt-br|2018-01-10 22:17:...|  true|       HELTON|                 13|            719366842|               386|          3|       34.22|\n|7823d4cf4150c5dae...|   pt-br|2018-04-06 00:16:...|  true|       WENDER|                 76|            543232158|               300|         12|       27.44|\n|e8cc60860e09c0bb1...|   pt-br|2018-04-05 14:49:...|  true|         NUNO|                 46|            816135924|               301|         14|       36.71|\n+--------------------+--------+--------------------+------+-------------+-------------------+---------------------+------------------+-----------+------------+\n\n"
     ]
    }
   ],
   "source": [
    "#criação da coluna numero de pedidos por usuário\n",
    "df_segmento_user = (\n",
    "    df_user_tempo_conta\n",
    "    .join(df_user_metricas, on=\"customer_id\", how=\"left\")\n",
    "    .fillna({\"num_pedidos\": 0, \"ticket_medio\": 0})\n",
    ")\n",
    "df_segmento_user.limit(5).show()"
   ]
  },
  {
   "cell_type": "markdown",
   "metadata": {
    "application/vnd.databricks.v1+cell": {
     "cellMetadata": {
      "byteLimit": 2048000,
      "rowLimit": 10000
     },
     "inputWidgets": {},
     "nuid": "1860b5ed-0757-4e15-afa2-393efa696058",
     "showTitle": false,
     "tableResultSettingsMap": {},
     "title": ""
    }
   },
   "source": [
    "Analise segmento frequencia, ticket medio e tempo de conta"
   ]
  },
  {
   "cell_type": "code",
   "execution_count": 0,
   "metadata": {
    "application/vnd.databricks.v1+cell": {
     "cellMetadata": {
      "byteLimit": 2048000,
      "rowLimit": 10000
     },
     "inputWidgets": {},
     "nuid": "ce01b1cf-9766-41f6-9499-0bbc361c5626",
     "showTitle": false,
     "tableResultSettingsMap": {},
     "title": ""
    }
   },
   "outputs": [
    {
     "output_type": "stream",
     "name": "stdout",
     "output_type": "stream",
     "text": [
      "root\n |-- customer_id: string (nullable = true)\n |-- language: string (nullable = true)\n |-- created_at: timestamp (nullable = true)\n |-- active: boolean (nullable = true)\n |-- customer_name: string (nullable = true)\n |-- customer_phone_area: string (nullable = true)\n |-- customer_phone_number: string (nullable = true)\n |-- dias_desde_criacao: integer (nullable = true)\n |-- num_pedidos: long (nullable = false)\n |-- ticket_medio: double (nullable = false)\n\n"
     ]
    }
   ],
   "source": [
    "df_segmento_user.printSchema()"
   ]
  },
  {
   "cell_type": "code",
   "execution_count": 0,
   "metadata": {
    "application/vnd.databricks.v1+cell": {
     "cellMetadata": {
      "byteLimit": 2048000,
      "rowLimit": 10000
     },
     "inputWidgets": {},
     "nuid": "3cbcdc0c-a83c-4bdf-8092-f0efa771b3b3",
     "showTitle": false,
     "tableResultSettingsMap": {},
     "title": ""
    }
   },
   "outputs": [
    {
     "output_type": "display_data",
     "data": {
      "text/html": [
       "<style scoped>\n",
       "  .table-result-container {\n",
       "    max-height: 300px;\n",
       "    overflow: auto;\n",
       "  }\n",
       "  table, th, td {\n",
       "    border: 1px solid black;\n",
       "    border-collapse: collapse;\n",
       "  }\n",
       "  th, td {\n",
       "    padding: 5px;\n",
       "  }\n",
       "  th {\n",
       "    text-align: left;\n",
       "  }\n",
       "</style><div class='table-result-container'><table class='table-result'><thead style='background-color: white'><tr><th>summary</th><th>customer_id</th><th>language</th><th>customer_name</th><th>customer_phone_area</th><th>customer_phone_number</th><th>dias_desde_criacao</th><th>num_pedidos</th><th>ticket_medio</th></tr></thead><tbody><tr><td>count</td><td>806156</td><td>806156</td><td>806156</td><td>806156</td><td>806156</td><td>806156</td><td>806156</td><td>806156</td></tr><tr><td>mean</td><td>null</td><td>null</td><td>NaN</td><td>49.56521194409022</td><td>5.006510006290433E8</td><td>348.0585035650668</td><td>4.541366683371456</td><td>47.91384890765829</td></tr><tr><td>stddev</td><td>null</td><td>null</td><td>NaN</td><td>28.837159855696715</td><td>2.8848735312841815E8</td><td>41.013319682867</td><td>5.703363859628932</td><td>90.33253728168518</td></tr><tr><td>min</td><td>000009e29b12d8c5b9c9579e21384320c2df3bd935f19e12402be6b07a099361</td><td>es-ar</td><td>!\"VERA</td><td>0</td><td>100002339</td><td>300</td><td>1</td><td>0.0</td></tr><tr><td>max</td><td>ffffeda85b466b48195c356f8b97f21d0b23958d5815fcd401d62f0f4c426195</td><td>pt-br</td><td>•fanilo</td><td>99</td><td>999998441</td><td>394</td><td>239</td><td>70169.45</td></tr></tbody></table></div>"
      ]
     },
     "metadata": {
      "application/vnd.databricks.v1+output": {
       "addedWidgets": {},
       "aggData": [],
       "aggError": "",
       "aggOverflow": false,
       "aggSchema": [],
       "aggSeriesLimitReached": false,
       "aggType": "",
       "arguments": {},
       "columnCustomDisplayInfos": {},
       "data": [
        [
         "count",
         "806156",
         "806156",
         "806156",
         "806156",
         "806156",
         "806156",
         "806156",
         "806156"
        ],
        [
         "mean",
         null,
         null,
         "NaN",
         "49.56521194409022",
         "5.006510006290433E8",
         "348.0585035650668",
         "4.541366683371456",
         "47.91384890765829"
        ],
        [
         "stddev",
         null,
         null,
         "NaN",
         "28.837159855696715",
         "2.8848735312841815E8",
         "41.013319682867",
         "5.703363859628932",
         "90.33253728168518"
        ],
        [
         "min",
         "000009e29b12d8c5b9c9579e21384320c2df3bd935f19e12402be6b07a099361",
         "es-ar",
         "!\"VERA",
         "0",
         "100002339",
         "300",
         "1",
         "0.0"
        ],
        [
         "max",
         "ffffeda85b466b48195c356f8b97f21d0b23958d5815fcd401d62f0f4c426195",
         "pt-br",
         "•fanilo",
         "99",
         "999998441",
         "394",
         "239",
         "70169.45"
        ]
       ],
       "datasetInfos": [],
       "dbfsResultPath": null,
       "isJsonSchema": true,
       "metadata": {},
       "overflow": false,
       "plotOptions": {
        "customPlotOptions": {},
        "displayType": "table",
        "pivotAggregation": null,
        "pivotColumns": null,
        "xColumns": null,
        "yColumns": null
       },
       "removedWidgets": [],
       "schema": [
        {
         "metadata": "{}",
         "name": "summary",
         "type": "\"string\""
        },
        {
         "metadata": "{}",
         "name": "customer_id",
         "type": "\"string\""
        },
        {
         "metadata": "{}",
         "name": "language",
         "type": "\"string\""
        },
        {
         "metadata": "{}",
         "name": "customer_name",
         "type": "\"string\""
        },
        {
         "metadata": "{}",
         "name": "customer_phone_area",
         "type": "\"string\""
        },
        {
         "metadata": "{}",
         "name": "customer_phone_number",
         "type": "\"string\""
        },
        {
         "metadata": "{}",
         "name": "dias_desde_criacao",
         "type": "\"string\""
        },
        {
         "metadata": "{}",
         "name": "num_pedidos",
         "type": "\"string\""
        },
        {
         "metadata": "{}",
         "name": "ticket_medio",
         "type": "\"string\""
        }
       ],
       "type": "table"
      }
     },
     "output_type": "display_data"
    }
   ],
   "source": [
    "#enteder informações de min max e media para segmentação\n",
    "display(df_segmento_user.describe())"
   ]
  },
  {
   "cell_type": "code",
   "execution_count": 0,
   "metadata": {
    "application/vnd.databricks.v1+cell": {
     "cellMetadata": {
      "byteLimit": 2048000,
      "rowLimit": 10000
     },
     "inputWidgets": {},
     "nuid": "9df65ffc-82e8-4f6e-a1f0-4e2a3dbabbd8",
     "showTitle": false,
     "tableResultSettingsMap": {},
     "title": ""
    }
   },
   "outputs": [],
   "source": [
    "#preparar df para grafico\n",
    "# Selecionar as colunas desejadas\n",
    "df_plot = df_segmento_user.select(\"dias_desde_criacao\", \"num_pedidos\", \"ticket_medio\")\n",
    "\n",
    "# Coletar para Pandas\n",
    "df_pandas = df_plot.toPandas()"
   ]
  },
  {
   "cell_type": "code",
   "execution_count": 0,
   "metadata": {
    "application/vnd.databricks.v1+cell": {
     "cellMetadata": {
      "byteLimit": 2048000,
      "rowLimit": 10000
     },
     "inputWidgets": {},
     "nuid": "70184a1b-3a20-4752-a1d2-9e5cb65e063e",
     "showTitle": false,
     "tableResultSettingsMap": {},
     "title": ""
    }
   },
   "outputs": [],
   "source": [
    "#remover outliers\n",
    "# Definir os limites (1% e 99%) para cada variável\n",
    "p_min, p_max = 0.01, 0.99\n",
    "\n",
    "# Para num_pedidos\n",
    "np_min, np_max = df_pandas[\"num_pedidos\"].quantile([p_min, p_max])\n",
    "# Para ticket_medio\n",
    "tm_min, tm_max = df_pandas[\"ticket_medio\"].quantile([p_min, p_max])\n",
    "\n",
    "# Aplicar os filtros\n",
    "df_sem_outliers = df_pandas[\n",
    "    (df_pandas[\"num_pedidos\"] >= np_min) & (df_pandas[\"num_pedidos\"] <= np_max) &\n",
    "    (df_pandas[\"ticket_medio\"] >= tm_min) & (df_pandas[\"ticket_medio\"] <= tm_max)\n",
    "]"
   ]
  },
  {
   "cell_type": "code",
   "execution_count": 0,
   "metadata": {
    "application/vnd.databricks.v1+cell": {
     "cellMetadata": {
      "byteLimit": 2048000,
      "rowLimit": 10000
     },
     "inputWidgets": {},
     "nuid": "b5b979f8-1fa0-4f2c-b049-bfc19a82468e",
     "showTitle": false,
     "tableResultSettingsMap": {},
     "title": ""
    }
   },
   "outputs": [
    {
     "output_type": "display_data",
     "data": {
      "image/png": "[encoded data removed]",
      "text/plain": [
       "<Figure size 1800x600 with 3 Axes>"
      ]
     },
     "metadata": {},
     "output_type": "display_data"
    }
   ],
   "source": [
    "#entendimento do grafico de quartis para segmentação\n",
    "# Criar figura com 3 subgráficos\n",
    "fig, axs = plt.subplots(1, 3, figsize=(18, 6))\n",
    "fig.suptitle(\"Distribuição com Quartis Destacados\", fontsize=16)\n",
    "\n",
    "# Função auxiliar para desenhar boxplot com linhas de quartis\n",
    "def plot_boxplot(ax, coluna, cor):\n",
    "    sns.boxplot(y=df_sem_outliers[coluna], ax=ax, color=cor)\n",
    "    q1 = df_sem_outliers[coluna].quantile(0.25)\n",
    "    q2 = df_sem_outliers[coluna].quantile(0.50)\n",
    "    q3 = df_sem_outliers[coluna].quantile(0.75)\n",
    "\n",
    "    ax.axhline(q1, color=\"orange\", linestyle=\"--\", label=f\"Q1 = {q1:.2f}\")\n",
    "    ax.axhline(q2, color=\"blue\", linestyle=\"--\", label=f\"Q2 (Mediana) = {q2:.2f}\")\n",
    "    ax.axhline(q3, color=\"red\", linestyle=\"--\", label=f\"Q3 = {q3:.2f}\")\n",
    "\n",
    "    ax.set_title(f\"{coluna}\")\n",
    "    ax.set_ylabel(\"\")\n",
    "    ax.legend()\n",
    "\n",
    "# Plot para cada variável\n",
    "plot_boxplot(axs[0], \"dias_desde_criacao\", \"lightblue\")\n",
    "plot_boxplot(axs[1], \"num_pedidos\", \"lightgreen\")\n",
    "plot_boxplot(axs[2], \"ticket_medio\", \"lightcoral\")\n",
    "\n",
    "# Ajustar layout\n",
    "plt.tight_layout(rect=[0, 0, 1, 0.95])\n",
    "plt.show()"
   ]
  },
  {
   "cell_type": "code",
   "execution_count": 0,
   "metadata": {
    "application/vnd.databricks.v1+cell": {
     "cellMetadata": {
      "byteLimit": 2048000,
      "rowLimit": 10000
     },
     "inputWidgets": {},
     "nuid": "c6aeb71b-932d-40bf-93e8-2c395b70592a",
     "showTitle": false,
     "tableResultSettingsMap": {},
     "title": ""
    }
   },
   "outputs": [
    {
     "output_type": "display_data",
     "data": {
      "image/png": "[encoded data removed]",
      "text/plain": [
       "<Figure size 1800x500 with 3 Axes>"
      ]
     },
     "metadata": {},
     "output_type": "display_data"
    }
   ],
   "source": [
    "#testes de distribuição para segmentação\n",
    "\n",
    "# Definir bins personalizados\n",
    "bins_pedidos = [ 1, 2, 5,  50]\n",
    "bins_ticket = [0, 30,  80, 300]\n",
    "\n",
    "# Criar a figura com 3 subplots\n",
    "fig, axs = plt.subplots(1, 3, figsize=(18, 5))\n",
    "\n",
    "# Histograma: dias desde criação\n",
    "axs[0].hist(df_pandas[\"dias_desde_criacao\"], bins=10, color=\"steelblue\", edgecolor=\"black\")\n",
    "axs[0].set_title(\"Distribuição - Dias desde criação\")\n",
    "axs[0].set_xlabel(\"Dias\")\n",
    "axs[0].set_ylabel(\"Usuários\")\n",
    "\n",
    "\n",
    "# Histograma: número de pedidos\n",
    "axs[1].hist(df_pandas[\"num_pedidos\"], bins=bins_pedidos, color=\"tomato\", edgecolor=\"black\")\n",
    "axs[1].set_title(\"Distribuição - Nº de pedidos por usuário\")\n",
    "axs[1].set_xlabel(\"Número de pedidos\")\n",
    "axs[1].set_ylabel(\"Usuários\")\n",
    "axs[1].set_xlim(0, 50)\n",
    "ticks = [1, 4,  30]\n",
    "labels = [\"1\", \"2-5\", \"6+\"]\n",
    "axs[1].set_xticks(ticks)\n",
    "axs[1].set_xticklabels(labels, rotation=45)\n",
    "\n",
    "\n",
    "# Histograma: ticket médio\n",
    "axs[2].hist(df_pandas[\"ticket_medio\"], bins=bins_ticket, color=\"seagreen\", edgecolor=\"black\")\n",
    "axs[2].set_title(\"Distribuição - Ticket médio por usuário\")\n",
    "axs[2].set_xlabel(\"R$ por pedido\")\n",
    "axs[2].set_ylabel(\"Usuários\")\n",
    "axs[2].tick_params(axis='x', rotation=45)\n",
    "axs[2].set_xlim(0, 200)\n",
    "centros_bins = [(bins_ticket[i] + bins_ticket[i+1]) / 2 for i in range(len(bins_ticket)-1)]\n",
    "labels_bins = [f\"{bins_ticket[i]}-{bins_ticket[i+1]}\" for i in range(len(bins_ticket)-1)]\n",
    "\n",
    "axs[2].set_xticks(centros_bins)\n",
    "axs[2].set_xticklabels(labels_bins, rotation=45)\n",
    "\n",
    "plt.tight_layout()\n",
    "plt.show()"
   ]
  },
  {
   "cell_type": "markdown",
   "metadata": {
    "application/vnd.databricks.v1+cell": {
     "cellMetadata": {
      "byteLimit": 2048000,
      "rowLimit": 10000
     },
     "inputWidgets": {},
     "nuid": "f51e08fb-3c85-422b-ab4f-0bd988411bd9",
     "showTitle": false,
     "tableResultSettingsMap": {},
     "title": ""
    }
   },
   "source": [
    "-Segmento por dias desde a criação não faz sentido pois foi realizada uma amostragem de cientes de 300 a 400 dias de criação "
   ]
  },
  {
   "cell_type": "code",
   "execution_count": 0,
   "metadata": {
    "application/vnd.databricks.v1+cell": {
     "cellMetadata": {
      "byteLimit": 2048000,
      "rowLimit": 10000
     },
     "inputWidgets": {},
     "nuid": "ddb8ca9b-e650-4cea-966c-6139c82e2cb5",
     "showTitle": false,
     "tableResultSettingsMap": {},
     "title": ""
    }
   },
   "outputs": [
    {
     "output_type": "display_data",
     "data": {
      "text/html": [
       "<style scoped>\n",
       "  .table-result-container {\n",
       "    max-height: 300px;\n",
       "    overflow: auto;\n",
       "  }\n",
       "  table, th, td {\n",
       "    border: 1px solid black;\n",
       "    border-collapse: collapse;\n",
       "  }\n",
       "  th, td {\n",
       "    padding: 5px;\n",
       "  }\n",
       "  th {\n",
       "    text-align: left;\n",
       "  }\n",
       "</style><div class='table-result-container'><table class='table-result'><thead style='background-color: white'><tr><th>customer_id</th><th>language</th><th>created_at</th><th>active</th><th>customer_name</th><th>customer_phone_area</th><th>customer_phone_number</th><th>dias_desde_criacao</th><th>num_pedidos</th><th>ticket_medio</th><th>segmento_frequencia</th></tr></thead><tbody><tr><td>a2834a38a9876cf74e016524dd2e8c1f010ee12b2b684d58c40ab11eef19b6eb</td><td>pt-br</td><td>2018-01-14T21:40:02.141Z</td><td>true</td><td>ADRIELLY</td><td>59</td><td>231330577</td><td>382</td><td>16</td><td>46.61</td><td>fiel</td></tr><tr><td>fc3b69d0454f1ec8c1d196f0d4e9a7cc1409dbc87339a89c0725ec9c054a4765</td><td>pt-br</td><td>2018-01-04T02:01:17.478Z</td><td>true</td><td>ANA</td><td>91</td><td>533597575</td><td>392</td><td>1</td><td>40.5</td><td>1pedido</td></tr><tr><td>0ce03c2b567f34f421372f0a8b70c6bfd04308d134d52b4436682b304f6d7dd8</td><td>pt-br</td><td>2018-01-04T14:12:16.843Z</td><td>true</td><td>MARLOS</td><td>18</td><td>724199206</td><td>392</td><td>2</td><td>38.48</td><td>recorrente</td></tr><tr><td>41e1051728eba13341136d67d0757f8d8cc44b2a405b718a8c5efba2c093b2c0</td><td>pt-br</td><td>2018-01-07T03:47:15.554Z</td><td>true</td><td>PAULA</td><td>62</td><td>347597883</td><td>389</td><td>5</td><td>41.16</td><td>recorrente</td></tr><tr><td>7c2c4d1fe3ce743583c15365efb8ee4ab90d92b5768ffa18b6bc659f3f86c953</td><td>pt-br</td><td>2018-03-18T20:57:06.301Z</td><td>true</td><td>REBECCA</td><td>32</td><td>454530554</td><td>319</td><td>4</td><td>36.43</td><td>recorrente</td></tr><tr><td>8e7c1dcb64edf95c935147f6d560cb068c44714cb1b21b287f1f433ae7b0b04e</td><td>pt-br</td><td>2018-01-10T22:17:08.160Z</td><td>true</td><td>HELTON</td><td>13</td><td>719366842</td><td>386</td><td>3</td><td>34.22</td><td>recorrente</td></tr><tr><td>7823d4cf4150c5daeae0bd799206852fc123bdef0cf5d1639c8cb568d73e8c83</td><td>pt-br</td><td>2018-04-06T00:16:20.935Z</td><td>true</td><td>WENDER</td><td>76</td><td>543232158</td><td>300</td><td>12</td><td>27.44</td><td>fiel</td></tr><tr><td>77e6a36569f6c8f357a661ef59b7854c1701e538ceb5a3a7821dd44797944e0c</td><td>pt-br</td><td>2018-01-27T20:00:11.176Z</td><td>true</td><td>MICHELLE</td><td>90</td><td>806008944</td><td>369</td><td>11</td><td>53.36</td><td>fiel</td></tr><tr><td>d5de3aa126ae18fd98c65fd544548cc926b36caeb8309a213631d86901bd6074</td><td>pt-br</td><td>2018-01-08T22:19:15.852Z</td><td>true</td><td>KELLY</td><td>72</td><td>47158438</td><td>388</td><td>4</td><td>19.69</td><td>recorrente</td></tr><tr><td>e8cc60860e09c0bb19610b06ced69c973eb83982cfc98e397ce65cba92f70928</td><td>pt-br</td><td>2018-04-05T14:49:18.165Z</td><td>true</td><td>NUNO</td><td>46</td><td>816135924</td><td>301</td><td>14</td><td>36.71</td><td>fiel</td></tr></tbody></table></div>"
      ]
     },
     "metadata": {
      "application/vnd.databricks.v1+output": {
       "addedWidgets": {},
       "aggData": [],
       "aggError": "",
       "aggOverflow": false,
       "aggSchema": [],
       "aggSeriesLimitReached": false,
       "aggType": "",
       "arguments": {},
       "columnCustomDisplayInfos": {},
       "data": [
        [
         "a2834a38a9876cf74e016524dd2e8c1f010ee12b2b684d58c40ab11eef19b6eb",
         "pt-br",
         "2018-01-14T21:40:02.141Z",
         true,
         "ADRIELLY",
         "59",
         "231330577",
         382,
         16,
         46.61,
         "fiel"
        ],
        [
         "fc3b69d0454f1ec8c1d196f0d4e9a7cc1409dbc87339a89c0725ec9c054a4765",
         "pt-br",
         "2018-01-04T02:01:17.478Z",
         true,
         "ANA",
         "91",
         "533597575",
         392,
         1,
         40.5,
         "1pedido"
        ],
        [
         "0ce03c2b567f34f421372f0a8b70c6bfd04308d134d52b4436682b304f6d7dd8",
         "pt-br",
         "2018-01-04T14:12:16.843Z",
         true,
         "MARLOS",
         "18",
         "724199206",
         392,
         2,
         38.48,
         "recorrente"
        ],
        [
         "41e1051728eba13341136d67d0757f8d8cc44b2a405b718a8c5efba2c093b2c0",
         "pt-br",
         "2018-01-07T03:47:15.554Z",
         true,
         "PAULA",
         "62",
         "347597883",
         389,
         5,
         41.16,
         "recorrente"
        ],
        [
         "7c2c4d1fe3ce743583c15365efb8ee4ab90d92b5768ffa18b6bc659f3f86c953",
         "pt-br",
         "2018-03-18T20:57:06.301Z",
         true,
         "REBECCA",
         "32",
         "454530554",
         319,
         4,
         36.43,
         "recorrente"
        ],
        [
         "8e7c1dcb64edf95c935147f6d560cb068c44714cb1b21b287f1f433ae7b0b04e",
         "pt-br",
         "2018-01-10T22:17:08.160Z",
         true,
         "HELTON",
         "13",
         "719366842",
         386,
         3,
         34.22,
         "recorrente"
        ],
        [
         "7823d4cf4150c5daeae0bd799206852fc123bdef0cf5d1639c8cb568d73e8c83",
         "pt-br",
         "2018-04-06T00:16:20.935Z",
         true,
         "WENDER",
         "76",
         "543232158",
         300,
         12,
         27.44,
         "fiel"
        ],
        [
         "77e6a36569f6c8f357a661ef59b7854c1701e538ceb5a3a7821dd44797944e0c",
         "pt-br",
         "2018-01-27T20:00:11.176Z",
         true,
         "MICHELLE",
         "90",
         "806008944",
         369,
         11,
         53.36,
         "fiel"
        ],
        [
         "d5de3aa126ae18fd98c65fd544548cc926b36caeb8309a213631d86901bd6074",
         "pt-br",
         "2018-01-08T22:19:15.852Z",
         true,
         "KELLY",
         "72",
         "47158438",
         388,
         4,
         19.69,
         "recorrente"
        ],
        [
         "e8cc60860e09c0bb19610b06ced69c973eb83982cfc98e397ce65cba92f70928",
         "pt-br",
         "2018-04-05T14:49:18.165Z",
         true,
         "NUNO",
         "46",
         "816135924",
         301,
         14,
         36.71,
         "fiel"
        ]
       ],
       "datasetInfos": [],
       "dbfsResultPath": null,
       "isJsonSchema": true,
       "metadata": {},
       "overflow": false,
       "plotOptions": {
        "customPlotOptions": {},
        "displayType": "table",
        "pivotAggregation": null,
        "pivotColumns": null,
        "xColumns": null,
        "yColumns": null
       },
       "removedWidgets": [],
       "schema": [
        {
         "metadata": "{}",
         "name": "customer_id",
         "type": "\"string\""
        },
        {
         "metadata": "{}",
         "name": "language",
         "type": "\"string\""
        },
        {
         "metadata": "{}",
         "name": "created_at",
         "type": "\"timestamp\""
        },
        {
         "metadata": "{}",
         "name": "active",
         "type": "\"boolean\""
        },
        {
         "metadata": "{}",
         "name": "customer_name",
         "type": "\"string\""
        },
        {
         "metadata": "{}",
         "name": "customer_phone_area",
         "type": "\"string\""
        },
        {
         "metadata": "{}",
         "name": "customer_phone_number",
         "type": "\"string\""
        },
        {
         "metadata": "{}",
         "name": "dias_desde_criacao",
         "type": "\"integer\""
        },
        {
         "metadata": "{}",
         "name": "num_pedidos",
         "type": "\"long\""
        },
        {
         "metadata": "{}",
         "name": "ticket_medio",
         "type": "\"double\""
        },
        {
         "metadata": "{}",
         "name": "segmento_frequencia",
         "type": "\"string\""
        }
       ],
       "type": "table"
      }
     },
     "output_type": "display_data"
    }
   ],
   "source": [
    "#criar segmento de frenquencia\n",
    "df_segmento_user = df_segmento_user.withColumn(\n",
    "    \"segmento_frequencia\",\n",
    "    when(col(\"num_pedidos\") == 1, \"1pedido\")\n",
    "    .when((col(\"num_pedidos\") >= 2) & (col(\"num_pedidos\") <= 5), \"recorrente\")\n",
    "    .when(col(\"num_pedidos\") > 5, \"fiel\")\n",
    "    .otherwise(\"inativo\")\n",
    ")\n",
    "display(df_segmento_user.limit(10))"
   ]
  },
  {
   "cell_type": "code",
   "execution_count": 0,
   "metadata": {
    "application/vnd.databricks.v1+cell": {
     "cellMetadata": {
      "byteLimit": 2048000,
      "rowLimit": 10000
     },
     "inputWidgets": {},
     "nuid": "cb4bd290-72cb-4a97-9b3c-5dae83b24e87",
     "showTitle": false,
     "tableResultSettingsMap": {},
     "title": ""
    }
   },
   "outputs": [
    {
     "output_type": "display_data",
     "data": {
      "text/html": [
       "<style scoped>\n",
       "  .table-result-container {\n",
       "    max-height: 300px;\n",
       "    overflow: auto;\n",
       "  }\n",
       "  table, th, td {\n",
       "    border: 1px solid black;\n",
       "    border-collapse: collapse;\n",
       "  }\n",
       "  th, td {\n",
       "    padding: 5px;\n",
       "  }\n",
       "  th {\n",
       "    text-align: left;\n",
       "  }\n",
       "</style><div class='table-result-container'><table class='table-result'><thead style='background-color: white'><tr><th>customer_id</th><th>language</th><th>created_at</th><th>active</th><th>customer_name</th><th>customer_phone_area</th><th>customer_phone_number</th><th>dias_desde_criacao</th><th>num_pedidos</th><th>ticket_medio</th><th>segmento_frequencia</th><th>segmento_ticket</th></tr></thead><tbody><tr><td>a2834a38a9876cf74e016524dd2e8c1f010ee12b2b684d58c40ab11eef19b6eb</td><td>pt-br</td><td>2018-01-14T21:40:02.141Z</td><td>true</td><td>ADRIELLY</td><td>59</td><td>231330577</td><td>382</td><td>16</td><td>46.61</td><td>fiel</td><td>medio</td></tr><tr><td>fc3b69d0454f1ec8c1d196f0d4e9a7cc1409dbc87339a89c0725ec9c054a4765</td><td>pt-br</td><td>2018-01-04T02:01:17.478Z</td><td>true</td><td>ANA</td><td>91</td><td>533597575</td><td>392</td><td>1</td><td>40.5</td><td>1pedido</td><td>medio</td></tr><tr><td>0ce03c2b567f34f421372f0a8b70c6bfd04308d134d52b4436682b304f6d7dd8</td><td>pt-br</td><td>2018-01-04T14:12:16.843Z</td><td>true</td><td>MARLOS</td><td>18</td><td>724199206</td><td>392</td><td>2</td><td>38.48</td><td>recorrente</td><td>medio</td></tr><tr><td>41e1051728eba13341136d67d0757f8d8cc44b2a405b718a8c5efba2c093b2c0</td><td>pt-br</td><td>2018-01-07T03:47:15.554Z</td><td>true</td><td>PAULA</td><td>62</td><td>347597883</td><td>389</td><td>5</td><td>41.16</td><td>recorrente</td><td>medio</td></tr><tr><td>7c2c4d1fe3ce743583c15365efb8ee4ab90d92b5768ffa18b6bc659f3f86c953</td><td>pt-br</td><td>2018-03-18T20:57:06.301Z</td><td>true</td><td>REBECCA</td><td>32</td><td>454530554</td><td>319</td><td>4</td><td>36.43</td><td>recorrente</td><td>medio</td></tr><tr><td>8e7c1dcb64edf95c935147f6d560cb068c44714cb1b21b287f1f433ae7b0b04e</td><td>pt-br</td><td>2018-01-10T22:17:08.160Z</td><td>true</td><td>HELTON</td><td>13</td><td>719366842</td><td>386</td><td>3</td><td>34.22</td><td>recorrente</td><td>medio</td></tr><tr><td>7823d4cf4150c5daeae0bd799206852fc123bdef0cf5d1639c8cb568d73e8c83</td><td>pt-br</td><td>2018-04-06T00:16:20.935Z</td><td>true</td><td>WENDER</td><td>76</td><td>543232158</td><td>300</td><td>12</td><td>27.44</td><td>fiel</td><td>baixo</td></tr><tr><td>77e6a36569f6c8f357a661ef59b7854c1701e538ceb5a3a7821dd44797944e0c</td><td>pt-br</td><td>2018-01-27T20:00:11.176Z</td><td>true</td><td>MICHELLE</td><td>90</td><td>806008944</td><td>369</td><td>11</td><td>53.36</td><td>fiel</td><td>medio</td></tr><tr><td>d5de3aa126ae18fd98c65fd544548cc926b36caeb8309a213631d86901bd6074</td><td>pt-br</td><td>2018-01-08T22:19:15.852Z</td><td>true</td><td>KELLY</td><td>72</td><td>47158438</td><td>388</td><td>4</td><td>19.69</td><td>recorrente</td><td>baixo</td></tr><tr><td>e8cc60860e09c0bb19610b06ced69c973eb83982cfc98e397ce65cba92f70928</td><td>pt-br</td><td>2018-04-05T14:49:18.165Z</td><td>true</td><td>NUNO</td><td>46</td><td>816135924</td><td>301</td><td>14</td><td>36.71</td><td>fiel</td><td>medio</td></tr></tbody></table></div>"
      ]
     },
     "metadata": {
      "application/vnd.databricks.v1+output": {
       "addedWidgets": {},
       "aggData": [],
       "aggError": "",
       "aggOverflow": false,
       "aggSchema": [],
       "aggSeriesLimitReached": false,
       "aggType": "",
       "arguments": {},
       "columnCustomDisplayInfos": {},
       "data": [
        [
         "a2834a38a9876cf74e016524dd2e8c1f010ee12b2b684d58c40ab11eef19b6eb",
         "pt-br",
         "2018-01-14T21:40:02.141Z",
         true,
         "ADRIELLY",
         "59",
         "231330577",
         382,
         16,
         46.61,
         "fiel",
         "medio"
        ],
        [
         "fc3b69d0454f1ec8c1d196f0d4e9a7cc1409dbc87339a89c0725ec9c054a4765",
         "pt-br",
         "2018-01-04T02:01:17.478Z",
         true,
         "ANA",
         "91",
         "533597575",
         392,
         1,
         40.5,
         "1pedido",
         "medio"
        ],
        [
         "0ce03c2b567f34f421372f0a8b70c6bfd04308d134d52b4436682b304f6d7dd8",
         "pt-br",
         "2018-01-04T14:12:16.843Z",
         true,
         "MARLOS",
         "18",
         "724199206",
         392,
         2,
         38.48,
         "recorrente",
         "medio"
        ],
        [
         "41e1051728eba13341136d67d0757f8d8cc44b2a405b718a8c5efba2c093b2c0",
         "pt-br",
         "2018-01-07T03:47:15.554Z",
         true,
         "PAULA",
         "62",
         "347597883",
         389,
         5,
         41.16,
         "recorrente",
         "medio"
        ],
        [
         "7c2c4d1fe3ce743583c15365efb8ee4ab90d92b5768ffa18b6bc659f3f86c953",
         "pt-br",
         "2018-03-18T20:57:06.301Z",
         true,
         "REBECCA",
         "32",
         "454530554",
         319,
         4,
         36.43,
         "recorrente",
         "medio"
        ],
        [
         "8e7c1dcb64edf95c935147f6d560cb068c44714cb1b21b287f1f433ae7b0b04e",
         "pt-br",
         "2018-01-10T22:17:08.160Z",
         true,
         "HELTON",
         "13",
         "719366842",
         386,
         3,
         34.22,
         "recorrente",
         "medio"
        ],
        [
         "7823d4cf4150c5daeae0bd799206852fc123bdef0cf5d1639c8cb568d73e8c83",
         "pt-br",
         "2018-04-06T00:16:20.935Z",
         true,
         "WENDER",
         "76",
         "543232158",
         300,
         12,
         27.44,
         "fiel",
         "baixo"
        ],
        [
         "77e6a36569f6c8f357a661ef59b7854c1701e538ceb5a3a7821dd44797944e0c",
         "pt-br",
         "2018-01-27T20:00:11.176Z",
         true,
         "MICHELLE",
         "90",
         "806008944",
         369,
         11,
         53.36,
         "fiel",
         "medio"
        ],
        [
         "d5de3aa126ae18fd98c65fd544548cc926b36caeb8309a213631d86901bd6074",
         "pt-br",
         "2018-01-08T22:19:15.852Z",
         true,
         "KELLY",
         "72",
         "47158438",
         388,
         4,
         19.69,
         "recorrente",
         "baixo"
        ],
        [
         "e8cc60860e09c0bb19610b06ced69c973eb83982cfc98e397ce65cba92f70928",
         "pt-br",
         "2018-04-05T14:49:18.165Z",
         true,
         "NUNO",
         "46",
         "816135924",
         301,
         14,
         36.71,
         "fiel",
         "medio"
        ]
       ],
       "datasetInfos": [],
       "dbfsResultPath": null,
       "isJsonSchema": true,
       "metadata": {},
       "overflow": false,
       "plotOptions": {
        "customPlotOptions": {},
        "displayType": "table",
        "pivotAggregation": null,
        "pivotColumns": null,
        "xColumns": null,
        "yColumns": null
       },
       "removedWidgets": [],
       "schema": [
        {
         "metadata": "{}",
         "name": "customer_id",
         "type": "\"string\""
        },
        {
         "metadata": "{}",
         "name": "language",
         "type": "\"string\""
        },
        {
         "metadata": "{}",
         "name": "created_at",
         "type": "\"timestamp\""
        },
        {
         "metadata": "{}",
         "name": "active",
         "type": "\"boolean\""
        },
        {
         "metadata": "{}",
         "name": "customer_name",
         "type": "\"string\""
        },
        {
         "metadata": "{}",
         "name": "customer_phone_area",
         "type": "\"string\""
        },
        {
         "metadata": "{}",
         "name": "customer_phone_number",
         "type": "\"string\""
        },
        {
         "metadata": "{}",
         "name": "dias_desde_criacao",
         "type": "\"integer\""
        },
        {
         "metadata": "{}",
         "name": "num_pedidos",
         "type": "\"long\""
        },
        {
         "metadata": "{}",
         "name": "ticket_medio",
         "type": "\"double\""
        },
        {
         "metadata": "{}",
         "name": "segmento_frequencia",
         "type": "\"string\""
        },
        {
         "metadata": "{}",
         "name": "segmento_ticket",
         "type": "\"string\""
        }
       ],
       "type": "table"
      }
     },
     "output_type": "display_data"
    }
   ],
   "source": [
    "# criar segmento por ticket\n",
    "df_segmento_user = df_segmento_user.withColumn(\n",
    "    \"segmento_ticket\",\n",
    "    when(col(\"ticket_medio\") <= 30, \"baixo\")\n",
    "    .when((col(\"ticket_medio\") > 30) & (col(\"ticket_medio\") <= 80), \"medio\")\n",
    "    .otherwise(\"alto\")\n",
    ")\n",
    "display(df_segmento_user.limit(10))"
   ]
  },
  {
   "cell_type": "code",
   "execution_count": 0,
   "metadata": {
    "application/vnd.databricks.v1+cell": {
     "cellMetadata": {
      "byteLimit": 2048000,
      "rowLimit": 10000
     },
     "inputWidgets": {},
     "nuid": "55d462b2-6a75-431e-9203-f2392089aa06",
     "showTitle": false,
     "tableResultSettingsMap": {},
     "title": ""
    }
   },
   "outputs": [
    {
     "output_type": "display_data",
     "data": {
      "text/html": [
       "<style scoped>\n",
       "  .table-result-container {\n",
       "    max-height: 300px;\n",
       "    overflow: auto;\n",
       "  }\n",
       "  table, th, td {\n",
       "    border: 1px solid black;\n",
       "    border-collapse: collapse;\n",
       "  }\n",
       "  th, td {\n",
       "    padding: 5px;\n",
       "  }\n",
       "  th {\n",
       "    text-align: left;\n",
       "  }\n",
       "</style><div class='table-result-container'><table class='table-result'><thead style='background-color: white'><tr><th>customer_id</th><th>language</th><th>created_at</th><th>active</th><th>customer_name</th><th>customer_phone_area</th><th>customer_phone_number</th><th>dias_desde_criacao</th><th>num_pedidos</th><th>ticket_medio</th><th>segmento_frequencia</th><th>segmento_ticket</th><th>segmento_tempo_conta</th></tr></thead><tbody><tr><td>a2834a38a9876cf74e016524dd2e8c1f010ee12b2b684d58c40ab11eef19b6eb</td><td>pt-br</td><td>2018-01-14T21:40:02.141Z</td><td>true</td><td>ADRIELLY</td><td>59</td><td>231330577</td><td>382</td><td>16</td><td>46.61</td><td>fiel</td><td>medio</td><td>antigo</td></tr><tr><td>fc3b69d0454f1ec8c1d196f0d4e9a7cc1409dbc87339a89c0725ec9c054a4765</td><td>pt-br</td><td>2018-01-04T02:01:17.478Z</td><td>true</td><td>ANA</td><td>91</td><td>533597575</td><td>392</td><td>1</td><td>40.5</td><td>1pedido</td><td>medio</td><td>antigo</td></tr><tr><td>0ce03c2b567f34f421372f0a8b70c6bfd04308d134d52b4436682b304f6d7dd8</td><td>pt-br</td><td>2018-01-04T14:12:16.843Z</td><td>true</td><td>MARLOS</td><td>18</td><td>724199206</td><td>392</td><td>2</td><td>38.48</td><td>recorrente</td><td>medio</td><td>antigo</td></tr><tr><td>41e1051728eba13341136d67d0757f8d8cc44b2a405b718a8c5efba2c093b2c0</td><td>pt-br</td><td>2018-01-07T03:47:15.554Z</td><td>true</td><td>PAULA</td><td>62</td><td>347597883</td><td>389</td><td>5</td><td>41.16</td><td>recorrente</td><td>medio</td><td>antigo</td></tr><tr><td>7c2c4d1fe3ce743583c15365efb8ee4ab90d92b5768ffa18b6bc659f3f86c953</td><td>pt-br</td><td>2018-03-18T20:57:06.301Z</td><td>true</td><td>REBECCA</td><td>32</td><td>454530554</td><td>319</td><td>4</td><td>36.43</td><td>recorrente</td><td>medio</td><td>antigo</td></tr><tr><td>8e7c1dcb64edf95c935147f6d560cb068c44714cb1b21b287f1f433ae7b0b04e</td><td>pt-br</td><td>2018-01-10T22:17:08.160Z</td><td>true</td><td>HELTON</td><td>13</td><td>719366842</td><td>386</td><td>3</td><td>34.22</td><td>recorrente</td><td>medio</td><td>antigo</td></tr><tr><td>7823d4cf4150c5daeae0bd799206852fc123bdef0cf5d1639c8cb568d73e8c83</td><td>pt-br</td><td>2018-04-06T00:16:20.935Z</td><td>true</td><td>WENDER</td><td>76</td><td>543232158</td><td>300</td><td>12</td><td>27.44</td><td>fiel</td><td>baixo</td><td>antigo</td></tr><tr><td>77e6a36569f6c8f357a661ef59b7854c1701e538ceb5a3a7821dd44797944e0c</td><td>pt-br</td><td>2018-01-27T20:00:11.176Z</td><td>true</td><td>MICHELLE</td><td>90</td><td>806008944</td><td>369</td><td>11</td><td>53.36</td><td>fiel</td><td>medio</td><td>antigo</td></tr><tr><td>d5de3aa126ae18fd98c65fd544548cc926b36caeb8309a213631d86901bd6074</td><td>pt-br</td><td>2018-01-08T22:19:15.852Z</td><td>true</td><td>KELLY</td><td>72</td><td>47158438</td><td>388</td><td>4</td><td>19.69</td><td>recorrente</td><td>baixo</td><td>antigo</td></tr><tr><td>e8cc60860e09c0bb19610b06ced69c973eb83982cfc98e397ce65cba92f70928</td><td>pt-br</td><td>2018-04-05T14:49:18.165Z</td><td>true</td><td>NUNO</td><td>46</td><td>816135924</td><td>301</td><td>14</td><td>36.71</td><td>fiel</td><td>medio</td><td>antigo</td></tr></tbody></table></div>"
      ]
     },
     "metadata": {
      "application/vnd.databricks.v1+output": {
       "addedWidgets": {},
       "aggData": [],
       "aggError": "",
       "aggOverflow": false,
       "aggSchema": [],
       "aggSeriesLimitReached": false,
       "aggType": "",
       "arguments": {},
       "columnCustomDisplayInfos": {},
       "data": [
        [
         "a2834a38a9876cf74e016524dd2e8c1f010ee12b2b684d58c40ab11eef19b6eb",
         "pt-br",
         "2018-01-14T21:40:02.141Z",
         true,
         "ADRIELLY",
         "59",
         "231330577",
         382,
         16,
         46.61,
         "fiel",
         "medio",
         "antigo"
        ],
        [
         "fc3b69d0454f1ec8c1d196f0d4e9a7cc1409dbc87339a89c0725ec9c054a4765",
         "pt-br",
         "2018-01-04T02:01:17.478Z",
         true,
         "ANA",
         "91",
         "533597575",
         392,
         1,
         40.5,
         "1pedido",
         "medio",
         "antigo"
        ],
        [
         "0ce03c2b567f34f421372f0a8b70c6bfd04308d134d52b4436682b304f6d7dd8",
         "pt-br",
         "2018-01-04T14:12:16.843Z",
         true,
         "MARLOS",
         "18",
         "724199206",
         392,
         2,
         38.48,
         "recorrente",
         "medio",
         "antigo"
        ],
        [
         "41e1051728eba13341136d67d0757f8d8cc44b2a405b718a8c5efba2c093b2c0",
         "pt-br",
         "2018-01-07T03:47:15.554Z",
         true,
         "PAULA",
         "62",
         "347597883",
         389,
         5,
         41.16,
         "recorrente",
         "medio",
         "antigo"
        ],
        [
         "7c2c4d1fe3ce743583c15365efb8ee4ab90d92b5768ffa18b6bc659f3f86c953",
         "pt-br",
         "2018-03-18T20:57:06.301Z",
         true,
         "REBECCA",
         "32",
         "454530554",
         319,
         4,
         36.43,
         "recorrente",
         "medio",
         "antigo"
        ],
        [
         "8e7c1dcb64edf95c935147f6d560cb068c44714cb1b21b287f1f433ae7b0b04e",
         "pt-br",
         "2018-01-10T22:17:08.160Z",
         true,
         "HELTON",
         "13",
         "719366842",
         386,
         3,
         34.22,
         "recorrente",
         "medio",
         "antigo"
        ],
        [
         "7823d4cf4150c5daeae0bd799206852fc123bdef0cf5d1639c8cb568d73e8c83",
         "pt-br",
         "2018-04-06T00:16:20.935Z",
         true,
         "WENDER",
         "76",
         "543232158",
         300,
         12,
         27.44,
         "fiel",
         "baixo",
         "antigo"
        ],
        [
         "77e6a36569f6c8f357a661ef59b7854c1701e538ceb5a3a7821dd44797944e0c",
         "pt-br",
         "2018-01-27T20:00:11.176Z",
         true,
         "MICHELLE",
         "90",
         "806008944",
         369,
         11,
         53.36,
         "fiel",
         "medio",
         "antigo"
        ],
        [
         "d5de3aa126ae18fd98c65fd544548cc926b36caeb8309a213631d86901bd6074",
         "pt-br",
         "2018-01-08T22:19:15.852Z",
         true,
         "KELLY",
         "72",
         "47158438",
         388,
         4,
         19.69,
         "recorrente",
         "baixo",
         "antigo"
        ],
        [
         "e8cc60860e09c0bb19610b06ced69c973eb83982cfc98e397ce65cba92f70928",
         "pt-br",
         "2018-04-05T14:49:18.165Z",
         true,
         "NUNO",
         "46",
         "816135924",
         301,
         14,
         36.71,
         "fiel",
         "medio",
         "antigo"
        ]
       ],
       "datasetInfos": [],
       "dbfsResultPath": null,
       "isJsonSchema": true,
       "metadata": {},
       "overflow": false,
       "plotOptions": {
        "customPlotOptions": {},
        "displayType": "table",
        "pivotAggregation": null,
        "pivotColumns": null,
        "xColumns": null,
        "yColumns": null
       },
       "removedWidgets": [],
       "schema": [
        {
         "metadata": "{}",
         "name": "customer_id",
         "type": "\"string\""
        },
        {
         "metadata": "{}",
         "name": "language",
         "type": "\"string\""
        },
        {
         "metadata": "{}",
         "name": "created_at",
         "type": "\"timestamp\""
        },
        {
         "metadata": "{}",
         "name": "active",
         "type": "\"boolean\""
        },
        {
         "metadata": "{}",
         "name": "customer_name",
         "type": "\"string\""
        },
        {
         "metadata": "{}",
         "name": "customer_phone_area",
         "type": "\"string\""
        },
        {
         "metadata": "{}",
         "name": "customer_phone_number",
         "type": "\"string\""
        },
        {
         "metadata": "{}",
         "name": "dias_desde_criacao",
         "type": "\"integer\""
        },
        {
         "metadata": "{}",
         "name": "num_pedidos",
         "type": "\"long\""
        },
        {
         "metadata": "{}",
         "name": "ticket_medio",
         "type": "\"double\""
        },
        {
         "metadata": "{}",
         "name": "segmento_frequencia",
         "type": "\"string\""
        },
        {
         "metadata": "{}",
         "name": "segmento_ticket",
         "type": "\"string\""
        },
        {
         "metadata": "{}",
         "name": "segmento_tempo_conta",
         "type": "\"string\""
        }
       ],
       "type": "table"
      }
     },
     "output_type": "display_data"
    }
   ],
   "source": [
    "# criar segmento por tempo de conta\n",
    "df_segmento_user = df_segmento_user.withColumn(\n",
    "    \"segmento_tempo_conta\",\n",
    "    when(col(\"dias_desde_criacao\") <= 45, \"novo\")\n",
    "    .when((col(\"dias_desde_criacao\") > 45) & (col(\"dias_desde_criacao\") <= 90), \"medio\")\n",
    "    .otherwise(\"antigo\")\n",
    ")\n",
    "display(df_segmento_user.limit(10))"
   ]
  },
  {
   "cell_type": "code",
   "execution_count": 0,
   "metadata": {
    "application/vnd.databricks.v1+cell": {
     "cellMetadata": {
      "byteLimit": 2048000,
      "rowLimit": 10000
     },
     "inputWidgets": {},
     "nuid": "9c94df2b-f28d-498b-93c8-4f449e7c1429",
     "showTitle": false,
     "tableResultSettingsMap": {},
     "title": ""
    }
   },
   "outputs": [
    {
     "output_type": "display_data",
     "data": {
      "image/png": "[encoded data removed]",
      "text/plain": [
       "<Figure size 1800x500 with 3 Axes>"
      ]
     },
     "metadata": {},
     "output_type": "display_data"
    }
   ],
   "source": [
    "#verificar como ficou a segmentação\n",
    "\n",
    "# Selecionar as colunas desejadas\n",
    "df_plot = df_segmento_user.select(\"segmento_frequencia\", \"segmento_ticket\", \"segmento_tempo_conta\")\n",
    "\n",
    "# Coletar para Pandas\n",
    "df_pandas = df_plot.toPandas()\n",
    "\n",
    "\n",
    "# Configurações gerais\n",
    "plt.figure(figsize=(18, 5))\n",
    "plt.suptitle(\"Distribuição de Usuários por Segmento\", fontsize=16)\n",
    "\n",
    "# Gráfico 1: Frequência\n",
    "plt.subplot(1, 3, 1)\n",
    "sns.countplot(data=df_pandas, x=\"segmento_frequencia\", order=sorted(df_pandas[\"segmento_frequencia\"].unique()))\n",
    "plt.title(\"Segmento por Frequência de Pedidos\")\n",
    "plt.xlabel(\"Segmento Frequência\")\n",
    "plt.ylabel(\"Quantidade de Usuários\")\n",
    "plt.xticks(rotation=45)\n",
    "\n",
    "# Gráfico 2: Ticket Médio\n",
    "plt.subplot(1, 3, 2)\n",
    "sns.countplot(data=df_pandas, x=\"segmento_ticket\", order=sorted(df_pandas[\"segmento_ticket\"].unique()))\n",
    "plt.title(\"Segmento por Ticket Médio\")\n",
    "plt.xlabel(\"Segmento Ticket\")\n",
    "plt.ylabel(\"Quantidade de Usuários\")\n",
    "plt.xticks(rotation=45)\n",
    "\n",
    "# Gráfico 3: Tempo de Conta\n",
    "plt.subplot(1, 3, 3)\n",
    "sns.countplot(data=df_pandas, x=\"segmento_tempo_conta\", order=sorted(df_pandas[\"segmento_tempo_conta\"].unique()))\n",
    "plt.title(\"Segmento por Tempo de Conta\")\n",
    "plt.xlabel(\"Segmento Tempo de Conta\")\n",
    "plt.ylabel(\"Quantidade de Usuários\")\n",
    "plt.xticks(rotation=45)\n",
    "\n",
    "# Ajuste do layout\n",
    "plt.tight_layout(rect=[0, 0, 1, 0.95])\n",
    "plt.show()"
   ]
  },
  {
   "cell_type": "markdown",
   "metadata": {
    "application/vnd.databricks.v1+cell": {
     "cellMetadata": {
      "byteLimit": 2048000,
      "rowLimit": 10000
     },
     "inputWidgets": {},
     "nuid": "94ce4a24-b2f7-4b92-b033-8f4af900601c",
     "showTitle": false,
     "tableResultSettingsMap": {},
     "title": ""
    }
   },
   "source": [
    "segmento por tempo de conta não faz sentido sera removido"
   ]
  },
  {
   "cell_type": "code",
   "execution_count": 0,
   "metadata": {
    "application/vnd.databricks.v1+cell": {
     "cellMetadata": {
      "byteLimit": 2048000,
      "rowLimit": 10000
     },
     "inputWidgets": {},
     "nuid": "064ef805-ccc5-431e-a08e-8149c602a237",
     "showTitle": false,
     "tableResultSettingsMap": {},
     "title": ""
    }
   },
   "outputs": [],
   "source": [
    "#remover segmento por tempo de conta\n",
    "df_segmento_user = df_segmento_user.drop(df_segmento_user.segmento_tempo_conta)"
   ]
  },
  {
   "cell_type": "code",
   "execution_count": 0,
   "metadata": {
    "application/vnd.databricks.v1+cell": {
     "cellMetadata": {
      "byteLimit": 2048000,
      "rowLimit": 10000
     },
     "inputWidgets": {},
     "nuid": "dd026c74-35e2-4507-b02f-310e2824ca05",
     "showTitle": false,
     "tableResultSettingsMap": {},
     "title": ""
    }
   },
   "outputs": [
    {
     "output_type": "stream",
     "name": "stdout",
     "output_type": "stream",
     "text": [
      "+-----+---+\n|SG_UF|DDD|\n+-----+---+\n|   RO| 69|\n+-----+---+\n\n"
     ]
    }
   ],
   "source": [
    "#df com os DDDs e seus respectivos estados\n",
    "df_estado  = spark.read.format(\"delta\").load(base_path+\"estado\")\n",
    "df_estado.limit(1).show()"
   ]
  },
  {
   "cell_type": "code",
   "execution_count": 0,
   "metadata": {
    "application/vnd.databricks.v1+cell": {
     "cellMetadata": {
      "byteLimit": 2048000,
      "rowLimit": 10000
     },
     "inputWidgets": {},
     "nuid": "e3b4adc1-482b-4dca-8d3b-aa6e329f7645",
     "showTitle": false,
     "tableResultSettingsMap": {},
     "title": ""
    }
   },
   "outputs": [
    {
     "output_type": "display_data",
     "data": {
      "text/html": [
       "<style scoped>\n",
       "  .table-result-container {\n",
       "    max-height: 300px;\n",
       "    overflow: auto;\n",
       "  }\n",
       "  table, th, td {\n",
       "    border: 1px solid black;\n",
       "    border-collapse: collapse;\n",
       "  }\n",
       "  th, td {\n",
       "    padding: 5px;\n",
       "  }\n",
       "  th {\n",
       "    text-align: left;\n",
       "  }\n",
       "</style><div class='table-result-container'><table class='table-result'><thead style='background-color: white'><tr><th>customer_id</th><th>language</th><th>created_at</th><th>active</th><th>customer_name</th><th>customer_phone_area</th><th>customer_phone_number</th><th>dias_desde_criacao</th><th>num_pedidos</th><th>ticket_medio</th><th>segmento_frequencia</th><th>segmento_ticket</th><th>SG_UF</th></tr></thead><tbody><tr><td>aa4a7ef1e1b6dc399fe202001dfc781896975da6cc38872af9b54ae3d2f3e371</td><td>pt-br</td><td>2018-01-02T22:01:27.965Z</td><td>true</td><td>MARÍLIA</td><td>98</td><td>263641038</td><td>394</td><td>6</td><td>27.95</td><td>fiel</td><td>baixo</td><td>MA</td></tr><tr><td>c50bc8fa0a6e2aff66ed6334fbed10d560405e7541f55de3e3710b057ae86c93</td><td>pt-br</td><td>2018-04-06T00:39:11.036Z</td><td>true</td><td>PATRICIA</td><td>89</td><td>654154722</td><td>300</td><td>10</td><td>40.22</td><td>fiel</td><td>medio</td><td>PI</td></tr><tr><td>8289e89843986066ea5350dbcba571c1674db6773a932ecb0e66311fcbb3c978</td><td>pt-br</td><td>2018-01-03T14:40:07.232Z</td><td>true</td><td>PATRICIA</td><td>87</td><td>997499072</td><td>393</td><td>82</td><td>49.41</td><td>fiel</td><td>medio</td><td>PE</td></tr><tr><td>5ac6460d50b52358e54674f13ced0e4c92c7157650a47f153458e064d35397f7</td><td>pt-br</td><td>2018-04-05T18:03:12.032Z</td><td>true</td><td>NADIA</td><td>93</td><td>503411630</td><td>301</td><td>7</td><td>49.14</td><td>fiel</td><td>medio</td><td>PA</td></tr><tr><td>cf9f2ff9f7a0d44ccb401687160b278aa9fa487cdbf0b181d3c78a39ecaec710</td><td>pt-br</td><td>2018-02-14T22:53:24.947Z</td><td>true</td><td>RITA</td><td>65</td><td>650942741</td><td>351</td><td>1</td><td>62.0</td><td>1pedido</td><td>medio</td><td>MT</td></tr><tr><td>d389552c579735587b6bf3bdbe8ef0896846a41f5f754cbe3613d8a2755689b3</td><td>pt-br</td><td>2018-01-03T14:53:20.782Z</td><td>true</td><td>ETIENE</td><td>51</td><td>474670553</td><td>393</td><td>7</td><td>19.03</td><td>fiel</td><td>baixo</td><td>RS</td></tr><tr><td>eabd6a6f6aa7a58dc2f6612fb060aa4d050a926fa3d60803727f8f30a7350342</td><td>pt-br</td><td>2018-01-02T22:03:53.925Z</td><td>true</td><td>Fernanda</td><td>35</td><td>616862421</td><td>394</td><td>33</td><td>94.85</td><td>fiel</td><td>alto</td><td>MG</td></tr><tr><td>e1ae7dc0c3f9ed4045d8a5c5b1a07125f96037e184a07e2303da0cc782e7fa12</td><td>pt-br</td><td>2018-01-07T16:10:28.458Z</td><td>true</td><td>MATEUS</td><td>75</td><td>250017973</td><td>389</td><td>34</td><td>44.18</td><td>fiel</td><td>medio</td><td>BA</td></tr><tr><td>4bb1bb86acdcf9e8b6ef4b76b6cf4a470cd5162885a56cb053a0bbbf85c4fe36</td><td>pt-br</td><td>2018-02-01T00:27:37.685Z</td><td>true</td><td>FILIPE</td><td>99</td><td>499831827</td><td>364</td><td>6</td><td>66.0</td><td>fiel</td><td>medio</td><td>MA</td></tr><tr><td>30f8b1f987be2613cdfc0b4634dd9ae9b2fc1aa3072c48583d2b9f5f41e86816</td><td>pt-br</td><td>2018-04-06T03:16:01.368Z</td><td>true</td><td>JESSY</td><td>64</td><td>780959097</td><td>300</td><td>7</td><td>20.1</td><td>fiel</td><td>baixo</td><td>GO</td></tr></tbody></table></div>"
      ]
     },
     "metadata": {
      "application/vnd.databricks.v1+output": {
       "addedWidgets": {},
       "aggData": [],
       "aggError": "",
       "aggOverflow": false,
       "aggSchema": [],
       "aggSeriesLimitReached": false,
       "aggType": "",
       "arguments": {},
       "columnCustomDisplayInfos": {},
       "data": [
        [
         "aa4a7ef1e1b6dc399fe202001dfc781896975da6cc38872af9b54ae3d2f3e371",
         "pt-br",
         "2018-01-02T22:01:27.965Z",
         true,
         "MARÍLIA",
         "98",
         "263641038",
         394,
         6,
         27.95,
         "fiel",
         "baixo",
         "MA"
        ],
        [
         "c50bc8fa0a6e2aff66ed6334fbed10d560405e7541f55de3e3710b057ae86c93",
         "pt-br",
         "2018-04-06T00:39:11.036Z",
         true,
         "PATRICIA",
         "89",
         "654154722",
         300,
         10,
         40.22,
         "fiel",
         "medio",
         "PI"
        ],
        [
         "8289e89843986066ea5350dbcba571c1674db6773a932ecb0e66311fcbb3c978",
         "pt-br",
         "2018-01-03T14:40:07.232Z",
         true,
         "PATRICIA",
         "87",
         "997499072",
         393,
         82,
         49.41,
         "fiel",
         "medio",
         "PE"
        ],
        [
         "5ac6460d50b52358e54674f13ced0e4c92c7157650a47f153458e064d35397f7",
         "pt-br",
         "2018-04-05T18:03:12.032Z",
         true,
         "NADIA",
         "93",
         "503411630",
         301,
         7,
         49.14,
         "fiel",
         "medio",
         "PA"
        ],
        [
         "cf9f2ff9f7a0d44ccb401687160b278aa9fa487cdbf0b181d3c78a39ecaec710",
         "pt-br",
         "2018-02-14T22:53:24.947Z",
         true,
         "RITA",
         "65",
         "650942741",
         351,
         1,
         62.0,
         "1pedido",
         "medio",
         "MT"
        ],
        [
         "d389552c579735587b6bf3bdbe8ef0896846a41f5f754cbe3613d8a2755689b3",
         "pt-br",
         "2018-01-03T14:53:20.782Z",
         true,
         "ETIENE",
         "51",
         "474670553",
         393,
         7,
         19.03,
         "fiel",
         "baixo",
         "RS"
        ],
        [
         "eabd6a6f6aa7a58dc2f6612fb060aa4d050a926fa3d60803727f8f30a7350342",
         "pt-br",
         "2018-01-02T22:03:53.925Z",
         true,
         "Fernanda",
         "35",
         "616862421",
         394,
         33,
         94.85,
         "fiel",
         "alto",
         "MG"
        ],
        [
         "e1ae7dc0c3f9ed4045d8a5c5b1a07125f96037e184a07e2303da0cc782e7fa12",
         "pt-br",
         "2018-01-07T16:10:28.458Z",
         true,
         "MATEUS",
         "75",
         "250017973",
         389,
         34,
         44.18,
         "fiel",
         "medio",
         "BA"
        ],
        [
         "4bb1bb86acdcf9e8b6ef4b76b6cf4a470cd5162885a56cb053a0bbbf85c4fe36",
         "pt-br",
         "2018-02-01T00:27:37.685Z",
         true,
         "FILIPE",
         "99",
         "499831827",
         364,
         6,
         66.0,
         "fiel",
         "medio",
         "MA"
        ],
        [
         "30f8b1f987be2613cdfc0b4634dd9ae9b2fc1aa3072c48583d2b9f5f41e86816",
         "pt-br",
         "2018-04-06T03:16:01.368Z",
         true,
         "JESSY",
         "64",
         "780959097",
         300,
         7,
         20.1,
         "fiel",
         "baixo",
         "GO"
        ]
       ],
       "datasetInfos": [],
       "dbfsResultPath": null,
       "isJsonSchema": true,
       "metadata": {},
       "overflow": false,
       "plotOptions": {
        "customPlotOptions": {},
        "displayType": "table",
        "pivotAggregation": null,
        "pivotColumns": null,
        "xColumns": null,
        "yColumns": null
       },
       "removedWidgets": [],
       "schema": [
        {
         "metadata": "{}",
         "name": "customer_id",
         "type": "\"string\""
        },
        {
         "metadata": "{}",
         "name": "language",
         "type": "\"string\""
        },
        {
         "metadata": "{}",
         "name": "created_at",
         "type": "\"timestamp\""
        },
        {
         "metadata": "{}",
         "name": "active",
         "type": "\"boolean\""
        },
        {
         "metadata": "{}",
         "name": "customer_name",
         "type": "\"string\""
        },
        {
         "metadata": "{}",
         "name": "customer_phone_area",
         "type": "\"string\""
        },
        {
         "metadata": "{}",
         "name": "customer_phone_number",
         "type": "\"string\""
        },
        {
         "metadata": "{}",
         "name": "dias_desde_criacao",
         "type": "\"integer\""
        },
        {
         "metadata": "{}",
         "name": "num_pedidos",
         "type": "\"long\""
        },
        {
         "metadata": "{}",
         "name": "ticket_medio",
         "type": "\"double\""
        },
        {
         "metadata": "{}",
         "name": "segmento_frequencia",
         "type": "\"string\""
        },
        {
         "metadata": "{}",
         "name": "segmento_ticket",
         "type": "\"string\""
        },
        {
         "metadata": "{}",
         "name": "SG_UF",
         "type": "\"string\""
        }
       ],
       "type": "table"
      }
     },
     "output_type": "display_data"
    }
   ],
   "source": [
    "#inner entre base segmento e estados\n",
    "df_users_segmented_uf = df_segmento_user.join(\n",
    "    df_estado,\n",
    "    df_segmento_user.customer_phone_area == df_estado.DDD,\n",
    "    how=\"inner\"\n",
    ")\n",
    "df_users_segmented_uf = df_users_segmented_uf.drop(df_estado.DDD)\n",
    "\n",
    "display(df_users_segmented_uf.limit(10))"
   ]
  },
  {
   "cell_type": "code",
   "execution_count": 0,
   "metadata": {
    "application/vnd.databricks.v1+cell": {
     "cellMetadata": {
      "byteLimit": 2048000,
      "rowLimit": 10000
     },
     "inputWidgets": {},
     "nuid": "1dad917a-0e62-4fbd-aa5e-5c2dc0d68b27",
     "showTitle": false,
     "tableResultSettingsMap": {},
     "title": ""
    }
   },
   "outputs": [],
   "source": [
    "#preparação para graffico\n",
    "df_uf_counts = df_users_segmented_uf.groupBy(\"SG_UF\").count()\n",
    "df_uf_counts_pd = df_uf_counts.toPandas().sort_values(\"count\", ascending=False)"
   ]
  },
  {
   "cell_type": "code",
   "execution_count": 0,
   "metadata": {
    "application/vnd.databricks.v1+cell": {
     "cellMetadata": {
      "byteLimit": 2048000,
      "rowLimit": 10000
     },
     "inputWidgets": {},
     "nuid": "0baa5954-a2ab-4ac4-aa5a-e591a7c400b0",
     "showTitle": false,
     "tableResultSettingsMap": {},
     "title": ""
    }
   },
   "outputs": [
    {
     "output_type": "display_data",
     "data": {
      "image/png": "[encoded data removed]",
      "text/plain": [
       "<Figure size 1200x600 with 1 Axes>"
      ]
     },
     "metadata": {},
     "output_type": "display_data"
    }
   ],
   "source": [
    "#grafico qtde de usuarios por estado\n",
    "plt.figure(figsize=(12, 6))\n",
    "sns.barplot(data=df_uf_counts_pd, x=\"SG_UF\", y=\"count\", palette=\"Blues_d\")\n",
    "\n",
    "plt.title(\"Quantidade de Usuários por Estado\")\n",
    "plt.xlabel(\"Estado (UF)\")\n",
    "plt.ylabel(\"Quantidade de Usuários\")\n",
    "plt.xticks(rotation=45)\n",
    "plt.tight_layout()\n",
    "plt.show()"
   ]
  },
  {
   "cell_type": "code",
   "execution_count": 0,
   "metadata": {
    "application/vnd.databricks.v1+cell": {
     "cellMetadata": {
      "byteLimit": 2048000,
      "rowLimit": 10000
     },
     "inputWidgets": {},
     "nuid": "4b0fb397-8133-49c2-91f3-5bcac4e92e99",
     "showTitle": false,
     "tableResultSettingsMap": {},
     "title": ""
    }
   },
   "outputs": [
    {
     "output_type": "display_data",
     "data": {
      "text/html": [
       "<style scoped>\n",
       "  .table-result-container {\n",
       "    max-height: 300px;\n",
       "    overflow: auto;\n",
       "  }\n",
       "  table, th, td {\n",
       "    border: 1px solid black;\n",
       "    border-collapse: collapse;\n",
       "  }\n",
       "  th, td {\n",
       "    padding: 5px;\n",
       "  }\n",
       "  th {\n",
       "    text-align: left;\n",
       "  }\n",
       "</style><div class='table-result-container'><table class='table-result'><thead style='background-color: white'><tr><th>customer_id</th><th>language</th><th>created_at</th><th>active</th><th>customer_name</th><th>customer_phone_area</th><th>customer_phone_number</th><th>dias_desde_criacao</th><th>num_pedidos</th><th>ticket_medio</th><th>segmento_frequencia</th><th>segmento_ticket</th><th>SG_UF</th><th>is_target</th><th>retido</th></tr></thead><tbody><tr><td>aa4a7ef1e1b6dc399fe202001dfc781896975da6cc38872af9b54ae3d2f3e371</td><td>pt-br</td><td>2018-01-02T22:01:27.965Z</td><td>true</td><td>MARÍLIA</td><td>98</td><td>263641038</td><td>394</td><td>6</td><td>27.95</td><td>fiel</td><td>baixo</td><td>MA</td><td>target</td><td>1</td></tr><tr><td>c50bc8fa0a6e2aff66ed6334fbed10d560405e7541f55de3e3710b057ae86c93</td><td>pt-br</td><td>2018-04-06T00:39:11.036Z</td><td>true</td><td>PATRICIA</td><td>89</td><td>654154722</td><td>300</td><td>10</td><td>40.22</td><td>fiel</td><td>medio</td><td>PI</td><td>target</td><td>1</td></tr><tr><td>8289e89843986066ea5350dbcba571c1674db6773a932ecb0e66311fcbb3c978</td><td>pt-br</td><td>2018-01-03T14:40:07.232Z</td><td>true</td><td>PATRICIA</td><td>87</td><td>997499072</td><td>393</td><td>82</td><td>49.41</td><td>fiel</td><td>medio</td><td>PE</td><td>target</td><td>1</td></tr><tr><td>5ac6460d50b52358e54674f13ced0e4c92c7157650a47f153458e064d35397f7</td><td>pt-br</td><td>2018-04-05T18:03:12.032Z</td><td>true</td><td>NADIA</td><td>93</td><td>503411630</td><td>301</td><td>7</td><td>49.14</td><td>fiel</td><td>medio</td><td>PA</td><td>target</td><td>1</td></tr><tr><td>cf9f2ff9f7a0d44ccb401687160b278aa9fa487cdbf0b181d3c78a39ecaec710</td><td>pt-br</td><td>2018-02-14T22:53:24.947Z</td><td>true</td><td>RITA</td><td>65</td><td>650942741</td><td>351</td><td>1</td><td>62.0</td><td>1pedido</td><td>medio</td><td>MT</td><td>control</td><td>0</td></tr></tbody></table></div>"
      ]
     },
     "metadata": {
      "application/vnd.databricks.v1+output": {
       "addedWidgets": {},
       "aggData": [],
       "aggError": "",
       "aggOverflow": false,
       "aggSchema": [],
       "aggSeriesLimitReached": false,
       "aggType": "",
       "arguments": {},
       "columnCustomDisplayInfos": {},
       "data": [
        [
         "aa4a7ef1e1b6dc399fe202001dfc781896975da6cc38872af9b54ae3d2f3e371",
         "pt-br",
         "2018-01-02T22:01:27.965Z",
         true,
         "MARÍLIA",
         "98",
         "263641038",
         394,
         6,
         27.95,
         "fiel",
         "baixo",
         "MA",
         "target",
         1
        ],
        [
         "c50bc8fa0a6e2aff66ed6334fbed10d560405e7541f55de3e3710b057ae86c93",
         "pt-br",
         "2018-04-06T00:39:11.036Z",
         true,
         "PATRICIA",
         "89",
         "654154722",
         300,
         10,
         40.22,
         "fiel",
         "medio",
         "PI",
         "target",
         1
        ],
        [
         "8289e89843986066ea5350dbcba571c1674db6773a932ecb0e66311fcbb3c978",
         "pt-br",
         "2018-01-03T14:40:07.232Z",
         true,
         "PATRICIA",
         "87",
         "997499072",
         393,
         82,
         49.41,
         "fiel",
         "medio",
         "PE",
         "target",
         1
        ],
        [
         "5ac6460d50b52358e54674f13ced0e4c92c7157650a47f153458e064d35397f7",
         "pt-br",
         "2018-04-05T18:03:12.032Z",
         true,
         "NADIA",
         "93",
         "503411630",
         301,
         7,
         49.14,
         "fiel",
         "medio",
         "PA",
         "target",
         1
        ],
        [
         "cf9f2ff9f7a0d44ccb401687160b278aa9fa487cdbf0b181d3c78a39ecaec710",
         "pt-br",
         "2018-02-14T22:53:24.947Z",
         true,
         "RITA",
         "65",
         "650942741",
         351,
         1,
         62.0,
         "1pedido",
         "medio",
         "MT",
         "control",
         0
        ]
       ],
       "datasetInfos": [],
       "dbfsResultPath": null,
       "isJsonSchema": true,
       "metadata": {},
       "overflow": false,
       "plotOptions": {
        "customPlotOptions": {},
        "displayType": "table",
        "pivotAggregation": null,
        "pivotColumns": null,
        "xColumns": null,
        "yColumns": null
       },
       "removedWidgets": [],
       "schema": [
        {
         "metadata": "{}",
         "name": "customer_id",
         "type": "\"string\""
        },
        {
         "metadata": "{}",
         "name": "language",
         "type": "\"string\""
        },
        {
         "metadata": "{}",
         "name": "created_at",
         "type": "\"timestamp\""
        },
        {
         "metadata": "{}",
         "name": "active",
         "type": "\"boolean\""
        },
        {
         "metadata": "{}",
         "name": "customer_name",
         "type": "\"string\""
        },
        {
         "metadata": "{}",
         "name": "customer_phone_area",
         "type": "\"string\""
        },
        {
         "metadata": "{}",
         "name": "customer_phone_number",
         "type": "\"string\""
        },
        {
         "metadata": "{}",
         "name": "dias_desde_criacao",
         "type": "\"integer\""
        },
        {
         "metadata": "{}",
         "name": "num_pedidos",
         "type": "\"long\""
        },
        {
         "metadata": "{}",
         "name": "ticket_medio",
         "type": "\"double\""
        },
        {
         "metadata": "{}",
         "name": "segmento_frequencia",
         "type": "\"string\""
        },
        {
         "metadata": "{}",
         "name": "segmento_ticket",
         "type": "\"string\""
        },
        {
         "metadata": "{}",
         "name": "SG_UF",
         "type": "\"string\""
        },
        {
         "metadata": "{}",
         "name": "is_target",
         "type": "\"string\""
        },
        {
         "metadata": "{}",
         "name": "retido",
         "type": "\"integer\""
        }
       ],
       "type": "table"
      }
     },
     "output_type": "display_data"
    }
   ],
   "source": [
    "#join para ter o dados do teste AB\n",
    "df_analise_segmento = df_users_segmented_uf.join(df_teste, on=\"customer_id\",how=\"inner\")\n",
    "# Adiciona a coluna binária \"retido\"\n",
    "df_analise_segmento = df_analise_segmento.withColumn(\"retido\", when(col(\"num_pedidos\") >= 2, 1).otherwise(0))\n",
    "\n",
    "display(df_analise_segmento.limit(5))"
   ]
  },
  {
   "cell_type": "code",
   "execution_count": 0,
   "metadata": {
    "application/vnd.databricks.v1+cell": {
     "cellMetadata": {
      "byteLimit": 2048000,
      "rowLimit": 10000
     },
     "inputWidgets": {},
     "nuid": "843978cf-4c42-44ee-add6-fd3c056552ec",
     "showTitle": false,
     "tableResultSettingsMap": {},
     "title": ""
    }
   },
   "outputs": [
    {
     "output_type": "stream",
     "name": "stdout",
     "output_type": "stream",
     "text": [
      "+---------+-------------------+--------+------------------+------------------+\n|is_target|segmento_frequencia|usuarios|     media_pedidos|      media_ticket|\n+---------+-------------------+--------+------------------+------------------+\n|  control|            1pedido|   65070|               1.0| 48.04184170892923|\n|   target|            1pedido|   64818|               1.0| 48.04817782097602|\n|  control|               fiel|   55039|11.712985337669652| 47.85568887516124|\n|   target|               fiel|   81873|11.757368118915881|  47.7877796098835|\n|  control|         recorrente|  135978|2.7323905337628145|47.634256203211805|\n|   target|         recorrente|  169479|2.8845933714501504| 47.74198036335087|\n+---------+-------------------+--------+------------------+------------------+\n\n+---------+---------------+--------+------------------+------------------+\n|is_target|segmento_ticket|usuarios|     media_pedidos|      media_ticket|\n+---------+---------------+--------+------------------+------------------+\n|  control|           alto|   25008|3.9010716570697377|117.42575295905304|\n|   target|           alto|   30468|  4.47551529473546|117.22459432847589|\n|  control|          baixo|   69767|3.6921467169292073| 22.51637751372363|\n|   target|          baixo|   84399| 4.218000213272669|22.660330335666938|\n|  control|          medio|  161312| 4.501450605038682|47.917944418272434|\n|   target|          medio|  201303| 5.086620666358673| 47.85855451731921|\n+---------+---------------+--------+------------------+------------------+\n\n+---------+-----+--------+------------------+------------------+\n|is_target|SG_UF|usuarios|     media_pedidos|      media_ticket|\n+---------+-----+--------+------------------+------------------+\n|  control|   AC|    3685| 4.302306648575305| 48.06823066485756|\n|   target|   AC|    4454|  4.63695554557701| 48.20119218679846|\n|  control|   AL|    3607| 3.995841419462157| 48.49880510119216|\n|   target|   AL|    4388| 4.725615314494075| 47.31357110300826|\n|  control|   AM|    7061| 4.202804135391587|48.433587310579355|\n|   target|   AM|    9014| 4.719214555136454| 47.72045595739973|\n|  control|   AP|    3630| 4.191460055096419| 47.32918181818185|\n|   target|   AP|    4437| 4.654496281271129|47.518985801217106|\n|  control|   BA|   18190|   4.2282572842221| 47.54690049477715|\n|   target|   BA|   22322|  4.76646357853239| 47.88925006719804|\n|  control|   CE|    7371|  4.15411748745082|48.766057522724296|\n|   target|   CE|    8824|4.8348821396192205| 47.98176677243891|\n|  control|   DF|    3732| 4.271168274383708| 48.15895498392287|\n|   target|   DF|    4491| 4.875528835448675| 48.33295479848591|\n|  control|   ES|    7036| 4.268618533257532| 47.08830159181365|\n|   target|   ES|    9031| 4.763370612335289| 47.95498837338069|\n|  control|   GO|   10956|4.2140379700620665| 47.73728915662665|\n|   target|   GO|   13604| 4.786974419288445| 47.95414363422518|\n|  control|   MA|    7229| 4.223682390372113| 47.87410983538535|\n|   target|   MA|    9066|4.8369733068607985| 48.41947827046116|\n+---------+-----+--------+------------------+------------------+\nonly showing top 20 rows\n"
     ]
    }
   ],
   "source": [
    "# 4. Análise por segmento de frequência\n",
    "df_agg_freq = (\n",
    "    df_analise_segmento.groupBy(\"is_target\", \"segmento_frequencia\")\n",
    "    .agg(\n",
    "        count(\"*\").alias(\"usuarios\"),\n",
    "        avg(\"num_pedidos\").alias(\"media_pedidos\"),\n",
    "        avg(\"ticket_medio\").alias(\"media_ticket\")\n",
    "    )\n",
    "    .orderBy(\"segmento_frequencia\", \"is_target\")\n",
    ")\n",
    "\n",
    "# 5. Análise por segmento de ticket\n",
    "df_agg_ticket = (\n",
    "    df_analise_segmento.groupBy(\"is_target\", \"segmento_ticket\")\n",
    "    .agg(\n",
    "        count(\"*\").alias(\"usuarios\"),\n",
    "        avg(\"num_pedidos\").alias(\"media_pedidos\"),\n",
    "        avg(\"ticket_medio\").alias(\"media_ticket\")\n",
    "    )\n",
    "    .orderBy(\"segmento_ticket\", \"is_target\")\n",
    ")\n",
    "\n",
    "# 6. Análise por estado \n",
    "df_agg_estado = (\n",
    "    df_analise_segmento.groupBy(\"is_target\", \"SG_UF\")\n",
    "    .agg(\n",
    "        count(\"*\").alias(\"usuarios\"),\n",
    "        avg(\"num_pedidos\").alias(\"media_pedidos\"),\n",
    "        avg(\"ticket_medio\").alias(\"media_ticket\")\n",
    "    )\n",
    "    .orderBy(\"SG_UF\", \"is_target\")\n",
    ")\n",
    "\n",
    "# 7. Exibir os resultados\n",
    "df_agg_freq.show()\n",
    "df_agg_ticket.show()\n",
    "df_agg_estado.show()"
   ]
  },
  {
   "cell_type": "code",
   "execution_count": 0,
   "metadata": {
    "application/vnd.databricks.v1+cell": {
     "cellMetadata": {
      "byteLimit": 2048000,
      "rowLimit": 10000
     },
     "inputWidgets": {},
     "nuid": "36d3710a-60d1-43cf-94f9-323fbdcd2d23",
     "showTitle": false,
     "tableResultSettingsMap": {},
     "title": ""
    }
   },
   "outputs": [
    {
     "output_type": "display_data",
     "data": {
      "text/html": [
       "<style scoped>\n",
       "  .table-result-container {\n",
       "    max-height: 300px;\n",
       "    overflow: auto;\n",
       "  }\n",
       "  table, th, td {\n",
       "    border: 1px solid black;\n",
       "    border-collapse: collapse;\n",
       "  }\n",
       "  th, td {\n",
       "    padding: 5px;\n",
       "  }\n",
       "  th {\n",
       "    text-align: left;\n",
       "  }\n",
       "</style><div class='table-result-container'><table class='table-result'><thead style='background-color: white'><tr><th>is_target</th><th>segmento_ticket</th><th>total_usuarios</th><th>usuarios_retidos</th><th>taxa_retencao</th></tr></thead><tbody><tr><td>control</td><td>alto</td><td>25008</td><td>18025</td><td>0.7207693538067819</td></tr><tr><td>target</td><td>alto</td><td>30468</td><td>23615</td><td>0.7750754890376789</td></tr><tr><td>control</td><td>baixo</td><td>69767</td><td>49915</td><td>0.7154528645348087</td></tr><tr><td>target</td><td>baixo</td><td>84399</td><td>64417</td><td>0.763243640327492</td></tr><tr><td>control</td><td>medio</td><td>161312</td><td>123077</td><td>0.7629748561793295</td></tr><tr><td>target</td><td>medio</td><td>201303</td><td>163320</td><td>0.8113142874174751</td></tr></tbody></table></div>"
      ]
     },
     "metadata": {
      "application/vnd.databricks.v1+output": {
       "addedWidgets": {},
       "aggData": [],
       "aggError": "",
       "aggOverflow": false,
       "aggSchema": [],
       "aggSeriesLimitReached": false,
       "aggType": "",
       "arguments": {},
       "columnCustomDisplayInfos": {},
       "data": [
        [
         "control",
         "alto",
         25008,
         18025,
         0.7207693538067819
        ],
        [
         "target",
         "alto",
         30468,
         23615,
         0.7750754890376789
        ],
        [
         "control",
         "baixo",
         69767,
         49915,
         0.7154528645348087
        ],
        [
         "target",
         "baixo",
         84399,
         64417,
         0.763243640327492
        ],
        [
         "control",
         "medio",
         161312,
         123077,
         0.7629748561793295
        ],
        [
         "target",
         "medio",
         201303,
         163320,
         0.8113142874174751
        ]
       ],
       "datasetInfos": [],
       "dbfsResultPath": null,
       "isJsonSchema": true,
       "metadata": {},
       "overflow": false,
       "plotOptions": {
        "customPlotOptions": {},
        "displayType": "table",
        "pivotAggregation": null,
        "pivotColumns": null,
        "xColumns": null,
        "yColumns": null
       },
       "removedWidgets": [],
       "schema": [
        {
         "metadata": "{}",
         "name": "is_target",
         "type": "\"string\""
        },
        {
         "metadata": "{}",
         "name": "segmento_ticket",
         "type": "\"string\""
        },
        {
         "metadata": "{}",
         "name": "total_usuarios",
         "type": "\"long\""
        },
        {
         "metadata": "{}",
         "name": "usuarios_retidos",
         "type": "\"long\""
        },
        {
         "metadata": "{}",
         "name": "taxa_retencao",
         "type": "\"double\""
        }
       ],
       "type": "table"
      }
     },
     "output_type": "display_data"
    }
   ],
   "source": [
    "df_retencao_ticket = (\n",
    "    df_analise_segmento.groupBy(\"is_target\", \"segmento_ticket\")\n",
    "    .agg(\n",
    "        count(\"*\").alias(\"total_usuarios\"),\n",
    "        sum(\"retido\").alias(\"usuarios_retidos\")\n",
    "    )\n",
    "    .withColumn(\"taxa_retencao\", col(\"usuarios_retidos\") / col(\"total_usuarios\"))\n",
    "    .orderBy(\"segmento_ticket\", \"is_target\")\n",
    ")\n",
    "display(df_retencao_ticket)"
   ]
  },
  {
   "cell_type": "code",
   "execution_count": 0,
   "metadata": {
    "application/vnd.databricks.v1+cell": {
     "cellMetadata": {
      "byteLimit": 2048000,
      "rowLimit": 10000
     },
     "inputWidgets": {},
     "nuid": "9e91cc00-270e-443d-bea3-881257928b22",
     "showTitle": false,
     "tableResultSettingsMap": {},
     "title": ""
    }
   },
   "outputs": [
    {
     "output_type": "stream",
     "name": "stderr",
     "output_type": "stream",
     "text": [
      "/home/spark-a4e21d08-09b7-4288-8d7e-a1/.ipykernel/2839/command-8657600291717930-946060459:22: UserWarning: Attempting to set identical low and high ylims makes transformation singular; automatically expanding.\n  plt.ylim(0, 0)\n"
     ]
    },
    {
     "output_type": "display_data",
     "data": {
      "image/png": "[encoded data removed]",
      "text/plain": [
       "<Figure size 800x500 with 1 Axes>"
      ]
     },
     "metadata": {},
     "output_type": "display_data"
    }
   ],
   "source": [
    "import seaborn as sns\n",
    "df_retencao_ticket_plot = df_retencao_ticket.toPandas()\n",
    "plt.figure(figsize=(8,5))\n",
    "sns.set_style(\"white\")\n",
    "\n",
    "barplot = sns.barplot(\n",
    "    data=df_retencao_ticket_plot,\n",
    "    x=\"segmento_ticket\",\n",
    "    y=\"taxa_retencao\",\n",
    "    hue=\"is_target\",\n",
    "    palette={\"control\":\"#53565A\", \"target\": \"#EA1D2C\"}\n",
    ")\n",
    "\n",
    "# Adicionando rótulos com 2 casas decimais\n",
    "for container in barplot.containers:\n",
    "    barplot.bar_label(container, labels=[f\"{v.get_height() * 100:.0f}%\" for v in container], fontsize=10, label_type='edge', padding=3)\n",
    "\n",
    "# Ajustes visuais\n",
    "plt.title(\"Taxa de Retenção por Segmento de Ticket Médio\", fontsize=12, weight='bold')\n",
    "plt.ylabel(\"Taxa de Retenção (%)\")\n",
    "plt.xlabel(\"Segmento de Ticket Médio\")\n",
    "plt.ylim(0, 0)\n",
    "plt.legend(title=\"Grupo\")\n",
    "\n",
    "# Formatar o eixo Y \n",
    "barplot.set_yticks([i/10 for i in range(0, 11)])\n",
    "barplot.set_yticklabels([f\"{int(i*100)}\" for i in barplot.get_yticks()])\n",
    "\n",
    "plt.tight_layout()\n",
    "plt.show()"
   ]
  },
  {
   "cell_type": "code",
   "execution_count": 0,
   "metadata": {
    "application/vnd.databricks.v1+cell": {
     "cellMetadata": {
      "byteLimit": 2048000,
      "rowLimit": 10000
     },
     "inputWidgets": {},
     "nuid": "dc2b8b87-aa2a-43ce-bdc3-faa9672e0ac6",
     "showTitle": false,
     "tableResultSettingsMap": {},
     "title": ""
    }
   },
   "outputs": [
    {
     "output_type": "display_data",
     "data": {
      "text/html": [
       "<style scoped>\n",
       "  .table-result-container {\n",
       "    max-height: 300px;\n",
       "    overflow: auto;\n",
       "  }\n",
       "  table, th, td {\n",
       "    border: 1px solid black;\n",
       "    border-collapse: collapse;\n",
       "  }\n",
       "  th, td {\n",
       "    padding: 5px;\n",
       "  }\n",
       "  th {\n",
       "    text-align: left;\n",
       "  }\n",
       "</style><div class='table-result-container'><table class='table-result'><thead style='background-color: white'><tr><th>is_target</th><th>SG_UF</th><th>total_usuarios</th><th>usuarios_retidos</th><th>taxa_retencao</th></tr></thead><tbody><tr><td>control</td><td>AC</td><td>3685</td><td>2836</td><td>0.769606512890095</td></tr><tr><td>target</td><td>AC</td><td>4454</td><td>3500</td><td>0.7858105074090705</td></tr><tr><td>control</td><td>AL</td><td>3607</td><td>2656</td><td>0.7363459939007485</td></tr><tr><td>target</td><td>AL</td><td>4388</td><td>3452</td><td>0.7866909753874203</td></tr><tr><td>control</td><td>AM</td><td>7061</td><td>5308</td><td>0.7517348817447953</td></tr><tr><td>target</td><td>AM</td><td>9014</td><td>7122</td><td>0.7901042822276458</td></tr><tr><td>control</td><td>AP</td><td>3630</td><td>2716</td><td>0.7482093663911846</td></tr><tr><td>target</td><td>AP</td><td>4437</td><td>3543</td><td>0.7985125084516566</td></tr><tr><td>control</td><td>BA</td><td>18190</td><td>13552</td><td>0.7450247388675096</td></tr><tr><td>target</td><td>BA</td><td>22322</td><td>17730</td><td>0.7942836663381417</td></tr><tr><td>control</td><td>CE</td><td>7371</td><td>5466</td><td>0.7415547415547415</td></tr><tr><td>target</td><td>CE</td><td>8824</td><td>6994</td><td>0.792611060743427</td></tr><tr><td>control</td><td>DF</td><td>3732</td><td>2801</td><td>0.7505359056806002</td></tr><tr><td>target</td><td>DF</td><td>4491</td><td>3552</td><td>0.7909151636606546</td></tr><tr><td>control</td><td>ES</td><td>7036</td><td>5307</td><td>0.754263786242183</td></tr><tr><td>target</td><td>ES</td><td>9031</td><td>7224</td><td>0.7999114162329753</td></tr><tr><td>control</td><td>GO</td><td>10956</td><td>8142</td><td>0.7431544359255202</td></tr><tr><td>target</td><td>GO</td><td>13604</td><td>10743</td><td>0.7896942075860042</td></tr><tr><td>control</td><td>MA</td><td>7229</td><td>5352</td><td>0.7403513625674367</td></tr><tr><td>target</td><td>MA</td><td>9066</td><td>7248</td><td>0.799470549305096</td></tr><tr><td>control</td><td>MG</td><td>24918</td><td>18546</td><td>0.744281242475319</td></tr><tr><td>target</td><td>MG</td><td>31298</td><td>24970</td><td>0.7978145568406927</td></tr><tr><td>control</td><td>MS</td><td>3574</td><td>2673</td><td>0.7479015109121433</td></tr><tr><td>target</td><td>MS</td><td>4361</td><td>3452</td><td>0.7915615684476037</td></tr><tr><td>control</td><td>MT</td><td>7200</td><td>5263</td><td>0.7309722222222222</td></tr><tr><td>target</td><td>MT</td><td>8746</td><td>6970</td><td>0.7969357420535101</td></tr><tr><td>control</td><td>PA</td><td>10768</td><td>8008</td><td>0.7436849925705795</td></tr><tr><td>target</td><td>PA</td><td>13384</td><td>10630</td><td>0.7942319187089062</td></tr><tr><td>control</td><td>PB</td><td>3643</td><td>2739</td><td>0.7518528685149602</td></tr><tr><td>target</td><td>PB</td><td>4411</td><td>3519</td><td>0.7977782815688053</td></tr><tr><td>control</td><td>PE</td><td>7255</td><td>5431</td><td>0.7485871812543073</td></tr><tr><td>target</td><td>PE</td><td>8998</td><td>7145</td><td>0.7940653478550789</td></tr><tr><td>control</td><td>PI</td><td>7206</td><td>5415</td><td>0.7514571190674438</td></tr><tr><td>target</td><td>PI</td><td>8944</td><td>7041</td><td>0.7872316636851521</td></tr><tr><td>control</td><td>PR</td><td>28939</td><td>21570</td><td>0.7453609316147759</td></tr><tr><td>target</td><td>PR</td><td>35555</td><td>28135</td><td>0.7913092392068626</td></tr><tr><td>control</td><td>RJ</td><td>10833</td><td>8113</td><td>0.7489153512415767</td></tr><tr><td>target</td><td>RJ</td><td>13414</td><td>10660</td><td>0.7946921127180557</td></tr><tr><td>control</td><td>RN</td><td>3618</td><td>2699</td><td>0.745992260917634</td></tr><tr><td>target</td><td>RN</td><td>4395</td><td>3559</td><td>0.8097838452787258</td></tr><tr><td>control</td><td>RO</td><td>3639</td><td>2709</td><td>0.7444352844187964</td></tr><tr><td>target</td><td>RO</td><td>4385</td><td>3495</td><td>0.7970353477765109</td></tr><tr><td>control</td><td>RR</td><td>3631</td><td>2712</td><td>0.7469016799779675</td></tr><tr><td>target</td><td>RR</td><td>4343</td><td>3450</td><td>0.7943817637577711</td></tr><tr><td>control</td><td>RS</td><td>14522</td><td>10825</td><td>0.7454207409447734</td></tr><tr><td>target</td><td>RS</td><td>17829</td><td>14221</td><td>0.7976330697178754</td></tr><tr><td>control</td><td>SC</td><td>14252</td><td>10637</td><td>0.7463513892786977</td></tr><tr><td>target</td><td>SC</td><td>17759</td><td>14093</td><td>0.7935694577397376</td></tr><tr><td>control</td><td>SE</td><td>3557</td><td>2664</td><td>0.748945740792803</td></tr><tr><td>target</td><td>SE</td><td>4388</td><td>3508</td><td>0.7994530537830447</td></tr><tr><td>control</td><td>SP</td><td>32454</td><td>24226</td><td>0.7464719295002157</td></tr><tr><td>target</td><td>SP</td><td>39931</td><td>31887</td><td>0.7985525030677919</td></tr><tr><td>control</td><td>TO</td><td>3581</td><td>2651</td><td>0.7402960067020385</td></tr><tr><td>target</td><td>TO</td><td>4398</td><td>3509</td><td>0.797862664847658</td></tr></tbody></table></div>"
      ]
     },
     "metadata": {
      "application/vnd.databricks.v1+output": {
       "addedWidgets": {},
       "aggData": [],
       "aggError": "",
       "aggOverflow": false,
       "aggSchema": [],
       "aggSeriesLimitReached": false,
       "aggType": "",
       "arguments": {},
       "columnCustomDisplayInfos": {},
       "data": [
        [
         "control",
         "AC",
         3685,
         2836,
         0.769606512890095
        ],
        [
         "target",
         "AC",
         4454,
         3500,
         0.7858105074090705
        ],
        [
         "control",
         "AL",
         3607,
         2656,
         0.7363459939007485
        ],
        [
         "target",
         "AL",
         4388,
         3452,
         0.7866909753874203
        ],
        [
         "control",
         "AM",
         7061,
         5308,
         0.7517348817447953
        ],
        [
         "target",
         "AM",
         9014,
         7122,
         0.7901042822276458
        ],
        [
         "control",
         "AP",
         3630,
         2716,
         0.7482093663911846
        ],
        [
         "target",
         "AP",
         4437,
         3543,
         0.7985125084516566
        ],
        [
         "control",
         "BA",
         18190,
         13552,
         0.7450247388675096
        ],
        [
         "target",
         "BA",
         22322,
         17730,
         0.7942836663381417
        ],
        [
         "control",
         "CE",
         7371,
         5466,
         0.7415547415547415
        ],
        [
         "target",
         "CE",
         8824,
         6994,
         0.792611060743427
        ],
        [
         "control",
         "DF",
         3732,
         2801,
         0.7505359056806002
        ],
        [
         "target",
         "DF",
         4491,
         3552,
         0.7909151636606546
        ],
        [
         "control",
         "ES",
         7036,
         5307,
         0.754263786242183
        ],
        [
         "target",
         "ES",
         9031,
         7224,
         0.7999114162329753
        ],
        [
         "control",
         "GO",
         10956,
         8142,
         0.7431544359255202
        ],
        [
         "target",
         "GO",
         13604,
         10743,
         0.7896942075860042
        ],
        [
         "control",
         "MA",
         7229,
         5352,
         0.7403513625674367
        ],
        [
         "target",
         "MA",
         9066,
         7248,
         0.799470549305096
        ],
        [
         "control",
         "MG",
         24918,
         18546,
         0.744281242475319
        ],
        [
         "target",
         "MG",
         31298,
         24970,
         0.7978145568406927
        ],
        [
         "control",
         "MS",
         3574,
         2673,
         0.7479015109121433
        ],
        [
         "target",
         "MS",
         4361,
         3452,
         0.7915615684476037
        ],
        [
         "control",
         "MT",
         7200,
         5263,
         0.7309722222222222
        ],
        [
         "target",
         "MT",
         8746,
         6970,
         0.7969357420535101
        ],
        [
         "control",
         "PA",
         10768,
         8008,
         0.7436849925705795
        ],
        [
         "target",
         "PA",
         13384,
         10630,
         0.7942319187089062
        ],
        [
         "control",
         "PB",
         3643,
         2739,
         0.7518528685149602
        ],
        [
         "target",
         "PB",
         4411,
         3519,
         0.7977782815688053
        ],
        [
         "control",
         "PE",
         7255,
         5431,
         0.7485871812543073
        ],
        [
         "target",
         "PE",
         8998,
         7145,
         0.7940653478550789
        ],
        [
         "control",
         "PI",
         7206,
         5415,
         0.7514571190674438
        ],
        [
         "target",
         "PI",
         8944,
         7041,
         0.7872316636851521
        ],
        [
         "control",
         "PR",
         28939,
         21570,
         0.7453609316147759
        ],
        [
         "target",
         "PR",
         35555,
         28135,
         0.7913092392068626
        ],
        [
         "control",
         "RJ",
         10833,
         8113,
         0.7489153512415767
        ],
        [
         "target",
         "RJ",
         13414,
         10660,
         0.7946921127180557
        ],
        [
         "control",
         "RN",
         3618,
         2699,
         0.745992260917634
        ],
        [
         "target",
         "RN",
         4395,
         3559,
         0.8097838452787258
        ],
        [
         "control",
         "RO",
         3639,
         2709,
         0.7444352844187964
        ],
        [
         "target",
         "RO",
         4385,
         3495,
         0.7970353477765109
        ],
        [
         "control",
         "RR",
         3631,
         2712,
         0.7469016799779675
        ],
        [
         "target",
         "RR",
         4343,
         3450,
         0.7943817637577711
        ],
        [
         "control",
         "RS",
         14522,
         10825,
         0.7454207409447734
        ],
        [
         "target",
         "RS",
         17829,
         14221,
         0.7976330697178754
        ],
        [
         "control",
         "SC",
         14252,
         10637,
         0.7463513892786977
        ],
        [
         "target",
         "SC",
         17759,
         14093,
         0.7935694577397376
        ],
        [
         "control",
         "SE",
         3557,
         2664,
         0.748945740792803
        ],
        [
         "target",
         "SE",
         4388,
         3508,
         0.7994530537830447
        ],
        [
         "control",
         "SP",
         32454,
         24226,
         0.7464719295002157
        ],
        [
         "target",
         "SP",
         39931,
         31887,
         0.7985525030677919
        ],
        [
         "control",
         "TO",
         3581,
         2651,
         0.7402960067020385
        ],
        [
         "target",
         "TO",
         4398,
         3509,
         0.797862664847658
        ]
       ],
       "datasetInfos": [],
       "dbfsResultPath": null,
       "isJsonSchema": true,
       "metadata": {},
       "overflow": false,
       "plotOptions": {
        "customPlotOptions": {},
        "displayType": "table",
        "pivotAggregation": null,
        "pivotColumns": null,
        "xColumns": null,
        "yColumns": null
       },
       "removedWidgets": [],
       "schema": [
        {
         "metadata": "{}",
         "name": "is_target",
         "type": "\"string\""
        },
        {
         "metadata": "{}",
         "name": "SG_UF",
         "type": "\"string\""
        },
        {
         "metadata": "{}",
         "name": "total_usuarios",
         "type": "\"long\""
        },
        {
         "metadata": "{}",
         "name": "usuarios_retidos",
         "type": "\"long\""
        },
        {
         "metadata": "{}",
         "name": "taxa_retencao",
         "type": "\"double\""
        }
       ],
       "type": "table"
      }
     },
     "output_type": "display_data"
    }
   ],
   "source": [
    "df_retencao_estado = (\n",
    "    df_analise_segmento.groupBy(\"is_target\", \"SG_UF\")\n",
    "    .agg(\n",
    "        count(\"*\").alias(\"total_usuarios\"),\n",
    "        sum(\"retido\").alias(\"usuarios_retidos\")\n",
    "    )\n",
    "    .withColumn(\"taxa_retencao\", col(\"usuarios_retidos\") / col(\"total_usuarios\"))\n",
    "    .orderBy(\"SG_UF\", \"is_target\")\n",
    ")\n",
    "display(df_retencao_estado)"
   ]
  },
  {
   "cell_type": "code",
   "execution_count": 0,
   "metadata": {
    "application/vnd.databricks.v1+cell": {
     "cellMetadata": {
      "byteLimit": 2048000,
      "rowLimit": 10000
     },
     "inputWidgets": {},
     "nuid": "fd65015b-0f3b-4acd-91f1-76151d7b6aca",
     "showTitle": false,
     "tableResultSettingsMap": {},
     "title": ""
    }
   },
   "outputs": [
    {
     "output_type": "stream",
     "name": "stderr",
     "output_type": "stream",
     "text": [
      "/home/spark-a4e21d08-09b7-4288-8d7e-a1/.ipykernel/2839/command-8657600291717932-855757026:21: UserWarning: Attempting to set identical low and high ylims makes transformation singular; automatically expanding.\n  plt.ylim(0, 0)\n"
     ]
    },
    {
     "output_type": "display_data",
     "data": {
      "image/png": "[encoded data removed]",
      "text/plain": [
       "<Figure size 2000x800 with 1 Axes>"
      ]
     },
     "metadata": {},
     "output_type": "display_data"
    }
   ],
   "source": [
    "df_retencao_estado_plot = df_retencao_estado.toPandas()\n",
    "plt.figure(figsize=(20,8))\n",
    "sns.set_style(\"white\")\n",
    "\n",
    "barplot = sns.barplot(\n",
    "    data=df_retencao_estado_plot,\n",
    "    x=\"SG_UF\",\n",
    "    y=\"taxa_retencao\",\n",
    "    hue=\"is_target\",\n",
    "    palette={\"control\":\"#53565A\", \"target\": \"#EA1D2C\"}\n",
    ")\n",
    "\n",
    "# Adicionando rótulos com 2 casas decimais\n",
    "for container in barplot.containers:\n",
    "    barplot.bar_label(container, labels=[f\"{v.get_height() * 100:.0f}%\" for v in container], fontsize=11, label_type='edge', padding=3)\n",
    "\n",
    "# Ajustes visuais\n",
    "plt.title(\"Taxa de Retenção por Estado (UF)\", fontsize=12, weight='bold')\n",
    "plt.ylabel(\"Taxa de Retenção (%)\")\n",
    "plt.xlabel(\"Estado (UF)\")\n",
    "plt.ylim(0, 0)\n",
    "plt.legend(title=\"Grupo\")\n",
    "\n",
    "# Formatar o eixo Y \n",
    "barplot.set_yticks([i/10 for i in range(0, 11)])\n",
    "barplot.set_yticklabels([f\"{int(i*100)}\" for i in barplot.get_yticks()])\n",
    "\n",
    "plt.tight_layout()\n",
    "plt.show()\n"
   ]
  },
  {
   "cell_type": "code",
   "execution_count": 0,
   "metadata": {
    "application/vnd.databricks.v1+cell": {
     "cellMetadata": {
      "byteLimit": 2048000,
      "rowLimit": 10000
     },
     "inputWidgets": {},
     "nuid": "95f2bed6-5cb4-4296-8236-73e6ffc8caad",
     "showTitle": false,
     "tableResultSettingsMap": {},
     "title": ""
    }
   },
   "outputs": [
    {
     "output_type": "stream",
     "name": "stdout",
     "output_type": "stream",
     "text": [
      "+--------------------+---------------+-----------+------------------+------+---------+\n|         customer_id|origin_platform|num_pedidos|      ticket_medio|retido|is_target|\n+--------------------+---------------+-----------+------------------+------+---------+\n|90b21ae861e2e5305...|            IOS|          1|              29.9|     0|  control|\n|2aeebac9b2e8a959e...|            IOS|          1|              24.9|     0|  control|\n|c4ba5dc6835b70ea2...|            IOS|          8|49.388749999999995|     1|   target|\n|cf9f2ff9f7a0d44cc...|            IOS|          1|              62.0|     0|  control|\n|040aa9668a39e9149...|            IOS|          3| 96.66666666666667|     1|   target|\n|665c68e58e08568ef...|        ANDROID|          4|              20.9|     1|  control|\n|9ed2aa1f8587f5bf0...|            IOS|          2|57.400000000000006|     1|   target|\n|4997130957c144f4a...|        ANDROID|         17| 46.21176470588235|     1|   target|\n|9f48d926e027fe2a3...|            IOS|         14|37.392857142857146|     1|  control|\n|af1deb146b27db1f3...|        ANDROID|          1|             212.5|     0|  control|\n+--------------------+---------------+-----------+------------------+------+---------+\nonly showing top 10 rows\n"
     ]
    }
   ],
   "source": [
    "#  Agregar dados de pedidos por cliente e plataforma\n",
    "df_pedido_agg = (\n",
    "    df_pedido.groupBy(\"customer_id\", \"origin_platform\")\n",
    "    .agg(\n",
    "        count(\"order_id\").alias(\"num_pedidos\"),\n",
    "        avg(\"order_total_amount\").alias(\"ticket_medio\")\n",
    "    )\n",
    ")\n",
    "#  Criar variável retido com base na lógica do case\n",
    "df_pedido_agg = df_pedido_agg.withColumn(\n",
    "    \"retido\",\n",
    "    when(col(\"num_pedidos\") > 1, 1).otherwise(0)\n",
    ")\n",
    "\n",
    "#  Juntar com grupo A/B\n",
    "df_avaliacao = (\n",
    "    df_pedido_agg.join(\n",
    "        df_teste,\n",
    "        on=\"customer_id\",\n",
    "        how=\"inner\"\n",
    "    )\n",
    ")\n",
    "\n",
    "df_avaliacao.show(10)"
   ]
  },
  {
   "cell_type": "code",
   "execution_count": 0,
   "metadata": {
    "application/vnd.databricks.v1+cell": {
     "cellMetadata": {
      "byteLimit": 2048000,
      "rowLimit": 10000
     },
     "inputWidgets": {},
     "nuid": "6f1254d0-f7ec-4428-925d-44baa583d81a",
     "showTitle": false,
     "tableResultSettingsMap": {},
     "title": ""
    }
   },
   "outputs": [
    {
     "output_type": "display_data",
     "data": {
      "text/html": [
       "<style scoped>\n",
       "  .table-result-container {\n",
       "    max-height: 300px;\n",
       "    overflow: auto;\n",
       "  }\n",
       "  table, th, td {\n",
       "    border: 1px solid black;\n",
       "    border-collapse: collapse;\n",
       "  }\n",
       "  th, td {\n",
       "    padding: 5px;\n",
       "  }\n",
       "  th {\n",
       "    text-align: left;\n",
       "  }\n",
       "</style><div class='table-result-container'><table class='table-result'><thead style='background-color: white'><tr><th>origin_platform</th><th>is_target</th><th>total_usuarios</th><th>usuarios_retidos</th><th>media_ticket</th><th>media_pedidos</th><th>taxa_retencao</th></tr></thead><tbody><tr><td>ANDROID</td><td>control</td><td>160257</td><td>117305</td><td>43.75063141030718</td><td>3.8150907604660014</td><td>0.7319805063117367</td></tr><tr><td>ANDROID</td><td>target</td><td>199259</td><td>154719</td><td>43.36057076578022</td><td>4.301732920470343</td><td>0.7764718281231965</td></tr><tr><td>DESKTOP</td><td>control</td><td>60764</td><td>42974</td><td>48.00693771302524</td><td>3.7391383055756697</td><td>0.7072279639260088</td></tr><tr><td>DESKTOP</td><td>target</td><td>75870</td><td>56461</td><td>47.95517966170673</td><td>4.200171345722947</td><td>0.7441808356399103</td></tr><tr><td>IOS</td><td>control</td><td>154441</td><td>117221</td><td>52.79002047990059</td><td>4.3713197920241385</td><td>0.7590018194650384</td></tr><tr><td>IOS</td><td>target</td><td>193998</td><td>156030</td><td>52.800985390876534</td><td>4.871132692089609</td><td>0.8042866421303312</td></tr><tr><td>WINDOWS_PHONE</td><td>control</td><td>3604</td><td>2444</td><td>40.09514453571282</td><td>3.291620421753607</td><td>0.6781354051054383</td></tr><tr><td>WINDOWS_PHONE</td><td>target</td><td>4524</td><td>3307</td><td>41.07414345130244</td><td>3.520999115826702</td><td>0.7309902740937224</td></tr></tbody></table></div>"
      ]
     },
     "metadata": {
      "application/vnd.databricks.v1+output": {
       "addedWidgets": {},
       "aggData": [],
       "aggError": "",
       "aggOverflow": false,
       "aggSchema": [],
       "aggSeriesLimitReached": false,
       "aggType": "",
       "arguments": {},
       "columnCustomDisplayInfos": {},
       "data": [
        [
         "ANDROID",
         "control",
         160257,
         117305,
         43.75063141030718,
         3.8150907604660014,
         0.7319805063117367
        ],
        [
         "ANDROID",
         "target",
         199259,
         154719,
         43.36057076578022,
         4.301732920470343,
         0.7764718281231965
        ],
        [
         "DESKTOP",
         "control",
         60764,
         42974,
         48.00693771302524,
         3.7391383055756697,
         0.7072279639260088
        ],
        [
         "DESKTOP",
         "target",
         75870,
         56461,
         47.95517966170673,
         4.200171345722947,
         0.7441808356399103
        ],
        [
         "IOS",
         "control",
         154441,
         117221,
         52.79002047990059,
         4.3713197920241385,
         0.7590018194650384
        ],
        [
         "IOS",
         "target",
         193998,
         156030,
         52.800985390876534,
         4.871132692089609,
         0.8042866421303312
        ],
        [
         "WINDOWS_PHONE",
         "control",
         3604,
         2444,
         40.09514453571282,
         3.291620421753607,
         0.6781354051054383
        ],
        [
         "WINDOWS_PHONE",
         "target",
         4524,
         3307,
         41.07414345130244,
         3.520999115826702,
         0.7309902740937224
        ]
       ],
       "datasetInfos": [],
       "dbfsResultPath": null,
       "isJsonSchema": true,
       "metadata": {},
       "overflow": false,
       "plotOptions": {
        "customPlotOptions": {},
        "displayType": "table",
        "pivotAggregation": null,
        "pivotColumns": null,
        "xColumns": null,
        "yColumns": null
       },
       "removedWidgets": [],
       "schema": [
        {
         "metadata": "{}",
         "name": "origin_platform",
         "type": "\"string\""
        },
        {
         "metadata": "{}",
         "name": "is_target",
         "type": "\"string\""
        },
        {
         "metadata": "{}",
         "name": "total_usuarios",
         "type": "\"long\""
        },
        {
         "metadata": "{}",
         "name": "usuarios_retidos",
         "type": "\"long\""
        },
        {
         "metadata": "{}",
         "name": "media_ticket",
         "type": "\"double\""
        },
        {
         "metadata": "{}",
         "name": "media_pedidos",
         "type": "\"double\""
        },
        {
         "metadata": "{}",
         "name": "taxa_retencao",
         "type": "\"double\""
        }
       ],
       "type": "table"
      }
     },
     "output_type": "display_data"
    }
   ],
   "source": [
    "# 4. Agregar por plataforma e grupo\n",
    "df_resultado = (\n",
    "    df_avaliacao.groupBy(\"origin_platform\", \"is_target\")\n",
    "    .agg(\n",
    "        count(\"*\").alias(\"total_usuarios\"),\n",
    "        sum(\"retido\").alias(\"usuarios_retidos\"),\n",
    "        avg(\"ticket_medio\").alias(\"media_ticket\"),\n",
    "        avg(\"num_pedidos\").alias(\"media_pedidos\")\n",
    "    )\n",
    "    .withColumn(\"taxa_retencao\", col(\"usuarios_retidos\") / col(\"total_usuarios\"))\n",
    "    .orderBy(\"origin_platform\", \"is_target\")\n",
    ")\n",
    "\n",
    "#remover linha null\n",
    "df_resultado = df_resultado.na.drop()\n",
    "\n",
    "display(df_resultado)"
   ]
  },
  {
   "cell_type": "code",
   "execution_count": 0,
   "metadata": {
    "application/vnd.databricks.v1+cell": {
     "cellMetadata": {
      "byteLimit": 2048000,
      "rowLimit": 10000
     },
     "inputWidgets": {},
     "nuid": "45662cc6-699f-46dd-9896-3bef0bc5db23",
     "showTitle": false,
     "tableResultSettingsMap": {},
     "title": ""
    }
   },
   "outputs": [
    {
     "output_type": "stream",
     "name": "stderr",
     "output_type": "stream",
     "text": [
      "/home/spark-a4e21d08-09b7-4288-8d7e-a1/.ipykernel/2839/command-8787584333253324-2716016978:21: UserWarning: Attempting to set identical low and high ylims makes transformation singular; automatically expanding.\n  plt.ylim(0, 0)\n"
     ]
    },
    {
     "output_type": "display_data",
     "data": {
      "image/png": "[encoded data removed]",
      "text/plain": [
       "<Figure size 1000x600 with 1 Axes>"
      ]
     },
     "metadata": {},
     "output_type": "display_data"
    }
   ],
   "source": [
    "df_resultado_plot = df_resultado.toPandas()\n",
    "plt.figure(figsize=(10,6))\n",
    "sns.set_style(\"white\")\n",
    "\n",
    "barplot = sns.barplot(\n",
    "    data=df_resultado_plot,\n",
    "    x=\"origin_platform\",\n",
    "    y=\"taxa_retencao\",\n",
    "    hue=\"is_target\",\n",
    "    palette={\"control\":\"#53565A\", \"target\": \"#EA1D2C\"}\n",
    ")\n",
    "\n",
    "# Adicionando rótulos com 2 casas decimais\n",
    "for container in barplot.containers:\n",
    "    barplot.bar_label(container, labels=[f\"{v.get_height() * 100:.0f}%\" for v in container], fontsize=10, label_type='edge', padding=3)\n",
    "\n",
    "# Ajustes visuais\n",
    "plt.title(\"Taxa de Retenção por Plataforma de Origem\", fontsize=12, weight='bold')\n",
    "plt.ylabel(\"Taxa de Retenção (%)\")\n",
    "plt.xlabel(\"Plataforma de Origem\")\n",
    "plt.ylim(0, 0)\n",
    "plt.legend(title=\"Grupo\")\n",
    "\n",
    "# Formatar o eixo Y \n",
    "barplot.set_yticks([i/10 for i in range(0, 11)])\n",
    "barplot.set_yticklabels([f\"{int(i*100)}\" for i in barplot.get_yticks()])\n",
    "\n",
    "plt.tight_layout()\n",
    "plt.show()"
   ]
  }
 ],
 "metadata": {
  "application/vnd.databricks.v1+notebook": {
   "computePreferences": null,
   "dashboards": [],
   "environmentMetadata": {
    "base_environment": "",
    "environment_version": "2"
   },
   "inputWidgetPreferences": null,
   "language": "python",
   "notebookMetadata": {
    "pythonIndentUnit": 4
   },
   "notebookName": "Case_pergunta_2",
   "widgets": {}
  },
  "language_info": {
   "name": "python"
  }
 },
 "nbformat": 4,
 "nbformat_minor": 0
}